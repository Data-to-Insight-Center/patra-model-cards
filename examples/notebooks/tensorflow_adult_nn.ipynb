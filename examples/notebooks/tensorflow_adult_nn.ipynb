{
 "cells": [
  {
   "cell_type": "code",
   "source": [
    "import numpy as np\n",
    "import pandas as pd\n",
    "import tensorflow as tf\n",
    "from sklearn.model_selection import train_test_split\n",
    "from sklearn.preprocessing import StandardScaler, LabelEncoder"
   ],
   "metadata": {
    "collapsed": false,
    "pycharm": {
     "name": "#%%\n"
    },
    "ExecuteTime": {
     "end_time": "2024-08-04T01:06:21.653725Z",
     "start_time": "2024-08-04T01:05:56.206855Z"
    }
   },
   "outputs": [
    {
     "name": "stderr",
     "output_type": "stream",
     "text": [
      "/Users/swithana/git/d2i/patra-toolkit/.venv/lib/python3.9/site-packages/urllib3/__init__.py:35: NotOpenSSLWarning: urllib3 v2 only supports OpenSSL 1.1.1+, currently the 'ssl' module is compiled with 'LibreSSL 2.8.3'. See: https://github.com/urllib3/urllib3/issues/3020\n",
      "  warnings.warn(\n"
     ]
    }
   ],
   "execution_count": 4
  },
  {
   "cell_type": "code",
   "source": [
    "!pip install tensorflow"
   ],
   "metadata": {
    "collapsed": false,
    "pycharm": {
     "name": "#%%\n"
    },
    "ExecuteTime": {
     "end_time": "2024-08-04T01:05:48.474139Z",
     "start_time": "2024-08-04T01:04:00.699980Z"
    }
   },
   "outputs": [
    {
     "name": "stdout",
     "output_type": "stream",
     "text": [
      "Collecting tensorflow\r\n",
      "  Downloading tensorflow-2.17.0-cp39-cp39-macosx_12_0_arm64.whl (236.1 MB)\r\n",
      "     |████████████████████████████████| 236.1 MB 195 kB/s             \r\n",
      "\u001B[?25hCollecting google-pasta>=0.1.1\r\n",
      "  Using cached google_pasta-0.2.0-py3-none-any.whl (57 kB)\r\n",
      "Requirement already satisfied: packaging in /Users/swithana/git/d2i/patra-toolkit/.venv/lib/python3.9/site-packages (from tensorflow) (24.1)\r\n",
      "Requirement already satisfied: numpy<2.0.0,>=1.23.5 in /Users/swithana/git/d2i/patra-toolkit/.venv/lib/python3.9/site-packages (from tensorflow) (1.26.4)\r\n",
      "Collecting astunparse>=1.6.0\r\n",
      "  Using cached astunparse-1.6.3-py2.py3-none-any.whl (12 kB)\r\n",
      "Collecting keras>=3.2.0\r\n",
      "  Downloading keras-3.4.1-py3-none-any.whl (1.1 MB)\r\n",
      "     |████████████████████████████████| 1.1 MB 8.2 MB/s            \r\n",
      "\u001B[?25hCollecting absl-py>=1.0.0\r\n",
      "  Using cached absl_py-2.1.0-py3-none-any.whl (133 kB)\r\n",
      "Collecting libclang>=13.0.0\r\n",
      "  Downloading libclang-18.1.1-1-py2.py3-none-macosx_11_0_arm64.whl (25.8 MB)\r\n",
      "     |████████████████████████████████| 25.8 MB 8.4 MB/s             \r\n",
      "\u001B[?25hCollecting tensorboard<2.18,>=2.17\r\n",
      "  Downloading tensorboard-2.17.0-py3-none-any.whl (5.5 MB)\r\n",
      "     |████████████████████████████████| 5.5 MB 9.9 MB/s            \r\n",
      "\u001B[?25hCollecting tensorflow-io-gcs-filesystem>=0.23.1\r\n",
      "  Downloading tensorflow_io_gcs_filesystem-0.37.1-cp39-cp39-macosx_12_0_arm64.whl (3.5 MB)\r\n",
      "     |████████████████████████████████| 3.5 MB 8.8 MB/s            \r\n",
      "\u001B[?25hRequirement already satisfied: typing-extensions>=3.6.6 in /Users/swithana/git/d2i/patra-toolkit/.venv/lib/python3.9/site-packages (from tensorflow) (4.12.2)\r\n",
      "Collecting flatbuffers>=24.3.25\r\n",
      "  Using cached flatbuffers-24.3.25-py2.py3-none-any.whl (26 kB)\r\n",
      "Requirement already satisfied: requests<3,>=2.21.0 in /Users/swithana/git/d2i/patra-toolkit/.venv/lib/python3.9/site-packages (from tensorflow) (2.32.3)\r\n",
      "Collecting ml-dtypes<0.5.0,>=0.3.1\r\n",
      "  Downloading ml_dtypes-0.4.0-cp39-cp39-macosx_10_9_universal2.whl (390 kB)\r\n",
      "     |████████████████████████████████| 390 kB 10.7 MB/s            \r\n",
      "\u001B[?25hRequirement already satisfied: six>=1.12.0 in /Users/swithana/git/d2i/patra-toolkit/.venv/lib/python3.9/site-packages (from tensorflow) (1.16.0)\r\n",
      "Collecting wrapt>=1.11.0\r\n",
      "  Using cached wrapt-1.16.0-cp39-cp39-macosx_11_0_arm64.whl (38 kB)\r\n",
      "Collecting gast!=0.5.0,!=0.5.1,!=0.5.2,>=0.2.1\r\n",
      "  Downloading gast-0.6.0-py3-none-any.whl (21 kB)\r\n",
      "Collecting grpcio<2.0,>=1.24.3\r\n",
      "  Downloading grpcio-1.65.4-cp39-cp39-macosx_10_9_universal2.whl (10.5 MB)\r\n",
      "     |████████████████████████████████| 10.5 MB 5.3 MB/s            \r\n",
      "\u001B[?25hRequirement already satisfied: setuptools in /Users/swithana/git/d2i/patra-toolkit/.venv/lib/python3.9/site-packages (from tensorflow) (60.2.0)\r\n",
      "Collecting opt-einsum>=2.3.2\r\n",
      "  Using cached opt_einsum-3.3.0-py3-none-any.whl (65 kB)\r\n",
      "Collecting protobuf!=4.21.0,!=4.21.1,!=4.21.2,!=4.21.3,!=4.21.4,!=4.21.5,<5.0.0dev,>=3.20.3\r\n",
      "  Downloading protobuf-4.25.4-cp37-abi3-macosx_10_9_universal2.whl (394 kB)\r\n",
      "     |████████████████████████████████| 394 kB 7.6 MB/s            \r\n",
      "\u001B[?25hCollecting h5py>=3.10.0\r\n",
      "  Downloading h5py-3.11.0-cp39-cp39-macosx_11_0_arm64.whl (3.0 MB)\r\n",
      "     |████████████████████████████████| 3.0 MB 12.5 MB/s            \r\n",
      "\u001B[?25hCollecting termcolor>=1.1.0\r\n",
      "  Using cached termcolor-2.4.0-py3-none-any.whl (7.7 kB)\r\n",
      "Requirement already satisfied: wheel<1.0,>=0.23.0 in /Users/swithana/git/d2i/patra-toolkit/.venv/lib/python3.9/site-packages (from astunparse>=1.6.0->tensorflow) (0.37.1)\r\n",
      "Collecting optree\r\n",
      "  Downloading optree-0.12.1-cp39-cp39-macosx_11_0_arm64.whl (282 kB)\r\n",
      "     |████████████████████████████████| 282 kB 3.3 MB/s            \r\n",
      "\u001B[?25hCollecting rich\r\n",
      "  Using cached rich-13.7.1-py3-none-any.whl (240 kB)\r\n",
      "Collecting namex\r\n",
      "  Downloading namex-0.0.8-py3-none-any.whl (5.8 kB)\r\n",
      "Requirement already satisfied: charset-normalizer<4,>=2 in /Users/swithana/git/d2i/patra-toolkit/.venv/lib/python3.9/site-packages (from requests<3,>=2.21.0->tensorflow) (3.3.2)\r\n",
      "Requirement already satisfied: certifi>=2017.4.17 in /Users/swithana/git/d2i/patra-toolkit/.venv/lib/python3.9/site-packages (from requests<3,>=2.21.0->tensorflow) (2024.6.2)\r\n",
      "Requirement already satisfied: idna<4,>=2.5 in /Users/swithana/git/d2i/patra-toolkit/.venv/lib/python3.9/site-packages (from requests<3,>=2.21.0->tensorflow) (3.7)\r\n",
      "Requirement already satisfied: urllib3<3,>=1.21.1 in /Users/swithana/git/d2i/patra-toolkit/.venv/lib/python3.9/site-packages (from requests<3,>=2.21.0->tensorflow) (2.2.2)\r\n",
      "Collecting tensorboard-data-server<0.8.0,>=0.7.0\r\n",
      "  Using cached tensorboard_data_server-0.7.2-py3-none-any.whl (2.4 kB)\r\n",
      "Collecting werkzeug>=1.0.1\r\n",
      "  Using cached werkzeug-3.0.3-py3-none-any.whl (227 kB)\r\n",
      "Collecting markdown>=2.6.8\r\n",
      "  Using cached Markdown-3.6-py3-none-any.whl (105 kB)\r\n",
      "Requirement already satisfied: importlib-metadata>=4.4 in /Users/swithana/git/d2i/patra-toolkit/.venv/lib/python3.9/site-packages (from markdown>=2.6.8->tensorboard<2.18,>=2.17->tensorflow) (7.2.1)\r\n",
      "Requirement already satisfied: MarkupSafe>=2.1.1 in /Users/swithana/git/d2i/patra-toolkit/.venv/lib/python3.9/site-packages (from werkzeug>=1.0.1->tensorboard<2.18,>=2.17->tensorflow) (2.1.5)\r\n",
      "Collecting markdown-it-py>=2.2.0\r\n",
      "  Using cached markdown_it_py-3.0.0-py3-none-any.whl (87 kB)\r\n",
      "Requirement already satisfied: pygments<3.0.0,>=2.13.0 in /Users/swithana/git/d2i/patra-toolkit/.venv/lib/python3.9/site-packages (from rich->keras>=3.2.0->tensorflow) (2.18.0)\r\n",
      "Requirement already satisfied: zipp>=0.5 in /Users/swithana/git/d2i/patra-toolkit/.venv/lib/python3.9/site-packages (from importlib-metadata>=4.4->markdown>=2.6.8->tensorboard<2.18,>=2.17->tensorflow) (3.19.2)\r\n",
      "Collecting mdurl~=0.1\r\n",
      "  Using cached mdurl-0.1.2-py3-none-any.whl (10.0 kB)\r\n",
      "Installing collected packages: mdurl, markdown-it-py, werkzeug, tensorboard-data-server, rich, protobuf, optree, namex, ml-dtypes, markdown, h5py, grpcio, absl-py, wrapt, termcolor, tensorflow-io-gcs-filesystem, tensorboard, opt-einsum, libclang, keras, google-pasta, gast, flatbuffers, astunparse, tensorflow\r\n",
      "Successfully installed absl-py-2.1.0 astunparse-1.6.3 flatbuffers-24.3.25 gast-0.6.0 google-pasta-0.2.0 grpcio-1.65.4 h5py-3.11.0 keras-3.4.1 libclang-18.1.1 markdown-3.6 markdown-it-py-3.0.0 mdurl-0.1.2 ml-dtypes-0.4.0 namex-0.0.8 opt-einsum-3.3.0 optree-0.12.1 protobuf-4.25.4 rich-13.7.1 tensorboard-2.17.0 tensorboard-data-server-0.7.2 tensorflow-2.17.0 tensorflow-io-gcs-filesystem-0.37.1 termcolor-2.4.0 werkzeug-3.0.3 wrapt-1.16.0\r\n",
      "\u001B[33mWARNING: You are using pip version 21.3.1; however, version 24.2 is available.\r\n",
      "You should consider upgrading via the '/Users/swithana/git/d2i/patra-toolkit/.venv/bin/python -m pip install --upgrade pip' command.\u001B[0m\r\n"
     ]
    }
   ],
   "execution_count": 3
  },
  {
   "cell_type": "code",
   "source": [
    "columns = [\"age\", \"workclass\", \"fnlwgt\", \"education\", \"education-num\", \"martial-status\",\n",
    "        \"occupation\", \"relationship\", \"race\", \"sex\", \"capital-gain\", \"capital-loss\",\n",
    "        \"hours-per-week\", \"native-country\", \"income\"]\n",
    "data = pd.read_csv('/Users/swithana/git/d2i/patra-toolkit/examples/notebooks/data/adult/adult.data', names=columns)"
   ],
   "metadata": {
    "collapsed": false,
    "pycharm": {
     "name": "#%%\n"
    },
    "ExecuteTime": {
     "end_time": "2024-08-04T01:09:36.283956Z",
     "start_time": "2024-08-04T01:09:36.240731Z"
    }
   },
   "outputs": [],
   "execution_count": 11
  },
  {
   "cell_type": "code",
   "source": [
    "data.head()"
   ],
   "metadata": {
    "collapsed": false,
    "pycharm": {
     "name": "#%%\n"
    },
    "ExecuteTime": {
     "end_time": "2024-08-04T01:09:37.095026Z",
     "start_time": "2024-08-04T01:09:37.086382Z"
    }
   },
   "outputs": [
    {
     "data": {
      "text/plain": [
       "   age          workclass  fnlwgt   education  education-num  \\\n",
       "0   39          State-gov   77516   Bachelors             13   \n",
       "1   50   Self-emp-not-inc   83311   Bachelors             13   \n",
       "2   38            Private  215646     HS-grad              9   \n",
       "3   53            Private  234721        11th              7   \n",
       "4   28            Private  338409   Bachelors             13   \n",
       "\n",
       "        martial-status          occupation    relationship    race      sex  \\\n",
       "0        Never-married        Adm-clerical   Not-in-family   White     Male   \n",
       "1   Married-civ-spouse     Exec-managerial         Husband   White     Male   \n",
       "2             Divorced   Handlers-cleaners   Not-in-family   White     Male   \n",
       "3   Married-civ-spouse   Handlers-cleaners         Husband   Black     Male   \n",
       "4   Married-civ-spouse      Prof-specialty            Wife   Black   Female   \n",
       "\n",
       "   capital-gain  capital-loss  hours-per-week  native-country  income  \n",
       "0          2174             0              40   United-States   <=50K  \n",
       "1             0             0              13   United-States   <=50K  \n",
       "2             0             0              40   United-States   <=50K  \n",
       "3             0             0              40   United-States   <=50K  \n",
       "4             0             0              40            Cuba   <=50K  "
      ],
      "text/html": [
       "<div>\n",
       "<style scoped>\n",
       "    .dataframe tbody tr th:only-of-type {\n",
       "        vertical-align: middle;\n",
       "    }\n",
       "\n",
       "    .dataframe tbody tr th {\n",
       "        vertical-align: top;\n",
       "    }\n",
       "\n",
       "    .dataframe thead th {\n",
       "        text-align: right;\n",
       "    }\n",
       "</style>\n",
       "<table border=\"1\" class=\"dataframe\">\n",
       "  <thead>\n",
       "    <tr style=\"text-align: right;\">\n",
       "      <th></th>\n",
       "      <th>age</th>\n",
       "      <th>workclass</th>\n",
       "      <th>fnlwgt</th>\n",
       "      <th>education</th>\n",
       "      <th>education-num</th>\n",
       "      <th>martial-status</th>\n",
       "      <th>occupation</th>\n",
       "      <th>relationship</th>\n",
       "      <th>race</th>\n",
       "      <th>sex</th>\n",
       "      <th>capital-gain</th>\n",
       "      <th>capital-loss</th>\n",
       "      <th>hours-per-week</th>\n",
       "      <th>native-country</th>\n",
       "      <th>income</th>\n",
       "    </tr>\n",
       "  </thead>\n",
       "  <tbody>\n",
       "    <tr>\n",
       "      <th>0</th>\n",
       "      <td>39</td>\n",
       "      <td>State-gov</td>\n",
       "      <td>77516</td>\n",
       "      <td>Bachelors</td>\n",
       "      <td>13</td>\n",
       "      <td>Never-married</td>\n",
       "      <td>Adm-clerical</td>\n",
       "      <td>Not-in-family</td>\n",
       "      <td>White</td>\n",
       "      <td>Male</td>\n",
       "      <td>2174</td>\n",
       "      <td>0</td>\n",
       "      <td>40</td>\n",
       "      <td>United-States</td>\n",
       "      <td>&lt;=50K</td>\n",
       "    </tr>\n",
       "    <tr>\n",
       "      <th>1</th>\n",
       "      <td>50</td>\n",
       "      <td>Self-emp-not-inc</td>\n",
       "      <td>83311</td>\n",
       "      <td>Bachelors</td>\n",
       "      <td>13</td>\n",
       "      <td>Married-civ-spouse</td>\n",
       "      <td>Exec-managerial</td>\n",
       "      <td>Husband</td>\n",
       "      <td>White</td>\n",
       "      <td>Male</td>\n",
       "      <td>0</td>\n",
       "      <td>0</td>\n",
       "      <td>13</td>\n",
       "      <td>United-States</td>\n",
       "      <td>&lt;=50K</td>\n",
       "    </tr>\n",
       "    <tr>\n",
       "      <th>2</th>\n",
       "      <td>38</td>\n",
       "      <td>Private</td>\n",
       "      <td>215646</td>\n",
       "      <td>HS-grad</td>\n",
       "      <td>9</td>\n",
       "      <td>Divorced</td>\n",
       "      <td>Handlers-cleaners</td>\n",
       "      <td>Not-in-family</td>\n",
       "      <td>White</td>\n",
       "      <td>Male</td>\n",
       "      <td>0</td>\n",
       "      <td>0</td>\n",
       "      <td>40</td>\n",
       "      <td>United-States</td>\n",
       "      <td>&lt;=50K</td>\n",
       "    </tr>\n",
       "    <tr>\n",
       "      <th>3</th>\n",
       "      <td>53</td>\n",
       "      <td>Private</td>\n",
       "      <td>234721</td>\n",
       "      <td>11th</td>\n",
       "      <td>7</td>\n",
       "      <td>Married-civ-spouse</td>\n",
       "      <td>Handlers-cleaners</td>\n",
       "      <td>Husband</td>\n",
       "      <td>Black</td>\n",
       "      <td>Male</td>\n",
       "      <td>0</td>\n",
       "      <td>0</td>\n",
       "      <td>40</td>\n",
       "      <td>United-States</td>\n",
       "      <td>&lt;=50K</td>\n",
       "    </tr>\n",
       "    <tr>\n",
       "      <th>4</th>\n",
       "      <td>28</td>\n",
       "      <td>Private</td>\n",
       "      <td>338409</td>\n",
       "      <td>Bachelors</td>\n",
       "      <td>13</td>\n",
       "      <td>Married-civ-spouse</td>\n",
       "      <td>Prof-specialty</td>\n",
       "      <td>Wife</td>\n",
       "      <td>Black</td>\n",
       "      <td>Female</td>\n",
       "      <td>0</td>\n",
       "      <td>0</td>\n",
       "      <td>40</td>\n",
       "      <td>Cuba</td>\n",
       "      <td>&lt;=50K</td>\n",
       "    </tr>\n",
       "  </tbody>\n",
       "</table>\n",
       "</div>"
      ]
     },
     "execution_count": 12,
     "metadata": {},
     "output_type": "execute_result"
    }
   ],
   "execution_count": 12
  },
  {
   "cell_type": "markdown",
   "source": [
    "### Pre-processing"
   ],
   "metadata": {
    "collapsed": false,
    "pycharm": {
     "name": "#%% md\n"
    }
   }
  },
  {
   "cell_type": "code",
   "source": [
    "label_encoder = LabelEncoder()\n",
    "data['income'] = label_encoder.fit_transform(data['income'])\n",
    "\n",
    "# Convert categorical variables to one-hot encoding\n",
    "data = pd.get_dummies(data, drop_first=True, dtype=float)\n",
    "\n",
    "data.head()"
   ],
   "metadata": {
    "collapsed": false,
    "pycharm": {
     "name": "#%%\n"
    },
    "ExecuteTime": {
     "end_time": "2024-08-04T01:09:38.180543Z",
     "start_time": "2024-08-04T01:09:38.138943Z"
    }
   },
   "outputs": [
    {
     "data": {
      "text/plain": [
       "   age  fnlwgt  education-num  capital-gain  capital-loss  hours-per-week  \\\n",
       "0   39   77516             13          2174             0              40   \n",
       "1   50   83311             13             0             0              13   \n",
       "2   38  215646              9             0             0              40   \n",
       "3   53  234721              7             0             0              40   \n",
       "4   28  338409             13             0             0              40   \n",
       "\n",
       "   income  workclass_ Federal-gov  workclass_ Local-gov  \\\n",
       "0       0                     0.0                   0.0   \n",
       "1       0                     0.0                   0.0   \n",
       "2       0                     0.0                   0.0   \n",
       "3       0                     0.0                   0.0   \n",
       "4       0                     0.0                   0.0   \n",
       "\n",
       "   workclass_ Never-worked  ...  native-country_ Portugal  \\\n",
       "0                      0.0  ...                       0.0   \n",
       "1                      0.0  ...                       0.0   \n",
       "2                      0.0  ...                       0.0   \n",
       "3                      0.0  ...                       0.0   \n",
       "4                      0.0  ...                       0.0   \n",
       "\n",
       "   native-country_ Puerto-Rico  native-country_ Scotland  \\\n",
       "0                          0.0                       0.0   \n",
       "1                          0.0                       0.0   \n",
       "2                          0.0                       0.0   \n",
       "3                          0.0                       0.0   \n",
       "4                          0.0                       0.0   \n",
       "\n",
       "   native-country_ South  native-country_ Taiwan  native-country_ Thailand  \\\n",
       "0                    0.0                     0.0                       0.0   \n",
       "1                    0.0                     0.0                       0.0   \n",
       "2                    0.0                     0.0                       0.0   \n",
       "3                    0.0                     0.0                       0.0   \n",
       "4                    0.0                     0.0                       0.0   \n",
       "\n",
       "   native-country_ Trinadad&Tobago  native-country_ United-States  \\\n",
       "0                              0.0                            1.0   \n",
       "1                              0.0                            1.0   \n",
       "2                              0.0                            1.0   \n",
       "3                              0.0                            1.0   \n",
       "4                              0.0                            0.0   \n",
       "\n",
       "   native-country_ Vietnam  native-country_ Yugoslavia  \n",
       "0                      0.0                         0.0  \n",
       "1                      0.0                         0.0  \n",
       "2                      0.0                         0.0  \n",
       "3                      0.0                         0.0  \n",
       "4                      0.0                         0.0  \n",
       "\n",
       "[5 rows x 101 columns]"
      ],
      "text/html": [
       "<div>\n",
       "<style scoped>\n",
       "    .dataframe tbody tr th:only-of-type {\n",
       "        vertical-align: middle;\n",
       "    }\n",
       "\n",
       "    .dataframe tbody tr th {\n",
       "        vertical-align: top;\n",
       "    }\n",
       "\n",
       "    .dataframe thead th {\n",
       "        text-align: right;\n",
       "    }\n",
       "</style>\n",
       "<table border=\"1\" class=\"dataframe\">\n",
       "  <thead>\n",
       "    <tr style=\"text-align: right;\">\n",
       "      <th></th>\n",
       "      <th>age</th>\n",
       "      <th>fnlwgt</th>\n",
       "      <th>education-num</th>\n",
       "      <th>capital-gain</th>\n",
       "      <th>capital-loss</th>\n",
       "      <th>hours-per-week</th>\n",
       "      <th>income</th>\n",
       "      <th>workclass_ Federal-gov</th>\n",
       "      <th>workclass_ Local-gov</th>\n",
       "      <th>workclass_ Never-worked</th>\n",
       "      <th>...</th>\n",
       "      <th>native-country_ Portugal</th>\n",
       "      <th>native-country_ Puerto-Rico</th>\n",
       "      <th>native-country_ Scotland</th>\n",
       "      <th>native-country_ South</th>\n",
       "      <th>native-country_ Taiwan</th>\n",
       "      <th>native-country_ Thailand</th>\n",
       "      <th>native-country_ Trinadad&amp;Tobago</th>\n",
       "      <th>native-country_ United-States</th>\n",
       "      <th>native-country_ Vietnam</th>\n",
       "      <th>native-country_ Yugoslavia</th>\n",
       "    </tr>\n",
       "  </thead>\n",
       "  <tbody>\n",
       "    <tr>\n",
       "      <th>0</th>\n",
       "      <td>39</td>\n",
       "      <td>77516</td>\n",
       "      <td>13</td>\n",
       "      <td>2174</td>\n",
       "      <td>0</td>\n",
       "      <td>40</td>\n",
       "      <td>0</td>\n",
       "      <td>0.0</td>\n",
       "      <td>0.0</td>\n",
       "      <td>0.0</td>\n",
       "      <td>...</td>\n",
       "      <td>0.0</td>\n",
       "      <td>0.0</td>\n",
       "      <td>0.0</td>\n",
       "      <td>0.0</td>\n",
       "      <td>0.0</td>\n",
       "      <td>0.0</td>\n",
       "      <td>0.0</td>\n",
       "      <td>1.0</td>\n",
       "      <td>0.0</td>\n",
       "      <td>0.0</td>\n",
       "    </tr>\n",
       "    <tr>\n",
       "      <th>1</th>\n",
       "      <td>50</td>\n",
       "      <td>83311</td>\n",
       "      <td>13</td>\n",
       "      <td>0</td>\n",
       "      <td>0</td>\n",
       "      <td>13</td>\n",
       "      <td>0</td>\n",
       "      <td>0.0</td>\n",
       "      <td>0.0</td>\n",
       "      <td>0.0</td>\n",
       "      <td>...</td>\n",
       "      <td>0.0</td>\n",
       "      <td>0.0</td>\n",
       "      <td>0.0</td>\n",
       "      <td>0.0</td>\n",
       "      <td>0.0</td>\n",
       "      <td>0.0</td>\n",
       "      <td>0.0</td>\n",
       "      <td>1.0</td>\n",
       "      <td>0.0</td>\n",
       "      <td>0.0</td>\n",
       "    </tr>\n",
       "    <tr>\n",
       "      <th>2</th>\n",
       "      <td>38</td>\n",
       "      <td>215646</td>\n",
       "      <td>9</td>\n",
       "      <td>0</td>\n",
       "      <td>0</td>\n",
       "      <td>40</td>\n",
       "      <td>0</td>\n",
       "      <td>0.0</td>\n",
       "      <td>0.0</td>\n",
       "      <td>0.0</td>\n",
       "      <td>...</td>\n",
       "      <td>0.0</td>\n",
       "      <td>0.0</td>\n",
       "      <td>0.0</td>\n",
       "      <td>0.0</td>\n",
       "      <td>0.0</td>\n",
       "      <td>0.0</td>\n",
       "      <td>0.0</td>\n",
       "      <td>1.0</td>\n",
       "      <td>0.0</td>\n",
       "      <td>0.0</td>\n",
       "    </tr>\n",
       "    <tr>\n",
       "      <th>3</th>\n",
       "      <td>53</td>\n",
       "      <td>234721</td>\n",
       "      <td>7</td>\n",
       "      <td>0</td>\n",
       "      <td>0</td>\n",
       "      <td>40</td>\n",
       "      <td>0</td>\n",
       "      <td>0.0</td>\n",
       "      <td>0.0</td>\n",
       "      <td>0.0</td>\n",
       "      <td>...</td>\n",
       "      <td>0.0</td>\n",
       "      <td>0.0</td>\n",
       "      <td>0.0</td>\n",
       "      <td>0.0</td>\n",
       "      <td>0.0</td>\n",
       "      <td>0.0</td>\n",
       "      <td>0.0</td>\n",
       "      <td>1.0</td>\n",
       "      <td>0.0</td>\n",
       "      <td>0.0</td>\n",
       "    </tr>\n",
       "    <tr>\n",
       "      <th>4</th>\n",
       "      <td>28</td>\n",
       "      <td>338409</td>\n",
       "      <td>13</td>\n",
       "      <td>0</td>\n",
       "      <td>0</td>\n",
       "      <td>40</td>\n",
       "      <td>0</td>\n",
       "      <td>0.0</td>\n",
       "      <td>0.0</td>\n",
       "      <td>0.0</td>\n",
       "      <td>...</td>\n",
       "      <td>0.0</td>\n",
       "      <td>0.0</td>\n",
       "      <td>0.0</td>\n",
       "      <td>0.0</td>\n",
       "      <td>0.0</td>\n",
       "      <td>0.0</td>\n",
       "      <td>0.0</td>\n",
       "      <td>0.0</td>\n",
       "      <td>0.0</td>\n",
       "      <td>0.0</td>\n",
       "    </tr>\n",
       "  </tbody>\n",
       "</table>\n",
       "<p>5 rows × 101 columns</p>\n",
       "</div>"
      ]
     },
     "execution_count": 13,
     "metadata": {},
     "output_type": "execute_result"
    }
   ],
   "execution_count": 13
  },
  {
   "cell_type": "code",
   "source": [
    "X = data.drop('income', axis=1).values\n",
    "y = data['income'].values\n",
    "\n",
    "print(data.columns.tolist())"
   ],
   "metadata": {
    "collapsed": false,
    "pycharm": {
     "name": "#%%\n"
    },
    "ExecuteTime": {
     "end_time": "2024-08-04T01:09:38.445085Z",
     "start_time": "2024-08-04T01:09:38.435260Z"
    }
   },
   "outputs": [
    {
     "name": "stdout",
     "output_type": "stream",
     "text": [
      "['age', 'fnlwgt', 'education-num', 'capital-gain', 'capital-loss', 'hours-per-week', 'income', 'workclass_ Federal-gov', 'workclass_ Local-gov', 'workclass_ Never-worked', 'workclass_ Private', 'workclass_ Self-emp-inc', 'workclass_ Self-emp-not-inc', 'workclass_ State-gov', 'workclass_ Without-pay', 'education_ 11th', 'education_ 12th', 'education_ 1st-4th', 'education_ 5th-6th', 'education_ 7th-8th', 'education_ 9th', 'education_ Assoc-acdm', 'education_ Assoc-voc', 'education_ Bachelors', 'education_ Doctorate', 'education_ HS-grad', 'education_ Masters', 'education_ Preschool', 'education_ Prof-school', 'education_ Some-college', 'martial-status_ Married-AF-spouse', 'martial-status_ Married-civ-spouse', 'martial-status_ Married-spouse-absent', 'martial-status_ Never-married', 'martial-status_ Separated', 'martial-status_ Widowed', 'occupation_ Adm-clerical', 'occupation_ Armed-Forces', 'occupation_ Craft-repair', 'occupation_ Exec-managerial', 'occupation_ Farming-fishing', 'occupation_ Handlers-cleaners', 'occupation_ Machine-op-inspct', 'occupation_ Other-service', 'occupation_ Priv-house-serv', 'occupation_ Prof-specialty', 'occupation_ Protective-serv', 'occupation_ Sales', 'occupation_ Tech-support', 'occupation_ Transport-moving', 'relationship_ Not-in-family', 'relationship_ Other-relative', 'relationship_ Own-child', 'relationship_ Unmarried', 'relationship_ Wife', 'race_ Asian-Pac-Islander', 'race_ Black', 'race_ Other', 'race_ White', 'sex_ Male', 'native-country_ Cambodia', 'native-country_ Canada', 'native-country_ China', 'native-country_ Columbia', 'native-country_ Cuba', 'native-country_ Dominican-Republic', 'native-country_ Ecuador', 'native-country_ El-Salvador', 'native-country_ England', 'native-country_ France', 'native-country_ Germany', 'native-country_ Greece', 'native-country_ Guatemala', 'native-country_ Haiti', 'native-country_ Holand-Netherlands', 'native-country_ Honduras', 'native-country_ Hong', 'native-country_ Hungary', 'native-country_ India', 'native-country_ Iran', 'native-country_ Ireland', 'native-country_ Italy', 'native-country_ Jamaica', 'native-country_ Japan', 'native-country_ Laos', 'native-country_ Mexico', 'native-country_ Nicaragua', 'native-country_ Outlying-US(Guam-USVI-etc)', 'native-country_ Peru', 'native-country_ Philippines', 'native-country_ Poland', 'native-country_ Portugal', 'native-country_ Puerto-Rico', 'native-country_ Scotland', 'native-country_ South', 'native-country_ Taiwan', 'native-country_ Thailand', 'native-country_ Trinadad&Tobago', 'native-country_ United-States', 'native-country_ Vietnam', 'native-country_ Yugoslavia']\n"
     ]
    }
   ],
   "execution_count": 14
  },
  {
   "cell_type": "code",
   "source": [
    "X_train, X_test, y_train, y_test = train_test_split(X, y, test_size=0.2, random_state=42)"
   ],
   "metadata": {
    "collapsed": false,
    "pycharm": {
     "name": "#%%\n"
    },
    "ExecuteTime": {
     "end_time": "2024-08-04T01:09:38.739207Z",
     "start_time": "2024-08-04T01:09:38.721450Z"
    }
   },
   "outputs": [],
   "execution_count": 15
  },
  {
   "metadata": {
    "ExecuteTime": {
     "end_time": "2024-08-04T01:09:39.016834Z",
     "start_time": "2024-08-04T01:09:39.013816Z"
    }
   },
   "cell_type": "code",
   "source": "X_train.shape",
   "outputs": [
    {
     "data": {
      "text/plain": [
       "(26048, 100)"
      ]
     },
     "execution_count": 16,
     "metadata": {},
     "output_type": "execute_result"
    }
   ],
   "execution_count": 16
  },
  {
   "cell_type": "markdown",
   "source": [
    "### Model Training"
   ],
   "metadata": {
    "collapsed": false,
    "pycharm": {
     "name": "#%% md\n"
    }
   }
  },
  {
   "cell_type": "code",
   "source": [
    "model = tf.keras.Sequential([\n",
    "    tf.keras.layers.Input(shape=(X_train.shape[1],)),\n",
    "    tf.keras.layers.Dense(64, activation='relu'),\n",
    "    tf.keras.layers.Dense(128, activation='relu'),\n",
    "    tf.keras.layers.Dense(64, activation='relu'),\n",
    "    tf.keras.layers.Dense(1, activation='sigmoid')\n",
    "])\n",
    "optimizer = tf.keras.optimizers.Adam(learning_rate=0.001)\n",
    "\n",
    "model.compile(optimizer=optimizer, loss='binary_crossentropy', metrics=['accuracy'])"
   ],
   "metadata": {
    "collapsed": false,
    "pycharm": {
     "name": "#%%\n"
    },
    "ExecuteTime": {
     "end_time": "2024-08-04T01:09:39.694583Z",
     "start_time": "2024-08-04T01:09:39.645951Z"
    }
   },
   "outputs": [],
   "execution_count": 17
  },
  {
   "cell_type": "code",
   "source": [
    "early_stopping = tf.keras.callbacks.EarlyStopping(monitor='loss', patience=3)\n",
    "\n",
    "model.fit(X_train, y_train, epochs=100, batch_size=32, validation_split=0.1, callbacks=[early_stopping])"
   ],
   "metadata": {
    "collapsed": false,
    "pycharm": {
     "name": "#%%\n"
    },
    "ExecuteTime": {
     "end_time": "2024-08-04T01:09:45.841953Z",
     "start_time": "2024-08-04T01:09:40.232632Z"
    }
   },
   "outputs": [
    {
     "name": "stdout",
     "output_type": "stream",
     "text": [
      "Epoch 1/100\n",
      "\u001B[1m733/733\u001B[0m \u001B[32m━━━━━━━━━━━━━━━━━━━━\u001B[0m\u001B[37m\u001B[0m \u001B[1m1s\u001B[0m 761us/step - accuracy: 0.6675 - loss: 361.8469 - val_accuracy: 0.7962 - val_loss: 24.4055\n",
      "Epoch 2/100\n",
      "\u001B[1m733/733\u001B[0m \u001B[32m━━━━━━━━━━━━━━━━━━━━\u001B[0m\u001B[37m\u001B[0m \u001B[1m1s\u001B[0m 670us/step - accuracy: 0.6817 - loss: 62.9709 - val_accuracy: 0.2365 - val_loss: 49.0239\n",
      "Epoch 3/100\n",
      "\u001B[1m733/733\u001B[0m \u001B[32m━━━━━━━━━━━━━━━━━━━━\u001B[0m\u001B[37m\u001B[0m \u001B[1m1s\u001B[0m 676us/step - accuracy: 0.6822 - loss: 44.8759 - val_accuracy: 0.8038 - val_loss: 11.0617\n",
      "Epoch 4/100\n",
      "\u001B[1m733/733\u001B[0m \u001B[32m━━━━━━━━━━━━━━━━━━━━\u001B[0m\u001B[37m\u001B[0m \u001B[1m0s\u001B[0m 654us/step - accuracy: 0.6800 - loss: 16.7722 - val_accuracy: 0.7996 - val_loss: 6.2789\n",
      "Epoch 5/100\n",
      "\u001B[1m733/733\u001B[0m \u001B[32m━━━━━━━━━━━━━━━━━━━━\u001B[0m\u001B[37m\u001B[0m \u001B[1m0s\u001B[0m 662us/step - accuracy: 0.6921 - loss: 8.5711 - val_accuracy: 0.7850 - val_loss: 1.2185\n",
      "Epoch 6/100\n",
      "\u001B[1m733/733\u001B[0m \u001B[32m━━━━━━━━━━━━━━━━━━━━\u001B[0m\u001B[37m\u001B[0m \u001B[1m0s\u001B[0m 661us/step - accuracy: 0.7102 - loss: 2.3004 - val_accuracy: 0.7919 - val_loss: 0.5654\n",
      "Epoch 7/100\n",
      "\u001B[1m733/733\u001B[0m \u001B[32m━━━━━━━━━━━━━━━━━━━━\u001B[0m\u001B[37m\u001B[0m \u001B[1m1s\u001B[0m 735us/step - accuracy: 0.7441 - loss: 0.7266 - val_accuracy: 0.3225 - val_loss: 1.0566\n",
      "Epoch 8/100\n",
      "\u001B[1m733/733\u001B[0m \u001B[32m━━━━━━━━━━━━━━━━━━━━\u001B[0m\u001B[37m\u001B[0m \u001B[1m0s\u001B[0m 646us/step - accuracy: 0.7169 - loss: 2.1522 - val_accuracy: 0.7893 - val_loss: 0.5112\n",
      "Epoch 9/100\n",
      "\u001B[1m733/733\u001B[0m \u001B[32m━━━━━━━━━━━━━━━━━━━━\u001B[0m\u001B[37m\u001B[0m \u001B[1m0s\u001B[0m 651us/step - accuracy: 0.7611 - loss: 0.6889 - val_accuracy: 0.8031 - val_loss: 1.0694\n",
      "Epoch 10/100\n",
      "\u001B[1m733/733\u001B[0m \u001B[32m━━━━━━━━━━━━━━━━━━━━\u001B[0m\u001B[37m\u001B[0m \u001B[1m0s\u001B[0m 657us/step - accuracy: 0.7380 - loss: 1.2343 - val_accuracy: 0.8169 - val_loss: 0.4993\n"
     ]
    },
    {
     "data": {
      "text/plain": [
       "<keras.src.callbacks.history.History at 0x326d6fb80>"
      ]
     },
     "execution_count": 18,
     "metadata": {},
     "output_type": "execute_result"
    }
   ],
   "execution_count": 18
  },
  {
   "cell_type": "code",
   "source": "loss, accuracy = model.evaluate(X_test, y_test)",
   "metadata": {
    "collapsed": false,
    "pycharm": {
     "name": "#%%\n"
    },
    "ExecuteTime": {
     "end_time": "2024-08-04T01:09:45.950440Z",
     "start_time": "2024-08-04T01:09:45.843317Z"
    }
   },
   "outputs": [
    {
     "name": "stdout",
     "output_type": "stream",
     "text": [
      "\u001B[1m204/204\u001B[0m \u001B[32m━━━━━━━━━━━━━━━━━━━━\u001B[0m\u001B[37m\u001B[0m \u001B[1m0s\u001B[0m 354us/step - accuracy: 0.7989 - loss: 0.5028\n"
     ]
    }
   ],
   "execution_count": 19
  },
  {
   "cell_type": "code",
   "source": [
    "y_pred = model.predict(X_test)"
   ],
   "metadata": {
    "collapsed": false,
    "pycharm": {
     "name": "#%%\n"
    },
    "ExecuteTime": {
     "end_time": "2024-08-04T01:09:46.113758Z",
     "start_time": "2024-08-04T01:09:45.951298Z"
    }
   },
   "outputs": [
    {
     "name": "stdout",
     "output_type": "stream",
     "text": [
      "\u001B[1m204/204\u001B[0m \u001B[32m━━━━━━━━━━━━━━━━━━━━\u001B[0m\u001B[37m\u001B[0m \u001B[1m0s\u001B[0m 409us/step\n"
     ]
    }
   ],
   "execution_count": 20
  },
  {
   "cell_type": "markdown",
   "source": [
    "## Model Card Generation"
   ],
   "metadata": {
    "collapsed": false,
    "pycharm": {
     "name": "#%% md\n"
    }
   }
  },
  {
   "cell_type": "code",
   "source": [
    "from patra_model_card.patra_model_card import ModelCard, AIModel, BiasAnalysis, ExplainabilityAnalysis, validate_mc, Metric, save_mc\n",
    "import json"
   ],
   "metadata": {
    "collapsed": false,
    "pycharm": {
     "name": "#%%\n"
    },
    "ExecuteTime": {
     "end_time": "2024-08-04T01:09:46.118094Z",
     "start_time": "2024-08-04T01:09:46.115420Z"
    }
   },
   "outputs": [],
   "execution_count": 21
  },
  {
   "cell_type": "code",
   "source": [
    "mc = ModelCard(\n",
    "            name=\"UCI Adult Data Analysis model using Tensorflow\",\n",
    "            version=\"0.1\",\n",
    "            short_description=\"UCI Adult Data analysis using Tensorflow for demonstration of Patra Model Cards.\",\n",
    "            full_description=\"We have trained a ML model using the tensorflow framework to predict income for the UCI Adult Dataset. We leverage this data to run the Patra model cards to capture metadata about the model as well as fairness and explainability metrics.\",\n",
    "            keywords=\"uci adult, tensorflow, explainability, fairness, patra\",\n",
    "            author=\"Sachith Withana\",\n",
    "            input_type=\"Tabular\",\n",
    "            category=\"classification\"\n",
    "        )\n",
    "\n",
    "mc.input_data = 'https://archive.ics.uci.edu/dataset/2/adult'\n",
    "mc.output_data = 'https://github.iu.edu/d2i/dockerhub/tensorflow/adult_modelv01'"
   ],
   "metadata": {
    "collapsed": false,
    "pycharm": {
     "name": "#%%\n"
    },
    "ExecuteTime": {
     "end_time": "2024-08-04T01:13:32.028573Z",
     "start_time": "2024-08-04T01:13:32.025188Z"
    }
   },
   "outputs": [],
   "execution_count": 35
  },
  {
   "metadata": {
    "ExecuteTime": {
     "end_time": "2024-08-04T01:13:32.172970Z",
     "start_time": "2024-08-04T01:13:32.169817Z"
    }
   },
   "cell_type": "code",
   "source": [
    "def remove_nulls(model_structure):\n",
    "    if isinstance(model_structure, dict):\n",
    "        return {k: remove_nulls(v) for k, v in model_structure.items() if v is not None and remove_nulls(v)}\n",
    "    elif isinstance(model_structure, list):\n",
    "        return [remove_nulls(v) for v in model_structure if v is not None and remove_nulls(v) != []]\n",
    "    else:\n",
    "        return model_structure\n",
    "\n",
    "def clean_model_structure(model_structure):\n",
    "    json_structure = json.loads(model_structure)\n",
    "    cleaned_structure = remove_nulls(json_structure)\n",
    "    return cleaned_structure"
   ],
   "outputs": [],
   "execution_count": 36
  },
  {
   "cell_type": "code",
   "source": [
    "ai_model = AIModel(\n",
    "            name=\"Income prediction tensorflow model\",\n",
    "            version=\"0.1\",\n",
    "            description=\"Census classification problem using Tensorflow Neural Network using the UCI Adult Dataset\",\n",
    "            owner=\"Sachith Withana\",\n",
    "            location=\"https://github.iu.edu/d2i/uci_adult/tensorflow_model\",\n",
    "            license=\"BSD-3 Clause\",\n",
    "            framework=\"tensorflow\",\n",
    "            foundational_model=\"None\",\n",
    "            model_type=\"dnn\",\n",
    "            test_accuracy=accuracy,\n",
    "            model_structure = clean_model_structure(model.to_json())\n",
    "        )\n"
   ],
   "metadata": {
    "collapsed": false,
    "pycharm": {
     "name": "#%%\n"
    },
    "ExecuteTime": {
     "end_time": "2024-08-04T01:13:32.333625Z",
     "start_time": "2024-08-04T01:13:32.328043Z"
    }
   },
   "outputs": [],
   "execution_count": 37
  },
  {
   "metadata": {
    "ExecuteTime": {
     "end_time": "2024-08-04T01:13:32.533622Z",
     "start_time": "2024-08-04T01:13:32.530667Z"
    }
   },
   "cell_type": "code",
   "source": [
    "ai_model.add_metric(\"Test loss\", loss)\n",
    "ai_model.add_metric(\"Epochs\", 100)\n",
    "ai_model.add_metric(\"Batch Size\", 32)\n",
    "ai_model.add_metric(\"Optimizer\", \"Adam\")\n",
    "ai_model.add_metric(\"Learning Rate\", 0.0001)\n",
    "ai_model.add_metric(\"Input Shape\", \"(26048, 100)\")"
   ],
   "outputs": [],
   "execution_count": 38
  },
  {
   "metadata": {
    "ExecuteTime": {
     "end_time": "2024-08-04T01:13:32.844977Z",
     "start_time": "2024-08-04T01:13:32.842432Z"
    }
   },
   "cell_type": "code",
   "source": "mc.ai_model = ai_model",
   "outputs": [],
   "execution_count": 39
  },
  {
   "metadata": {
    "ExecuteTime": {
     "end_time": "2024-08-04T01:13:33.074529Z",
     "start_time": "2024-08-04T01:13:33.071829Z"
    }
   },
   "cell_type": "code",
   "source": "print(mc)",
   "outputs": [
    {
     "name": "stdout",
     "output_type": "stream",
     "text": [
      "{\n",
      "    \"name\": \"UCI Adult Data Analysis model using Tensorflow\",\n",
      "    \"version\": \"0.1\",\n",
      "    \"short_description\": \"UCI Adult Data analysis using Tensorflow for demonstration of Patra Model Cards.\",\n",
      "    \"full_description\": \"We have trained a ML model using the tensorflow framework to predict income for the UCI Adult Dataset. We leverage this data to run the Patra model cards to capture metadata about the model as well as fairness and explainability metrics.\",\n",
      "    \"keywords\": \"uci adult, tensorflow, explainability, fairness, patra\",\n",
      "    \"author\": \"Sachith Withana\",\n",
      "    \"input_type\": \"Tabular\",\n",
      "    \"category\": \"classification\",\n",
      "    \"input_data\": \"https://archive.ics.uci.edu/dataset/2/adult\",\n",
      "    \"output_data\": \"https://github.iu.edu/d2i/dockerhub/tensorflow/adult_modelv01\",\n",
      "    \"ai_model\": {\n",
      "        \"name\": \"Income prediction tensorflow model\",\n",
      "        \"version\": \"0.1\",\n",
      "        \"description\": \"Census classification problem using Tensorflow Neural Network using the UCI Adult Dataset\",\n",
      "        \"owner\": \"Sachith Withana\",\n",
      "        \"location\": \"https://github.iu.edu/d2i/uci_adult/tensorflow_model\",\n",
      "        \"license\": \"BSD-3 Clause\",\n",
      "        \"framework\": \"tensorflow\",\n",
      "        \"model_type\": \"dnn\",\n",
      "        \"test_accuracy\": 0.801627516746521,\n",
      "        \"foundational_model\": \"None\",\n",
      "        \"model_structure\": {\n",
      "            \"module\": \"keras\",\n",
      "            \"class_name\": \"Sequential\",\n",
      "            \"config\": {\n",
      "                \"name\": \"sequential\",\n",
      "                \"trainable\": true,\n",
      "                \"dtype\": {\n",
      "                    \"module\": \"keras\",\n",
      "                    \"class_name\": \"DTypePolicy\",\n",
      "                    \"config\": {\n",
      "                        \"name\": \"float32\"\n",
      "                    }\n",
      "                },\n",
      "                \"layers\": [\n",
      "                    {\n",
      "                        \"module\": \"keras.layers\",\n",
      "                        \"class_name\": \"InputLayer\",\n",
      "                        \"config\": {\n",
      "                            \"batch_shape\": [\n",
      "                                100\n",
      "                            ],\n",
      "                            \"dtype\": \"float32\",\n",
      "                            \"name\": \"input_layer\"\n",
      "                        }\n",
      "                    },\n",
      "                    {\n",
      "                        \"module\": \"keras.layers\",\n",
      "                        \"class_name\": \"Dense\",\n",
      "                        \"config\": {\n",
      "                            \"name\": \"dense\",\n",
      "                            \"trainable\": true,\n",
      "                            \"dtype\": {\n",
      "                                \"module\": \"keras\",\n",
      "                                \"class_name\": \"DTypePolicy\",\n",
      "                                \"config\": {\n",
      "                                    \"name\": \"float32\"\n",
      "                                }\n",
      "                            },\n",
      "                            \"units\": 64,\n",
      "                            \"activation\": \"relu\",\n",
      "                            \"use_bias\": true,\n",
      "                            \"kernel_initializer\": {\n",
      "                                \"module\": \"keras.initializers\",\n",
      "                                \"class_name\": \"GlorotUniform\"\n",
      "                            },\n",
      "                            \"bias_initializer\": {\n",
      "                                \"module\": \"keras.initializers\",\n",
      "                                \"class_name\": \"Zeros\"\n",
      "                            }\n",
      "                        },\n",
      "                        \"build_config\": {\n",
      "                            \"input_shape\": [\n",
      "                                100\n",
      "                            ]\n",
      "                        }\n",
      "                    },\n",
      "                    {\n",
      "                        \"module\": \"keras.layers\",\n",
      "                        \"class_name\": \"Dense\",\n",
      "                        \"config\": {\n",
      "                            \"name\": \"dense_1\",\n",
      "                            \"trainable\": true,\n",
      "                            \"dtype\": {\n",
      "                                \"module\": \"keras\",\n",
      "                                \"class_name\": \"DTypePolicy\",\n",
      "                                \"config\": {\n",
      "                                    \"name\": \"float32\"\n",
      "                                }\n",
      "                            },\n",
      "                            \"units\": 128,\n",
      "                            \"activation\": \"relu\",\n",
      "                            \"use_bias\": true,\n",
      "                            \"kernel_initializer\": {\n",
      "                                \"module\": \"keras.initializers\",\n",
      "                                \"class_name\": \"GlorotUniform\"\n",
      "                            },\n",
      "                            \"bias_initializer\": {\n",
      "                                \"module\": \"keras.initializers\",\n",
      "                                \"class_name\": \"Zeros\"\n",
      "                            }\n",
      "                        },\n",
      "                        \"build_config\": {\n",
      "                            \"input_shape\": [\n",
      "                                64\n",
      "                            ]\n",
      "                        }\n",
      "                    },\n",
      "                    {\n",
      "                        \"module\": \"keras.layers\",\n",
      "                        \"class_name\": \"Dense\",\n",
      "                        \"config\": {\n",
      "                            \"name\": \"dense_2\",\n",
      "                            \"trainable\": true,\n",
      "                            \"dtype\": {\n",
      "                                \"module\": \"keras\",\n",
      "                                \"class_name\": \"DTypePolicy\",\n",
      "                                \"config\": {\n",
      "                                    \"name\": \"float32\"\n",
      "                                }\n",
      "                            },\n",
      "                            \"units\": 64,\n",
      "                            \"activation\": \"relu\",\n",
      "                            \"use_bias\": true,\n",
      "                            \"kernel_initializer\": {\n",
      "                                \"module\": \"keras.initializers\",\n",
      "                                \"class_name\": \"GlorotUniform\"\n",
      "                            },\n",
      "                            \"bias_initializer\": {\n",
      "                                \"module\": \"keras.initializers\",\n",
      "                                \"class_name\": \"Zeros\"\n",
      "                            }\n",
      "                        },\n",
      "                        \"build_config\": {\n",
      "                            \"input_shape\": [\n",
      "                                128\n",
      "                            ]\n",
      "                        }\n",
      "                    },\n",
      "                    {\n",
      "                        \"module\": \"keras.layers\",\n",
      "                        \"class_name\": \"Dense\",\n",
      "                        \"config\": {\n",
      "                            \"name\": \"dense_3\",\n",
      "                            \"trainable\": true,\n",
      "                            \"dtype\": {\n",
      "                                \"module\": \"keras\",\n",
      "                                \"class_name\": \"DTypePolicy\",\n",
      "                                \"config\": {\n",
      "                                    \"name\": \"float32\"\n",
      "                                }\n",
      "                            },\n",
      "                            \"units\": 1,\n",
      "                            \"activation\": \"sigmoid\",\n",
      "                            \"use_bias\": true,\n",
      "                            \"kernel_initializer\": {\n",
      "                                \"module\": \"keras.initializers\",\n",
      "                                \"class_name\": \"GlorotUniform\"\n",
      "                            },\n",
      "                            \"bias_initializer\": {\n",
      "                                \"module\": \"keras.initializers\",\n",
      "                                \"class_name\": \"Zeros\"\n",
      "                            }\n",
      "                        },\n",
      "                        \"build_config\": {\n",
      "                            \"input_shape\": [\n",
      "                                64\n",
      "                            ]\n",
      "                        }\n",
      "                    }\n",
      "                ],\n",
      "                \"build_input_shape\": [\n",
      "                    100\n",
      "                ]\n",
      "            },\n",
      "            \"build_config\": {\n",
      "                \"input_shape\": [\n",
      "                    100\n",
      "                ]\n",
      "            },\n",
      "            \"compile_config\": {\n",
      "                \"optimizer\": {\n",
      "                    \"module\": \"keras.optimizers\",\n",
      "                    \"class_name\": \"Adam\",\n",
      "                    \"config\": {\n",
      "                        \"name\": \"adam\",\n",
      "                        \"learning_rate\": 0.0010000000474974513,\n",
      "                        \"ema_momentum\": 0.99,\n",
      "                        \"beta_1\": 0.9,\n",
      "                        \"beta_2\": 0.999,\n",
      "                        \"epsilon\": 1e-07\n",
      "                    }\n",
      "                },\n",
      "                \"loss\": \"binary_crossentropy\",\n",
      "                \"metrics\": [\n",
      "                    \"accuracy\"\n",
      "                ],\n",
      "                \"steps_per_execution\": 1\n",
      "            }\n",
      "        },\n",
      "        \"metrics\": {\n",
      "            \"Test loss\": 0.5022369027137756,\n",
      "            \"Epochs\": 100,\n",
      "            \"Batch Size\": 32,\n",
      "            \"Optimizer\": \"Adam\",\n",
      "            \"Learning Rate\": 0.0001,\n",
      "            \"Input Shape\": \"(26048, 100)\"\n",
      "        }\n",
      "    },\n",
      "    \"bias_analysis\": null,\n",
      "    \"xai_analysis\": null\n",
      "}\n"
     ]
    }
   ],
   "execution_count": 40
  },
  {
   "cell_type": "code",
   "source": [
    "y_pred = model.predict(X_test)\n",
    "y_pred = (y_pred >= 0.5).flatten()\n",
    "mc.populate_bias(X_test, y_test, y_pred, \"gender\", X_test[:, 58], model)"
   ],
   "metadata": {
    "collapsed": false,
    "pycharm": {
     "name": "#%%\n"
    },
    "ExecuteTime": {
     "end_time": "2024-08-04T01:13:33.431254Z",
     "start_time": "2024-08-04T01:13:33.257387Z"
    }
   },
   "outputs": [
    {
     "name": "stdout",
     "output_type": "stream",
     "text": [
      "\u001B[1m204/204\u001B[0m \u001B[32m━━━━━━━━━━━━━━━━━━━━\u001B[0m\u001B[37m\u001B[0m \u001B[1m0s\u001B[0m 371us/step\n"
     ]
    }
   ],
   "execution_count": 41
  },
  {
   "cell_type": "code",
   "source": [
    "x_columns = data.columns.tolist()\n",
    "x_columns.remove('income')\n",
    "\n",
    "mc.populate_xai(X_test[:10], x_columns, model, 10)"
   ],
   "metadata": {
    "collapsed": false,
    "pycharm": {
     "name": "#%%\n"
    },
    "ExecuteTime": {
     "end_time": "2024-08-04T01:13:33.896233Z",
     "start_time": "2024-08-04T01:13:33.472840Z"
    }
   },
   "outputs": [],
   "execution_count": 42
  },
  {
   "cell_type": "code",
   "source": [
    "print(mc.bias_analysis)"
   ],
   "metadata": {
    "collapsed": false,
    "pycharm": {
     "name": "#%%\n"
    },
    "ExecuteTime": {
     "end_time": "2024-08-04T01:13:33.899835Z",
     "start_time": "2024-08-04T01:13:33.897468Z"
    }
   },
   "outputs": [
    {
     "name": "stdout",
     "output_type": "stream",
     "text": [
      "{'demographic_parity_diff': 0.04692786199540633, 'equal_odds_difference': 0.03891850625813942}\n"
     ]
    }
   ],
   "execution_count": 43
  },
  {
   "cell_type": "code",
   "source": [
    "print(mc.xai_analysis)"
   ],
   "metadata": {
    "collapsed": false,
    "pycharm": {
     "name": "#%%\n"
    },
    "ExecuteTime": {
     "end_time": "2024-08-04T01:13:34.054072Z",
     "start_time": "2024-08-04T01:13:34.051699Z"
    }
   },
   "outputs": [
    {
     "name": "stdout",
     "output_type": "stream",
     "text": [
      "{'capital-gain': 0.16518183764898114, 'fnlwgt': 0.02944359259679913, 'age': 0.0018410406613515496, 'hours-per-week': 0.0014073482238584102, 'martial-status_ Married-civ-spouse': 0.0007648632302880298, 'occupation_ Exec-managerial': 0.000614370765785378, 'relationship_ Not-in-family': 0.0005974954366683956, 'martial-status_ Never-married': 0.0005050689168274403, 'education_ Bachelors': 0.00039388835637105816, 'education-num': 0.000368746817111969}\n"
     ]
    }
   ],
   "execution_count": 44
  },
  {
   "cell_type": "code",
   "source": [
    "print(mc)"
   ],
   "metadata": {
    "collapsed": false,
    "pycharm": {
     "name": "#%%\n"
    },
    "ExecuteTime": {
     "end_time": "2024-08-04T01:13:35.234933Z",
     "start_time": "2024-08-04T01:13:35.232237Z"
    }
   },
   "outputs": [
    {
     "name": "stdout",
     "output_type": "stream",
     "text": [
      "{\n",
      "    \"name\": \"UCI Adult Data Analysis model using Tensorflow\",\n",
      "    \"version\": \"0.1\",\n",
      "    \"short_description\": \"UCI Adult Data analysis using Tensorflow for demonstration of Patra Model Cards.\",\n",
      "    \"full_description\": \"We have trained a ML model using the tensorflow framework to predict income for the UCI Adult Dataset. We leverage this data to run the Patra model cards to capture metadata about the model as well as fairness and explainability metrics.\",\n",
      "    \"keywords\": \"uci adult, tensorflow, explainability, fairness, patra\",\n",
      "    \"author\": \"Sachith Withana\",\n",
      "    \"input_type\": \"Tabular\",\n",
      "    \"category\": \"classification\",\n",
      "    \"input_data\": \"https://archive.ics.uci.edu/dataset/2/adult\",\n",
      "    \"output_data\": \"https://github.iu.edu/d2i/dockerhub/tensorflow/adult_modelv01\",\n",
      "    \"ai_model\": {\n",
      "        \"name\": \"Income prediction tensorflow model\",\n",
      "        \"version\": \"0.1\",\n",
      "        \"description\": \"Census classification problem using Tensorflow Neural Network using the UCI Adult Dataset\",\n",
      "        \"owner\": \"Sachith Withana\",\n",
      "        \"location\": \"https://github.iu.edu/d2i/uci_adult/tensorflow_model\",\n",
      "        \"license\": \"BSD-3 Clause\",\n",
      "        \"framework\": \"tensorflow\",\n",
      "        \"model_type\": \"dnn\",\n",
      "        \"test_accuracy\": 0.801627516746521,\n",
      "        \"foundational_model\": \"None\",\n",
      "        \"model_structure\": {\n",
      "            \"module\": \"keras\",\n",
      "            \"class_name\": \"Sequential\",\n",
      "            \"config\": {\n",
      "                \"name\": \"sequential\",\n",
      "                \"trainable\": true,\n",
      "                \"dtype\": {\n",
      "                    \"module\": \"keras\",\n",
      "                    \"class_name\": \"DTypePolicy\",\n",
      "                    \"config\": {\n",
      "                        \"name\": \"float32\"\n",
      "                    }\n",
      "                },\n",
      "                \"layers\": [\n",
      "                    {\n",
      "                        \"module\": \"keras.layers\",\n",
      "                        \"class_name\": \"InputLayer\",\n",
      "                        \"config\": {\n",
      "                            \"batch_shape\": [\n",
      "                                100\n",
      "                            ],\n",
      "                            \"dtype\": \"float32\",\n",
      "                            \"name\": \"input_layer\"\n",
      "                        }\n",
      "                    },\n",
      "                    {\n",
      "                        \"module\": \"keras.layers\",\n",
      "                        \"class_name\": \"Dense\",\n",
      "                        \"config\": {\n",
      "                            \"name\": \"dense\",\n",
      "                            \"trainable\": true,\n",
      "                            \"dtype\": {\n",
      "                                \"module\": \"keras\",\n",
      "                                \"class_name\": \"DTypePolicy\",\n",
      "                                \"config\": {\n",
      "                                    \"name\": \"float32\"\n",
      "                                }\n",
      "                            },\n",
      "                            \"units\": 64,\n",
      "                            \"activation\": \"relu\",\n",
      "                            \"use_bias\": true,\n",
      "                            \"kernel_initializer\": {\n",
      "                                \"module\": \"keras.initializers\",\n",
      "                                \"class_name\": \"GlorotUniform\"\n",
      "                            },\n",
      "                            \"bias_initializer\": {\n",
      "                                \"module\": \"keras.initializers\",\n",
      "                                \"class_name\": \"Zeros\"\n",
      "                            }\n",
      "                        },\n",
      "                        \"build_config\": {\n",
      "                            \"input_shape\": [\n",
      "                                100\n",
      "                            ]\n",
      "                        }\n",
      "                    },\n",
      "                    {\n",
      "                        \"module\": \"keras.layers\",\n",
      "                        \"class_name\": \"Dense\",\n",
      "                        \"config\": {\n",
      "                            \"name\": \"dense_1\",\n",
      "                            \"trainable\": true,\n",
      "                            \"dtype\": {\n",
      "                                \"module\": \"keras\",\n",
      "                                \"class_name\": \"DTypePolicy\",\n",
      "                                \"config\": {\n",
      "                                    \"name\": \"float32\"\n",
      "                                }\n",
      "                            },\n",
      "                            \"units\": 128,\n",
      "                            \"activation\": \"relu\",\n",
      "                            \"use_bias\": true,\n",
      "                            \"kernel_initializer\": {\n",
      "                                \"module\": \"keras.initializers\",\n",
      "                                \"class_name\": \"GlorotUniform\"\n",
      "                            },\n",
      "                            \"bias_initializer\": {\n",
      "                                \"module\": \"keras.initializers\",\n",
      "                                \"class_name\": \"Zeros\"\n",
      "                            }\n",
      "                        },\n",
      "                        \"build_config\": {\n",
      "                            \"input_shape\": [\n",
      "                                64\n",
      "                            ]\n",
      "                        }\n",
      "                    },\n",
      "                    {\n",
      "                        \"module\": \"keras.layers\",\n",
      "                        \"class_name\": \"Dense\",\n",
      "                        \"config\": {\n",
      "                            \"name\": \"dense_2\",\n",
      "                            \"trainable\": true,\n",
      "                            \"dtype\": {\n",
      "                                \"module\": \"keras\",\n",
      "                                \"class_name\": \"DTypePolicy\",\n",
      "                                \"config\": {\n",
      "                                    \"name\": \"float32\"\n",
      "                                }\n",
      "                            },\n",
      "                            \"units\": 64,\n",
      "                            \"activation\": \"relu\",\n",
      "                            \"use_bias\": true,\n",
      "                            \"kernel_initializer\": {\n",
      "                                \"module\": \"keras.initializers\",\n",
      "                                \"class_name\": \"GlorotUniform\"\n",
      "                            },\n",
      "                            \"bias_initializer\": {\n",
      "                                \"module\": \"keras.initializers\",\n",
      "                                \"class_name\": \"Zeros\"\n",
      "                            }\n",
      "                        },\n",
      "                        \"build_config\": {\n",
      "                            \"input_shape\": [\n",
      "                                128\n",
      "                            ]\n",
      "                        }\n",
      "                    },\n",
      "                    {\n",
      "                        \"module\": \"keras.layers\",\n",
      "                        \"class_name\": \"Dense\",\n",
      "                        \"config\": {\n",
      "                            \"name\": \"dense_3\",\n",
      "                            \"trainable\": true,\n",
      "                            \"dtype\": {\n",
      "                                \"module\": \"keras\",\n",
      "                                \"class_name\": \"DTypePolicy\",\n",
      "                                \"config\": {\n",
      "                                    \"name\": \"float32\"\n",
      "                                }\n",
      "                            },\n",
      "                            \"units\": 1,\n",
      "                            \"activation\": \"sigmoid\",\n",
      "                            \"use_bias\": true,\n",
      "                            \"kernel_initializer\": {\n",
      "                                \"module\": \"keras.initializers\",\n",
      "                                \"class_name\": \"GlorotUniform\"\n",
      "                            },\n",
      "                            \"bias_initializer\": {\n",
      "                                \"module\": \"keras.initializers\",\n",
      "                                \"class_name\": \"Zeros\"\n",
      "                            }\n",
      "                        },\n",
      "                        \"build_config\": {\n",
      "                            \"input_shape\": [\n",
      "                                64\n",
      "                            ]\n",
      "                        }\n",
      "                    }\n",
      "                ],\n",
      "                \"build_input_shape\": [\n",
      "                    100\n",
      "                ]\n",
      "            },\n",
      "            \"build_config\": {\n",
      "                \"input_shape\": [\n",
      "                    100\n",
      "                ]\n",
      "            },\n",
      "            \"compile_config\": {\n",
      "                \"optimizer\": {\n",
      "                    \"module\": \"keras.optimizers\",\n",
      "                    \"class_name\": \"Adam\",\n",
      "                    \"config\": {\n",
      "                        \"name\": \"adam\",\n",
      "                        \"learning_rate\": 0.0010000000474974513,\n",
      "                        \"ema_momentum\": 0.99,\n",
      "                        \"beta_1\": 0.9,\n",
      "                        \"beta_2\": 0.999,\n",
      "                        \"epsilon\": 1e-07\n",
      "                    }\n",
      "                },\n",
      "                \"loss\": \"binary_crossentropy\",\n",
      "                \"metrics\": [\n",
      "                    \"accuracy\"\n",
      "                ],\n",
      "                \"steps_per_execution\": 1\n",
      "            }\n",
      "        },\n",
      "        \"metrics\": {\n",
      "            \"Test loss\": 0.5022369027137756,\n",
      "            \"Epochs\": 100,\n",
      "            \"Batch Size\": 32,\n",
      "            \"Optimizer\": \"Adam\",\n",
      "            \"Learning Rate\": 0.0001,\n",
      "            \"Input Shape\": \"(26048, 100)\"\n",
      "        }\n",
      "    },\n",
      "    \"bias_analysis\": {\n",
      "        \"demographic_parity_diff\": 0.04692786199540633,\n",
      "        \"equal_odds_difference\": 0.03891850625813942\n",
      "    },\n",
      "    \"xai_analysis\": {\n",
      "        \"capital-gain\": 0.16518183764898114,\n",
      "        \"fnlwgt\": 0.02944359259679913,\n",
      "        \"age\": 0.0018410406613515496,\n",
      "        \"hours-per-week\": 0.0014073482238584102,\n",
      "        \"martial-status_ Married-civ-spouse\": 0.0007648632302880298,\n",
      "        \"occupation_ Exec-managerial\": 0.000614370765785378,\n",
      "        \"relationship_ Not-in-family\": 0.0005974954366683956,\n",
      "        \"martial-status_ Never-married\": 0.0005050689168274403,\n",
      "        \"education_ Bachelors\": 0.00039388835637105816,\n",
      "        \"education-num\": 0.000368746817111969\n",
      "    }\n",
      "}\n"
     ]
    }
   ],
   "execution_count": 45
  },
  {
   "cell_type": "code",
   "source": "save_mc(mc, \"/Users/swithana/git/d2i/patra-toolkit/examples/model_cards/tesorflow_adult_nn_MC.json\")",
   "metadata": {
    "collapsed": false,
    "pycharm": {
     "name": "#%%\n"
    },
    "ExecuteTime": {
     "end_time": "2024-08-04T01:16:38.742136Z",
     "start_time": "2024-08-04T01:16:38.738699Z"
    }
   },
   "outputs": [],
   "execution_count": 51
  },
  {
   "cell_type": "code",
   "source": "validate_mc(mc)",
   "metadata": {
    "collapsed": false,
    "pycharm": {
     "name": "#%%\n"
    },
    "ExecuteTime": {
     "end_time": "2024-08-04T01:14:48.066008Z",
     "start_time": "2024-08-04T01:14:48.061004Z"
    }
   },
   "outputs": [
    {
     "data": {
      "text/plain": [
       "True"
      ]
     },
     "execution_count": 49,
     "metadata": {},
     "output_type": "execute_result"
    }
   ],
   "execution_count": 49
  },
  {
   "metadata": {},
   "cell_type": "code",
   "outputs": [],
   "execution_count": null,
   "source": ""
  }
 ],
 "metadata": {
  "kernelspec": {
   "display_name": "Python 3",
   "language": "python",
   "name": "python3"
  },
  "language_info": {
   "codemirror_mode": {
    "name": "ipython",
    "version": 2
   },
   "file_extension": ".py",
   "mimetype": "text/x-python",
   "name": "python",
   "nbconvert_exporter": "python",
   "pygments_lexer": "ipython2",
   "version": "2.7.6"
  }
 },
 "nbformat": 4,
 "nbformat_minor": 0
}
