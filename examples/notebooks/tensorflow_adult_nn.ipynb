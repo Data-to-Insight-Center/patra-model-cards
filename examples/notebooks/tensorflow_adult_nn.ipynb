{
 "cells": [
  {
   "cell_type": "code",
   "source": [
    "import numpy as np\n",
    "import pandas as pd\n",
    "import tensorflow as tf\n",
    "from sklearn.model_selection import train_test_split\n",
    "from sklearn.preprocessing import StandardScaler, LabelEncoder\n",
    "import json"
   ],
   "metadata": {
    "collapsed": false,
    "pycharm": {
     "name": "#%%\n"
    },
    "ExecuteTime": {
     "end_time": "2024-08-04T01:41:32.941209Z",
     "start_time": "2024-08-04T01:41:29.880751Z"
    }
   },
   "outputs": [
    {
     "name": "stderr",
     "output_type": "stream",
     "text": [
      "/Users/swithana/git/d2i/patra-toolkit/.venv/lib/python3.9/site-packages/urllib3/__init__.py:35: NotOpenSSLWarning: urllib3 v2 only supports OpenSSL 1.1.1+, currently the 'ssl' module is compiled with 'LibreSSL 2.8.3'. See: https://github.com/urllib3/urllib3/issues/3020\n",
      "  warnings.warn(\n"
     ]
    }
   ],
   "execution_count": 1
  },
  {
   "cell_type": "code",
   "source": "!pip install tensorflow",
   "metadata": {
    "collapsed": false,
    "pycharm": {
     "name": "#%%\n"
    },
    "ExecuteTime": {
     "end_time": "2024-08-04T01:37:26.753367Z",
     "start_time": "2024-08-04T01:37:26.750580Z"
    }
   },
   "outputs": [
    {
     "ename": "SyntaxError",
     "evalue": "invalid syntax (1648709161.py, line 1)",
     "output_type": "error",
     "traceback": [
      "\u001B[0;36m  Cell \u001B[0;32mIn[2], line 1\u001B[0;36m\u001B[0m\n\u001B[0;31m    |!pip install tensorflow\u001B[0m\n\u001B[0m    ^\u001B[0m\n\u001B[0;31mSyntaxError\u001B[0m\u001B[0;31m:\u001B[0m invalid syntax\n"
     ]
    }
   ],
   "execution_count": 2
  },
  {
   "cell_type": "code",
   "source": [
    "columns = [\"age\", \"workclass\", \"fnlwgt\", \"education\", \"education-num\", \"martial-status\",\n",
    "        \"occupation\", \"relationship\", \"race\", \"sex\", \"capital-gain\", \"capital-loss\",\n",
    "        \"hours-per-week\", \"native-country\", \"income\"]\n",
    "data = pd.read_csv('/Users/swithana/git/d2i/patra-toolkit/examples/notebooks/data/adult/adult.data', names=columns)"
   ],
   "metadata": {
    "collapsed": false,
    "pycharm": {
     "name": "#%%\n"
    },
    "ExecuteTime": {
     "end_time": "2024-08-04T01:41:32.978963Z",
     "start_time": "2024-08-04T01:41:32.942661Z"
    }
   },
   "outputs": [],
   "execution_count": 2
  },
  {
   "cell_type": "code",
   "source": [
    "data.head()"
   ],
   "metadata": {
    "collapsed": false,
    "pycharm": {
     "name": "#%%\n"
    },
    "ExecuteTime": {
     "end_time": "2024-08-04T01:41:32.989309Z",
     "start_time": "2024-08-04T01:41:32.980079Z"
    }
   },
   "outputs": [
    {
     "data": {
      "text/plain": [
       "   age          workclass  fnlwgt   education  education-num  \\\n",
       "0   39          State-gov   77516   Bachelors             13   \n",
       "1   50   Self-emp-not-inc   83311   Bachelors             13   \n",
       "2   38            Private  215646     HS-grad              9   \n",
       "3   53            Private  234721        11th              7   \n",
       "4   28            Private  338409   Bachelors             13   \n",
       "\n",
       "        martial-status          occupation    relationship    race      sex  \\\n",
       "0        Never-married        Adm-clerical   Not-in-family   White     Male   \n",
       "1   Married-civ-spouse     Exec-managerial         Husband   White     Male   \n",
       "2             Divorced   Handlers-cleaners   Not-in-family   White     Male   \n",
       "3   Married-civ-spouse   Handlers-cleaners         Husband   Black     Male   \n",
       "4   Married-civ-spouse      Prof-specialty            Wife   Black   Female   \n",
       "\n",
       "   capital-gain  capital-loss  hours-per-week  native-country  income  \n",
       "0          2174             0              40   United-States   <=50K  \n",
       "1             0             0              13   United-States   <=50K  \n",
       "2             0             0              40   United-States   <=50K  \n",
       "3             0             0              40   United-States   <=50K  \n",
       "4             0             0              40            Cuba   <=50K  "
      ],
      "text/html": [
       "<div>\n",
       "<style scoped>\n",
       "    .dataframe tbody tr th:only-of-type {\n",
       "        vertical-align: middle;\n",
       "    }\n",
       "\n",
       "    .dataframe tbody tr th {\n",
       "        vertical-align: top;\n",
       "    }\n",
       "\n",
       "    .dataframe thead th {\n",
       "        text-align: right;\n",
       "    }\n",
       "</style>\n",
       "<table border=\"1\" class=\"dataframe\">\n",
       "  <thead>\n",
       "    <tr style=\"text-align: right;\">\n",
       "      <th></th>\n",
       "      <th>age</th>\n",
       "      <th>workclass</th>\n",
       "      <th>fnlwgt</th>\n",
       "      <th>education</th>\n",
       "      <th>education-num</th>\n",
       "      <th>martial-status</th>\n",
       "      <th>occupation</th>\n",
       "      <th>relationship</th>\n",
       "      <th>race</th>\n",
       "      <th>sex</th>\n",
       "      <th>capital-gain</th>\n",
       "      <th>capital-loss</th>\n",
       "      <th>hours-per-week</th>\n",
       "      <th>native-country</th>\n",
       "      <th>income</th>\n",
       "    </tr>\n",
       "  </thead>\n",
       "  <tbody>\n",
       "    <tr>\n",
       "      <th>0</th>\n",
       "      <td>39</td>\n",
       "      <td>State-gov</td>\n",
       "      <td>77516</td>\n",
       "      <td>Bachelors</td>\n",
       "      <td>13</td>\n",
       "      <td>Never-married</td>\n",
       "      <td>Adm-clerical</td>\n",
       "      <td>Not-in-family</td>\n",
       "      <td>White</td>\n",
       "      <td>Male</td>\n",
       "      <td>2174</td>\n",
       "      <td>0</td>\n",
       "      <td>40</td>\n",
       "      <td>United-States</td>\n",
       "      <td>&lt;=50K</td>\n",
       "    </tr>\n",
       "    <tr>\n",
       "      <th>1</th>\n",
       "      <td>50</td>\n",
       "      <td>Self-emp-not-inc</td>\n",
       "      <td>83311</td>\n",
       "      <td>Bachelors</td>\n",
       "      <td>13</td>\n",
       "      <td>Married-civ-spouse</td>\n",
       "      <td>Exec-managerial</td>\n",
       "      <td>Husband</td>\n",
       "      <td>White</td>\n",
       "      <td>Male</td>\n",
       "      <td>0</td>\n",
       "      <td>0</td>\n",
       "      <td>13</td>\n",
       "      <td>United-States</td>\n",
       "      <td>&lt;=50K</td>\n",
       "    </tr>\n",
       "    <tr>\n",
       "      <th>2</th>\n",
       "      <td>38</td>\n",
       "      <td>Private</td>\n",
       "      <td>215646</td>\n",
       "      <td>HS-grad</td>\n",
       "      <td>9</td>\n",
       "      <td>Divorced</td>\n",
       "      <td>Handlers-cleaners</td>\n",
       "      <td>Not-in-family</td>\n",
       "      <td>White</td>\n",
       "      <td>Male</td>\n",
       "      <td>0</td>\n",
       "      <td>0</td>\n",
       "      <td>40</td>\n",
       "      <td>United-States</td>\n",
       "      <td>&lt;=50K</td>\n",
       "    </tr>\n",
       "    <tr>\n",
       "      <th>3</th>\n",
       "      <td>53</td>\n",
       "      <td>Private</td>\n",
       "      <td>234721</td>\n",
       "      <td>11th</td>\n",
       "      <td>7</td>\n",
       "      <td>Married-civ-spouse</td>\n",
       "      <td>Handlers-cleaners</td>\n",
       "      <td>Husband</td>\n",
       "      <td>Black</td>\n",
       "      <td>Male</td>\n",
       "      <td>0</td>\n",
       "      <td>0</td>\n",
       "      <td>40</td>\n",
       "      <td>United-States</td>\n",
       "      <td>&lt;=50K</td>\n",
       "    </tr>\n",
       "    <tr>\n",
       "      <th>4</th>\n",
       "      <td>28</td>\n",
       "      <td>Private</td>\n",
       "      <td>338409</td>\n",
       "      <td>Bachelors</td>\n",
       "      <td>13</td>\n",
       "      <td>Married-civ-spouse</td>\n",
       "      <td>Prof-specialty</td>\n",
       "      <td>Wife</td>\n",
       "      <td>Black</td>\n",
       "      <td>Female</td>\n",
       "      <td>0</td>\n",
       "      <td>0</td>\n",
       "      <td>40</td>\n",
       "      <td>Cuba</td>\n",
       "      <td>&lt;=50K</td>\n",
       "    </tr>\n",
       "  </tbody>\n",
       "</table>\n",
       "</div>"
      ]
     },
     "execution_count": 3,
     "metadata": {},
     "output_type": "execute_result"
    }
   ],
   "execution_count": 3
  },
  {
   "cell_type": "markdown",
   "source": [
    "### Pre-processing"
   ],
   "metadata": {
    "collapsed": false,
    "pycharm": {
     "name": "#%% md\n"
    }
   }
  },
  {
   "cell_type": "code",
   "source": [
    "label_encoder = LabelEncoder()\n",
    "data['income'] = label_encoder.fit_transform(data['income'])\n",
    "\n",
    "# Convert categorical variables to one-hot encoding\n",
    "data = pd.get_dummies(data, drop_first=True, dtype=float)\n",
    "\n",
    "data.head()"
   ],
   "metadata": {
    "collapsed": false,
    "pycharm": {
     "name": "#%%\n"
    },
    "ExecuteTime": {
     "end_time": "2024-08-04T01:41:33.025631Z",
     "start_time": "2024-08-04T01:41:32.991126Z"
    }
   },
   "outputs": [
    {
     "data": {
      "text/plain": [
       "   age  fnlwgt  education-num  capital-gain  capital-loss  hours-per-week  \\\n",
       "0   39   77516             13          2174             0              40   \n",
       "1   50   83311             13             0             0              13   \n",
       "2   38  215646              9             0             0              40   \n",
       "3   53  234721              7             0             0              40   \n",
       "4   28  338409             13             0             0              40   \n",
       "\n",
       "   income  workclass_ Federal-gov  workclass_ Local-gov  \\\n",
       "0       0                     0.0                   0.0   \n",
       "1       0                     0.0                   0.0   \n",
       "2       0                     0.0                   0.0   \n",
       "3       0                     0.0                   0.0   \n",
       "4       0                     0.0                   0.0   \n",
       "\n",
       "   workclass_ Never-worked  ...  native-country_ Portugal  \\\n",
       "0                      0.0  ...                       0.0   \n",
       "1                      0.0  ...                       0.0   \n",
       "2                      0.0  ...                       0.0   \n",
       "3                      0.0  ...                       0.0   \n",
       "4                      0.0  ...                       0.0   \n",
       "\n",
       "   native-country_ Puerto-Rico  native-country_ Scotland  \\\n",
       "0                          0.0                       0.0   \n",
       "1                          0.0                       0.0   \n",
       "2                          0.0                       0.0   \n",
       "3                          0.0                       0.0   \n",
       "4                          0.0                       0.0   \n",
       "\n",
       "   native-country_ South  native-country_ Taiwan  native-country_ Thailand  \\\n",
       "0                    0.0                     0.0                       0.0   \n",
       "1                    0.0                     0.0                       0.0   \n",
       "2                    0.0                     0.0                       0.0   \n",
       "3                    0.0                     0.0                       0.0   \n",
       "4                    0.0                     0.0                       0.0   \n",
       "\n",
       "   native-country_ Trinadad&Tobago  native-country_ United-States  \\\n",
       "0                              0.0                            1.0   \n",
       "1                              0.0                            1.0   \n",
       "2                              0.0                            1.0   \n",
       "3                              0.0                            1.0   \n",
       "4                              0.0                            0.0   \n",
       "\n",
       "   native-country_ Vietnam  native-country_ Yugoslavia  \n",
       "0                      0.0                         0.0  \n",
       "1                      0.0                         0.0  \n",
       "2                      0.0                         0.0  \n",
       "3                      0.0                         0.0  \n",
       "4                      0.0                         0.0  \n",
       "\n",
       "[5 rows x 101 columns]"
      ],
      "text/html": [
       "<div>\n",
       "<style scoped>\n",
       "    .dataframe tbody tr th:only-of-type {\n",
       "        vertical-align: middle;\n",
       "    }\n",
       "\n",
       "    .dataframe tbody tr th {\n",
       "        vertical-align: top;\n",
       "    }\n",
       "\n",
       "    .dataframe thead th {\n",
       "        text-align: right;\n",
       "    }\n",
       "</style>\n",
       "<table border=\"1\" class=\"dataframe\">\n",
       "  <thead>\n",
       "    <tr style=\"text-align: right;\">\n",
       "      <th></th>\n",
       "      <th>age</th>\n",
       "      <th>fnlwgt</th>\n",
       "      <th>education-num</th>\n",
       "      <th>capital-gain</th>\n",
       "      <th>capital-loss</th>\n",
       "      <th>hours-per-week</th>\n",
       "      <th>income</th>\n",
       "      <th>workclass_ Federal-gov</th>\n",
       "      <th>workclass_ Local-gov</th>\n",
       "      <th>workclass_ Never-worked</th>\n",
       "      <th>...</th>\n",
       "      <th>native-country_ Portugal</th>\n",
       "      <th>native-country_ Puerto-Rico</th>\n",
       "      <th>native-country_ Scotland</th>\n",
       "      <th>native-country_ South</th>\n",
       "      <th>native-country_ Taiwan</th>\n",
       "      <th>native-country_ Thailand</th>\n",
       "      <th>native-country_ Trinadad&amp;Tobago</th>\n",
       "      <th>native-country_ United-States</th>\n",
       "      <th>native-country_ Vietnam</th>\n",
       "      <th>native-country_ Yugoslavia</th>\n",
       "    </tr>\n",
       "  </thead>\n",
       "  <tbody>\n",
       "    <tr>\n",
       "      <th>0</th>\n",
       "      <td>39</td>\n",
       "      <td>77516</td>\n",
       "      <td>13</td>\n",
       "      <td>2174</td>\n",
       "      <td>0</td>\n",
       "      <td>40</td>\n",
       "      <td>0</td>\n",
       "      <td>0.0</td>\n",
       "      <td>0.0</td>\n",
       "      <td>0.0</td>\n",
       "      <td>...</td>\n",
       "      <td>0.0</td>\n",
       "      <td>0.0</td>\n",
       "      <td>0.0</td>\n",
       "      <td>0.0</td>\n",
       "      <td>0.0</td>\n",
       "      <td>0.0</td>\n",
       "      <td>0.0</td>\n",
       "      <td>1.0</td>\n",
       "      <td>0.0</td>\n",
       "      <td>0.0</td>\n",
       "    </tr>\n",
       "    <tr>\n",
       "      <th>1</th>\n",
       "      <td>50</td>\n",
       "      <td>83311</td>\n",
       "      <td>13</td>\n",
       "      <td>0</td>\n",
       "      <td>0</td>\n",
       "      <td>13</td>\n",
       "      <td>0</td>\n",
       "      <td>0.0</td>\n",
       "      <td>0.0</td>\n",
       "      <td>0.0</td>\n",
       "      <td>...</td>\n",
       "      <td>0.0</td>\n",
       "      <td>0.0</td>\n",
       "      <td>0.0</td>\n",
       "      <td>0.0</td>\n",
       "      <td>0.0</td>\n",
       "      <td>0.0</td>\n",
       "      <td>0.0</td>\n",
       "      <td>1.0</td>\n",
       "      <td>0.0</td>\n",
       "      <td>0.0</td>\n",
       "    </tr>\n",
       "    <tr>\n",
       "      <th>2</th>\n",
       "      <td>38</td>\n",
       "      <td>215646</td>\n",
       "      <td>9</td>\n",
       "      <td>0</td>\n",
       "      <td>0</td>\n",
       "      <td>40</td>\n",
       "      <td>0</td>\n",
       "      <td>0.0</td>\n",
       "      <td>0.0</td>\n",
       "      <td>0.0</td>\n",
       "      <td>...</td>\n",
       "      <td>0.0</td>\n",
       "      <td>0.0</td>\n",
       "      <td>0.0</td>\n",
       "      <td>0.0</td>\n",
       "      <td>0.0</td>\n",
       "      <td>0.0</td>\n",
       "      <td>0.0</td>\n",
       "      <td>1.0</td>\n",
       "      <td>0.0</td>\n",
       "      <td>0.0</td>\n",
       "    </tr>\n",
       "    <tr>\n",
       "      <th>3</th>\n",
       "      <td>53</td>\n",
       "      <td>234721</td>\n",
       "      <td>7</td>\n",
       "      <td>0</td>\n",
       "      <td>0</td>\n",
       "      <td>40</td>\n",
       "      <td>0</td>\n",
       "      <td>0.0</td>\n",
       "      <td>0.0</td>\n",
       "      <td>0.0</td>\n",
       "      <td>...</td>\n",
       "      <td>0.0</td>\n",
       "      <td>0.0</td>\n",
       "      <td>0.0</td>\n",
       "      <td>0.0</td>\n",
       "      <td>0.0</td>\n",
       "      <td>0.0</td>\n",
       "      <td>0.0</td>\n",
       "      <td>1.0</td>\n",
       "      <td>0.0</td>\n",
       "      <td>0.0</td>\n",
       "    </tr>\n",
       "    <tr>\n",
       "      <th>4</th>\n",
       "      <td>28</td>\n",
       "      <td>338409</td>\n",
       "      <td>13</td>\n",
       "      <td>0</td>\n",
       "      <td>0</td>\n",
       "      <td>40</td>\n",
       "      <td>0</td>\n",
       "      <td>0.0</td>\n",
       "      <td>0.0</td>\n",
       "      <td>0.0</td>\n",
       "      <td>...</td>\n",
       "      <td>0.0</td>\n",
       "      <td>0.0</td>\n",
       "      <td>0.0</td>\n",
       "      <td>0.0</td>\n",
       "      <td>0.0</td>\n",
       "      <td>0.0</td>\n",
       "      <td>0.0</td>\n",
       "      <td>0.0</td>\n",
       "      <td>0.0</td>\n",
       "      <td>0.0</td>\n",
       "    </tr>\n",
       "  </tbody>\n",
       "</table>\n",
       "<p>5 rows × 101 columns</p>\n",
       "</div>"
      ]
     },
     "execution_count": 4,
     "metadata": {},
     "output_type": "execute_result"
    }
   ],
   "execution_count": 4
  },
  {
   "cell_type": "code",
   "source": [
    "X = data.drop('income', axis=1).values\n",
    "y = data['income'].values\n",
    "\n",
    "print(data.columns.tolist())"
   ],
   "metadata": {
    "collapsed": false,
    "pycharm": {
     "name": "#%%\n"
    },
    "ExecuteTime": {
     "end_time": "2024-08-04T01:41:33.040953Z",
     "start_time": "2024-08-04T01:41:33.026848Z"
    }
   },
   "outputs": [
    {
     "name": "stdout",
     "output_type": "stream",
     "text": [
      "['age', 'fnlwgt', 'education-num', 'capital-gain', 'capital-loss', 'hours-per-week', 'income', 'workclass_ Federal-gov', 'workclass_ Local-gov', 'workclass_ Never-worked', 'workclass_ Private', 'workclass_ Self-emp-inc', 'workclass_ Self-emp-not-inc', 'workclass_ State-gov', 'workclass_ Without-pay', 'education_ 11th', 'education_ 12th', 'education_ 1st-4th', 'education_ 5th-6th', 'education_ 7th-8th', 'education_ 9th', 'education_ Assoc-acdm', 'education_ Assoc-voc', 'education_ Bachelors', 'education_ Doctorate', 'education_ HS-grad', 'education_ Masters', 'education_ Preschool', 'education_ Prof-school', 'education_ Some-college', 'martial-status_ Married-AF-spouse', 'martial-status_ Married-civ-spouse', 'martial-status_ Married-spouse-absent', 'martial-status_ Never-married', 'martial-status_ Separated', 'martial-status_ Widowed', 'occupation_ Adm-clerical', 'occupation_ Armed-Forces', 'occupation_ Craft-repair', 'occupation_ Exec-managerial', 'occupation_ Farming-fishing', 'occupation_ Handlers-cleaners', 'occupation_ Machine-op-inspct', 'occupation_ Other-service', 'occupation_ Priv-house-serv', 'occupation_ Prof-specialty', 'occupation_ Protective-serv', 'occupation_ Sales', 'occupation_ Tech-support', 'occupation_ Transport-moving', 'relationship_ Not-in-family', 'relationship_ Other-relative', 'relationship_ Own-child', 'relationship_ Unmarried', 'relationship_ Wife', 'race_ Asian-Pac-Islander', 'race_ Black', 'race_ Other', 'race_ White', 'sex_ Male', 'native-country_ Cambodia', 'native-country_ Canada', 'native-country_ China', 'native-country_ Columbia', 'native-country_ Cuba', 'native-country_ Dominican-Republic', 'native-country_ Ecuador', 'native-country_ El-Salvador', 'native-country_ England', 'native-country_ France', 'native-country_ Germany', 'native-country_ Greece', 'native-country_ Guatemala', 'native-country_ Haiti', 'native-country_ Holand-Netherlands', 'native-country_ Honduras', 'native-country_ Hong', 'native-country_ Hungary', 'native-country_ India', 'native-country_ Iran', 'native-country_ Ireland', 'native-country_ Italy', 'native-country_ Jamaica', 'native-country_ Japan', 'native-country_ Laos', 'native-country_ Mexico', 'native-country_ Nicaragua', 'native-country_ Outlying-US(Guam-USVI-etc)', 'native-country_ Peru', 'native-country_ Philippines', 'native-country_ Poland', 'native-country_ Portugal', 'native-country_ Puerto-Rico', 'native-country_ Scotland', 'native-country_ South', 'native-country_ Taiwan', 'native-country_ Thailand', 'native-country_ Trinadad&Tobago', 'native-country_ United-States', 'native-country_ Vietnam', 'native-country_ Yugoslavia']\n"
     ]
    }
   ],
   "execution_count": 5
  },
  {
   "cell_type": "code",
   "source": [
    "X_train, X_test, y_train, y_test = train_test_split(X, y, test_size=0.2, random_state=42)"
   ],
   "metadata": {
    "collapsed": false,
    "pycharm": {
     "name": "#%%\n"
    },
    "ExecuteTime": {
     "end_time": "2024-08-04T01:41:33.717877Z",
     "start_time": "2024-08-04T01:41:33.702138Z"
    }
   },
   "outputs": [],
   "execution_count": 6
  },
  {
   "metadata": {
    "ExecuteTime": {
     "end_time": "2024-08-04T01:41:33.890533Z",
     "start_time": "2024-08-04T01:41:33.887690Z"
    }
   },
   "cell_type": "code",
   "source": "X_train.shape",
   "outputs": [
    {
     "data": {
      "text/plain": [
       "(26048, 100)"
      ]
     },
     "execution_count": 7,
     "metadata": {},
     "output_type": "execute_result"
    }
   ],
   "execution_count": 7
  },
  {
   "cell_type": "markdown",
   "source": [
    "### Model Training"
   ],
   "metadata": {
    "collapsed": false,
    "pycharm": {
     "name": "#%% md\n"
    }
   }
  },
  {
   "cell_type": "code",
   "source": [
    "model = tf.keras.Sequential([\n",
    "    tf.keras.layers.Input(shape=(X_train.shape[1],)),\n",
    "    tf.keras.layers.Dense(64, activation='relu'),\n",
    "    tf.keras.layers.Dense(128, activation='relu'),\n",
    "    tf.keras.layers.Dense(64, activation='relu'),\n",
    "    tf.keras.layers.Dense(1, activation='sigmoid')\n",
    "])\n",
    "optimizer = tf.keras.optimizers.Adam(learning_rate=0.001)\n",
    "\n",
    "model.compile(optimizer=optimizer, loss='binary_crossentropy', metrics=['accuracy'])"
   ],
   "metadata": {
    "collapsed": false,
    "pycharm": {
     "name": "#%%\n"
    },
    "ExecuteTime": {
     "end_time": "2024-08-04T01:41:34.450412Z",
     "start_time": "2024-08-04T01:41:34.413276Z"
    }
   },
   "outputs": [],
   "execution_count": 8
  },
  {
   "cell_type": "code",
   "source": [
    "early_stopping = tf.keras.callbacks.EarlyStopping(monitor='loss', patience=3)\n",
    "\n",
    "model.fit(X_train, y_train, epochs=100, batch_size=32, validation_split=0.1, callbacks=[early_stopping])"
   ],
   "metadata": {
    "collapsed": false,
    "pycharm": {
     "name": "#%%\n"
    },
    "ExecuteTime": {
     "end_time": "2024-08-04T01:41:43.934044Z",
     "start_time": "2024-08-04T01:41:34.597416Z"
    }
   },
   "outputs": [
    {
     "name": "stdout",
     "output_type": "stream",
     "text": [
      "Epoch 1/100\n",
      "\u001B[1m733/733\u001B[0m \u001B[32m━━━━━━━━━━━━━━━━━━━━\u001B[0m\u001B[37m\u001B[0m \u001B[1m1s\u001B[0m 782us/step - accuracy: 0.6648 - loss: 472.1396 - val_accuracy: 0.2365 - val_loss: 414.3333\n",
      "Epoch 2/100\n",
      "\u001B[1m733/733\u001B[0m \u001B[32m━━━━━━━━━━━━━━━━━━━━\u001B[0m\u001B[37m\u001B[0m \u001B[1m1s\u001B[0m 675us/step - accuracy: 0.6777 - loss: 139.6965 - val_accuracy: 0.7942 - val_loss: 17.3010\n",
      "Epoch 3/100\n",
      "\u001B[1m733/733\u001B[0m \u001B[32m━━━━━━━━━━━━━━━━━━━━\u001B[0m\u001B[37m\u001B[0m \u001B[1m1s\u001B[0m 697us/step - accuracy: 0.6854 - loss: 49.1168 - val_accuracy: 0.8019 - val_loss: 35.8321\n",
      "Epoch 4/100\n",
      "\u001B[1m733/733\u001B[0m \u001B[32m━━━━━━━━━━━━━━━━━━━━\u001B[0m\u001B[37m\u001B[0m \u001B[1m1s\u001B[0m 680us/step - accuracy: 0.6751 - loss: 30.7395 - val_accuracy: 0.8054 - val_loss: 8.6935\n",
      "Epoch 5/100\n",
      "\u001B[1m733/733\u001B[0m \u001B[32m━━━━━━━━━━━━━━━━━━━━\u001B[0m\u001B[37m\u001B[0m \u001B[1m0s\u001B[0m 662us/step - accuracy: 0.6782 - loss: 13.7026 - val_accuracy: 0.7927 - val_loss: 6.8598\n",
      "Epoch 6/100\n",
      "\u001B[1m733/733\u001B[0m \u001B[32m━━━━━━━━━━━━━━━━━━━━\u001B[0m\u001B[37m\u001B[0m \u001B[1m0s\u001B[0m 661us/step - accuracy: 0.6873 - loss: 3.5886 - val_accuracy: 0.8054 - val_loss: 5.3231\n",
      "Epoch 7/100\n",
      "\u001B[1m733/733\u001B[0m \u001B[32m━━━━━━━━━━━━━━━━━━━━\u001B[0m\u001B[37m\u001B[0m \u001B[1m0s\u001B[0m 660us/step - accuracy: 0.7015 - loss: 2.3460 - val_accuracy: 0.3466 - val_loss: 0.8639\n",
      "Epoch 8/100\n",
      "\u001B[1m733/733\u001B[0m \u001B[32m━━━━━━━━━━━━━━━━━━━━\u001B[0m\u001B[37m\u001B[0m \u001B[1m0s\u001B[0m 663us/step - accuracy: 0.7309 - loss: 0.7712 - val_accuracy: 0.8015 - val_loss: 0.5102\n",
      "Epoch 9/100\n",
      "\u001B[1m733/733\u001B[0m \u001B[32m━━━━━━━━━━━━━━━━━━━━\u001B[0m\u001B[37m\u001B[0m \u001B[1m0s\u001B[0m 661us/step - accuracy: 0.7590 - loss: 1.2229 - val_accuracy: 0.7866 - val_loss: 0.5399\n",
      "Epoch 10/100\n",
      "\u001B[1m733/733\u001B[0m \u001B[32m━━━━━━━━━━━━━━━━━━━━\u001B[0m\u001B[37m\u001B[0m \u001B[1m1s\u001B[0m 679us/step - accuracy: 0.7911 - loss: 0.5552 - val_accuracy: 0.8123 - val_loss: 0.4825\n",
      "Epoch 11/100\n",
      "\u001B[1m733/733\u001B[0m \u001B[32m━━━━━━━━━━━━━━━━━━━━\u001B[0m\u001B[37m\u001B[0m \u001B[1m1s\u001B[0m 689us/step - accuracy: 0.7978 - loss: 0.5124 - val_accuracy: 0.8177 - val_loss: 0.4685\n",
      "Epoch 12/100\n",
      "\u001B[1m733/733\u001B[0m \u001B[32m━━━━━━━━━━━━━━━━━━━━\u001B[0m\u001B[37m\u001B[0m \u001B[1m1s\u001B[0m 717us/step - accuracy: 0.7949 - loss: 0.5027 - val_accuracy: 0.8023 - val_loss: 0.4804\n",
      "Epoch 13/100\n",
      "\u001B[1m733/733\u001B[0m \u001B[32m━━━━━━━━━━━━━━━━━━━━\u001B[0m\u001B[37m\u001B[0m \u001B[1m1s\u001B[0m 688us/step - accuracy: 0.7990 - loss: 0.4998 - val_accuracy: 0.8165 - val_loss: 0.4690\n",
      "Epoch 14/100\n",
      "\u001B[1m733/733\u001B[0m \u001B[32m━━━━━━━━━━━━━━━━━━━━\u001B[0m\u001B[37m\u001B[0m \u001B[1m1s\u001B[0m 712us/step - accuracy: 0.8000 - loss: 0.4920 - val_accuracy: 0.8115 - val_loss: 0.4719\n",
      "Epoch 15/100\n",
      "\u001B[1m733/733\u001B[0m \u001B[32m━━━━━━━━━━━━━━━━━━━━\u001B[0m\u001B[37m\u001B[0m \u001B[1m0s\u001B[0m 666us/step - accuracy: 0.7935 - loss: 0.5007 - val_accuracy: 0.7973 - val_loss: 0.4925\n",
      "Epoch 16/100\n",
      "\u001B[1m733/733\u001B[0m \u001B[32m━━━━━━━━━━━━━━━━━━━━\u001B[0m\u001B[37m\u001B[0m \u001B[1m1s\u001B[0m 709us/step - accuracy: 0.7904 - loss: 0.5108 - val_accuracy: 0.8115 - val_loss: 0.4746\n",
      "Epoch 17/100\n",
      "\u001B[1m733/733\u001B[0m \u001B[32m━━━━━━━━━━━━━━━━━━━━\u001B[0m\u001B[37m\u001B[0m \u001B[1m0s\u001B[0m 656us/step - accuracy: 0.7913 - loss: 0.5068 - val_accuracy: 0.7839 - val_loss: 0.5185\n"
     ]
    },
    {
     "data": {
      "text/plain": [
       "<keras.src.callbacks.history.History at 0x31ed34e20>"
      ]
     },
     "execution_count": 9,
     "metadata": {},
     "output_type": "execute_result"
    }
   ],
   "execution_count": 9
  },
  {
   "cell_type": "code",
   "source": "loss, accuracy = model.evaluate(X_test, y_test)",
   "metadata": {
    "collapsed": false,
    "pycharm": {
     "name": "#%%\n"
    },
    "ExecuteTime": {
     "end_time": "2024-08-04T01:41:44.040105Z",
     "start_time": "2024-08-04T01:41:43.935406Z"
    }
   },
   "outputs": [
    {
     "name": "stdout",
     "output_type": "stream",
     "text": [
      "\u001B[1m204/204\u001B[0m \u001B[32m━━━━━━━━━━━━━━━━━━━━\u001B[0m\u001B[37m\u001B[0m \u001B[1m0s\u001B[0m 353us/step - accuracy: 0.7715 - loss: 0.5325\n"
     ]
    }
   ],
   "execution_count": 10
  },
  {
   "cell_type": "code",
   "source": "y_pred = model.predict(X_test)",
   "metadata": {
    "collapsed": false,
    "pycharm": {
     "name": "#%%\n"
    },
    "ExecuteTime": {
     "end_time": "2024-08-04T01:41:44.207911Z",
     "start_time": "2024-08-04T01:41:44.041034Z"
    }
   },
   "outputs": [
    {
     "name": "stdout",
     "output_type": "stream",
     "text": [
      "\u001B[1m204/204\u001B[0m \u001B[32m━━━━━━━━━━━━━━━━━━━━\u001B[0m\u001B[37m\u001B[0m \u001B[1m0s\u001B[0m 428us/step\n"
     ]
    }
   ],
   "execution_count": 11
  },
  {
   "cell_type": "markdown",
   "source": [
    "## Model Card Generation"
   ],
   "metadata": {
    "collapsed": false,
    "pycharm": {
     "name": "#%% md\n"
    }
   }
  },
  {
   "cell_type": "code",
   "source": "from patra_model_card.patra_model_card import ModelCard, AIModel, BiasAnalysis, ExplainabilityAnalysis",
   "metadata": {
    "collapsed": false,
    "pycharm": {
     "name": "#%%\n"
    },
    "ExecuteTime": {
     "end_time": "2024-08-04T01:41:44.669903Z",
     "start_time": "2024-08-04T01:41:44.209756Z"
    }
   },
   "outputs": [],
   "execution_count": 12
  },
  {
   "cell_type": "code",
   "source": [
    "mc = ModelCard(\n",
    "            name=\"UCI Adult Data Analysis model using Tensorflow\",\n",
    "            version=\"0.1\",\n",
    "            short_description=\"UCI Adult Data analysis using Tensorflow for demonstration of Patra Model Cards.\",\n",
    "            full_description=\"We have trained a ML model using the tensorflow framework to predict income for the UCI Adult Dataset. We leverage this data to run the Patra model cards to capture metadata about the model as well as fairness and explainability metrics.\",\n",
    "            keywords=\"uci adult, tensorflow, explainability, fairness, patra\",\n",
    "            author=\"Sachith Withana\",\n",
    "            input_type=\"Tabular\",\n",
    "            category=\"classification\"\n",
    "        )\n",
    "\n",
    "mc.input_data = 'https://archive.ics.uci.edu/dataset/2/adult'\n",
    "mc.output_data = 'https://github.iu.edu/d2i/dockerhub/tensorflow/adult_modelv01'"
   ],
   "metadata": {
    "collapsed": false,
    "pycharm": {
     "name": "#%%\n"
    },
    "ExecuteTime": {
     "end_time": "2024-08-04T01:41:44.673683Z",
     "start_time": "2024-08-04T01:41:44.670990Z"
    }
   },
   "outputs": [],
   "execution_count": 13
  },
  {
   "metadata": {
    "ExecuteTime": {
     "end_time": "2024-08-04T01:41:44.677596Z",
     "start_time": "2024-08-04T01:41:44.674422Z"
    }
   },
   "cell_type": "code",
   "source": [
    "def remove_nulls(model_structure):\n",
    "    if isinstance(model_structure, dict):\n",
    "        return {k: remove_nulls(v) for k, v in model_structure.items() if v is not None and remove_nulls(v)}\n",
    "    elif isinstance(model_structure, list):\n",
    "        return [remove_nulls(v) for v in model_structure if v is not None and remove_nulls(v) != []]\n",
    "    else:\n",
    "        return model_structure\n",
    "\n",
    "def get_model_structure(model_structure):\n",
    "    json_structure = json.loads(model_structure)\n",
    "    cleaned_structure = remove_nulls(json_structure)\n",
    "    return cleaned_structure"
   ],
   "outputs": [],
   "execution_count": 14
  },
  {
   "cell_type": "code",
   "source": [
    "ai_model = AIModel(\n",
    "            name=\"Income prediction tensorflow model\",\n",
    "            version=\"0.1\",\n",
    "            description=\"Census classification problem using Tensorflow Neural Network using the UCI Adult Dataset\",\n",
    "            owner=\"Sachith Withana\",\n",
    "            location=\"https://github.iu.edu/d2i/uci_adult/tensorflow_model\",\n",
    "            license=\"BSD-3 Clause\",\n",
    "            framework=\"tensorflow\",\n",
    "            foundational_model=\"None\",\n",
    "            model_type=\"dnn\",\n",
    "            test_accuracy=accuracy,\n",
    "            model_structure = get_model_structure(model.to_json())\n",
    "        )\n"
   ],
   "metadata": {
    "collapsed": false,
    "pycharm": {
     "name": "#%%\n"
    },
    "ExecuteTime": {
     "end_time": "2024-08-04T01:41:44.684377Z",
     "start_time": "2024-08-04T01:41:44.678497Z"
    }
   },
   "outputs": [],
   "execution_count": 15
  },
  {
   "metadata": {
    "ExecuteTime": {
     "end_time": "2024-08-04T01:41:44.687766Z",
     "start_time": "2024-08-04T01:41:44.685227Z"
    }
   },
   "cell_type": "code",
   "source": [
    "ai_model.add_metric(\"Test loss\", loss)\n",
    "ai_model.add_metric(\"Epochs\", 100)\n",
    "ai_model.add_metric(\"Batch Size\", 32)\n",
    "ai_model.add_metric(\"Optimizer\", \"Adam\")\n",
    "ai_model.add_metric(\"Learning Rate\", 0.0001)\n",
    "ai_model.add_metric(\"Input Shape\", \"(26048, 100)\")"
   ],
   "outputs": [],
   "execution_count": 16
  },
  {
   "metadata": {
    "ExecuteTime": {
     "end_time": "2024-08-04T01:41:44.690877Z",
     "start_time": "2024-08-04T01:41:44.688685Z"
    }
   },
   "cell_type": "code",
   "source": "mc.ai_model = ai_model",
   "outputs": [],
   "execution_count": 17
  },
  {
   "metadata": {
    "ExecuteTime": {
     "end_time": "2024-08-04T01:41:44.694969Z",
     "start_time": "2024-08-04T01:41:44.693120Z"
    }
   },
   "cell_type": "code",
   "source": "mc.populate_requirements()",
   "outputs": [],
   "execution_count": 18
  },
  {
   "metadata": {
    "ExecuteTime": {
     "end_time": "2024-08-04T01:41:44.698468Z",
     "start_time": "2024-08-04T01:41:44.695901Z"
    }
   },
   "cell_type": "code",
   "source": "print(mc)",
   "outputs": [
    {
     "name": "stdout",
     "output_type": "stream",
     "text": [
      "{\n",
      "    \"name\": \"UCI Adult Data Analysis model using Tensorflow\",\n",
      "    \"version\": \"0.1\",\n",
      "    \"short_description\": \"UCI Adult Data analysis using Tensorflow for demonstration of Patra Model Cards.\",\n",
      "    \"full_description\": \"We have trained a ML model using the tensorflow framework to predict income for the UCI Adult Dataset. We leverage this data to run the Patra model cards to capture metadata about the model as well as fairness and explainability metrics.\",\n",
      "    \"keywords\": \"uci adult, tensorflow, explainability, fairness, patra\",\n",
      "    \"author\": \"Sachith Withana\",\n",
      "    \"input_type\": \"Tabular\",\n",
      "    \"category\": \"classification\",\n",
      "    \"input_data\": \"https://archive.ics.uci.edu/dataset/2/adult\",\n",
      "    \"output_data\": \"https://github.iu.edu/d2i/dockerhub/tensorflow/adult_modelv01\",\n",
      "    \"ai_model\": {\n",
      "        \"name\": \"Income prediction tensorflow model\",\n",
      "        \"version\": \"0.1\",\n",
      "        \"description\": \"Census classification problem using Tensorflow Neural Network using the UCI Adult Dataset\",\n",
      "        \"owner\": \"Sachith Withana\",\n",
      "        \"location\": \"https://github.iu.edu/d2i/uci_adult/tensorflow_model\",\n",
      "        \"license\": \"BSD-3 Clause\",\n",
      "        \"framework\": \"tensorflow\",\n",
      "        \"model_type\": \"dnn\",\n",
      "        \"test_accuracy\": 0.776140034198761,\n",
      "        \"foundational_model\": \"None\",\n",
      "        \"model_structure\": {\n",
      "            \"module\": \"keras\",\n",
      "            \"class_name\": \"Sequential\",\n",
      "            \"config\": {\n",
      "                \"name\": \"sequential\",\n",
      "                \"trainable\": true,\n",
      "                \"dtype\": {\n",
      "                    \"module\": \"keras\",\n",
      "                    \"class_name\": \"DTypePolicy\",\n",
      "                    \"config\": {\n",
      "                        \"name\": \"float32\"\n",
      "                    }\n",
      "                },\n",
      "                \"layers\": [\n",
      "                    {\n",
      "                        \"module\": \"keras.layers\",\n",
      "                        \"class_name\": \"InputLayer\",\n",
      "                        \"config\": {\n",
      "                            \"batch_shape\": [\n",
      "                                100\n",
      "                            ],\n",
      "                            \"dtype\": \"float32\",\n",
      "                            \"name\": \"input_layer\"\n",
      "                        }\n",
      "                    },\n",
      "                    {\n",
      "                        \"module\": \"keras.layers\",\n",
      "                        \"class_name\": \"Dense\",\n",
      "                        \"config\": {\n",
      "                            \"name\": \"dense\",\n",
      "                            \"trainable\": true,\n",
      "                            \"dtype\": {\n",
      "                                \"module\": \"keras\",\n",
      "                                \"class_name\": \"DTypePolicy\",\n",
      "                                \"config\": {\n",
      "                                    \"name\": \"float32\"\n",
      "                                }\n",
      "                            },\n",
      "                            \"units\": 64,\n",
      "                            \"activation\": \"relu\",\n",
      "                            \"use_bias\": true,\n",
      "                            \"kernel_initializer\": {\n",
      "                                \"module\": \"keras.initializers\",\n",
      "                                \"class_name\": \"GlorotUniform\"\n",
      "                            },\n",
      "                            \"bias_initializer\": {\n",
      "                                \"module\": \"keras.initializers\",\n",
      "                                \"class_name\": \"Zeros\"\n",
      "                            }\n",
      "                        },\n",
      "                        \"build_config\": {\n",
      "                            \"input_shape\": [\n",
      "                                100\n",
      "                            ]\n",
      "                        }\n",
      "                    },\n",
      "                    {\n",
      "                        \"module\": \"keras.layers\",\n",
      "                        \"class_name\": \"Dense\",\n",
      "                        \"config\": {\n",
      "                            \"name\": \"dense_1\",\n",
      "                            \"trainable\": true,\n",
      "                            \"dtype\": {\n",
      "                                \"module\": \"keras\",\n",
      "                                \"class_name\": \"DTypePolicy\",\n",
      "                                \"config\": {\n",
      "                                    \"name\": \"float32\"\n",
      "                                }\n",
      "                            },\n",
      "                            \"units\": 128,\n",
      "                            \"activation\": \"relu\",\n",
      "                            \"use_bias\": true,\n",
      "                            \"kernel_initializer\": {\n",
      "                                \"module\": \"keras.initializers\",\n",
      "                                \"class_name\": \"GlorotUniform\"\n",
      "                            },\n",
      "                            \"bias_initializer\": {\n",
      "                                \"module\": \"keras.initializers\",\n",
      "                                \"class_name\": \"Zeros\"\n",
      "                            }\n",
      "                        },\n",
      "                        \"build_config\": {\n",
      "                            \"input_shape\": [\n",
      "                                64\n",
      "                            ]\n",
      "                        }\n",
      "                    },\n",
      "                    {\n",
      "                        \"module\": \"keras.layers\",\n",
      "                        \"class_name\": \"Dense\",\n",
      "                        \"config\": {\n",
      "                            \"name\": \"dense_2\",\n",
      "                            \"trainable\": true,\n",
      "                            \"dtype\": {\n",
      "                                \"module\": \"keras\",\n",
      "                                \"class_name\": \"DTypePolicy\",\n",
      "                                \"config\": {\n",
      "                                    \"name\": \"float32\"\n",
      "                                }\n",
      "                            },\n",
      "                            \"units\": 64,\n",
      "                            \"activation\": \"relu\",\n",
      "                            \"use_bias\": true,\n",
      "                            \"kernel_initializer\": {\n",
      "                                \"module\": \"keras.initializers\",\n",
      "                                \"class_name\": \"GlorotUniform\"\n",
      "                            },\n",
      "                            \"bias_initializer\": {\n",
      "                                \"module\": \"keras.initializers\",\n",
      "                                \"class_name\": \"Zeros\"\n",
      "                            }\n",
      "                        },\n",
      "                        \"build_config\": {\n",
      "                            \"input_shape\": [\n",
      "                                128\n",
      "                            ]\n",
      "                        }\n",
      "                    },\n",
      "                    {\n",
      "                        \"module\": \"keras.layers\",\n",
      "                        \"class_name\": \"Dense\",\n",
      "                        \"config\": {\n",
      "                            \"name\": \"dense_3\",\n",
      "                            \"trainable\": true,\n",
      "                            \"dtype\": {\n",
      "                                \"module\": \"keras\",\n",
      "                                \"class_name\": \"DTypePolicy\",\n",
      "                                \"config\": {\n",
      "                                    \"name\": \"float32\"\n",
      "                                }\n",
      "                            },\n",
      "                            \"units\": 1,\n",
      "                            \"activation\": \"sigmoid\",\n",
      "                            \"use_bias\": true,\n",
      "                            \"kernel_initializer\": {\n",
      "                                \"module\": \"keras.initializers\",\n",
      "                                \"class_name\": \"GlorotUniform\"\n",
      "                            },\n",
      "                            \"bias_initializer\": {\n",
      "                                \"module\": \"keras.initializers\",\n",
      "                                \"class_name\": \"Zeros\"\n",
      "                            }\n",
      "                        },\n",
      "                        \"build_config\": {\n",
      "                            \"input_shape\": [\n",
      "                                64\n",
      "                            ]\n",
      "                        }\n",
      "                    }\n",
      "                ],\n",
      "                \"build_input_shape\": [\n",
      "                    100\n",
      "                ]\n",
      "            },\n",
      "            \"build_config\": {\n",
      "                \"input_shape\": [\n",
      "                    100\n",
      "                ]\n",
      "            },\n",
      "            \"compile_config\": {\n",
      "                \"optimizer\": {\n",
      "                    \"module\": \"keras.optimizers\",\n",
      "                    \"class_name\": \"Adam\",\n",
      "                    \"config\": {\n",
      "                        \"name\": \"adam\",\n",
      "                        \"learning_rate\": 0.0010000000474974513,\n",
      "                        \"ema_momentum\": 0.99,\n",
      "                        \"beta_1\": 0.9,\n",
      "                        \"beta_2\": 0.999,\n",
      "                        \"epsilon\": 1e-07\n",
      "                    }\n",
      "                },\n",
      "                \"loss\": \"binary_crossentropy\",\n",
      "                \"metrics\": [\n",
      "                    \"accuracy\"\n",
      "                ],\n",
      "                \"steps_per_execution\": 1\n",
      "            }\n",
      "        },\n",
      "        \"metrics\": {\n",
      "            \"Test loss\": 0.5264031887054443,\n",
      "            \"Epochs\": 100,\n",
      "            \"Batch Size\": 32,\n",
      "            \"Optimizer\": \"Adam\",\n",
      "            \"Learning Rate\": 0.0001,\n",
      "            \"Input Shape\": \"(26048, 100)\"\n",
      "        }\n",
      "    },\n",
      "    \"bias_analysis\": null,\n",
      "    \"xai_analysis\": null,\n",
      "    \"model_requirements\": [\n",
      "        \"absl-py==2.1.0\",\n",
      "        \"anyio==4.4.0\",\n",
      "        \"appnope==0.1.4\",\n",
      "        \"argon2-cffi-bindings==21.2.0\",\n",
      "        \"argon2-cffi==23.1.0\",\n",
      "        \"arrow==1.3.0\",\n",
      "        \"asttokens==2.4.1\",\n",
      "        \"astunparse==1.6.3\",\n",
      "        \"async-lru==2.0.4\",\n",
      "        \"attrs==23.1.0\",\n",
      "        \"babel==2.15.0\",\n",
      "        \"beautifulsoup4==4.12.3\",\n",
      "        \"bleach==6.1.0\",\n",
      "        \"certifi==2024.6.2\",\n",
      "        \"cffi==1.16.0\",\n",
      "        \"charset-normalizer==3.3.2\",\n",
      "        \"cloudpickle==3.0.0\",\n",
      "        \"comm==0.2.2\",\n",
      "        \"debugpy==1.8.1\",\n",
      "        \"decorator==5.1.1\",\n",
      "        \"defusedxml==0.7.1\",\n",
      "        \"exceptiongroup==1.2.1\",\n",
      "        \"executing==2.0.1\",\n",
      "        \"fastjsonschema==2.20.0\",\n",
      "        \"flatbuffers==24.3.25\",\n",
      "        \"fqdn==1.5.1\",\n",
      "        \"gast==0.6.0\",\n",
      "        \"google-pasta==0.2.0\",\n",
      "        \"grpcio==1.65.4\",\n",
      "        \"h11==0.14.0\",\n",
      "        \"h5py==3.11.0\",\n",
      "        \"httpcore==1.0.5\",\n",
      "        \"httpx==0.27.0\",\n",
      "        \"idna==3.7\",\n",
      "        \"importlib-metadata==7.2.1\",\n",
      "        \"ipykernel==6.29.4\",\n",
      "        \"ipython==8.18.1\",\n",
      "        \"ipywidgets==8.1.3\",\n",
      "        \"isoduration==20.11.0\",\n",
      "        \"jedi==0.19.1\",\n",
      "        \"jinja2==3.1.4\",\n",
      "        \"joblib==1.4.2\",\n",
      "        \"json5==0.9.25\",\n",
      "        \"jsonpointer==3.0.0\",\n",
      "        \"jsonschema-specifications==2023.12.1\",\n",
      "        \"jsonschema==4.18.6\",\n",
      "        \"jupyter-client==8.6.2\",\n",
      "        \"jupyter-console==6.6.3\",\n",
      "        \"jupyter-core==5.7.2\",\n",
      "        \"jupyter-events==0.10.0\",\n",
      "        \"jupyter-lsp==2.2.5\",\n",
      "        \"jupyter-server-terminals==0.5.3\",\n",
      "        \"jupyter-server==2.14.1\",\n",
      "        \"jupyter==1.0.0\",\n",
      "        \"jupyterlab-pygments==0.3.0\",\n",
      "        \"jupyterlab-server==2.27.2\",\n",
      "        \"jupyterlab-widgets==3.0.11\",\n",
      "        \"jupyterlab==4.2.2\",\n",
      "        \"keras==3.4.1\",\n",
      "        \"libclang==18.1.1\",\n",
      "        \"llvmlite==0.43.0\",\n",
      "        \"markdown-it-py==3.0.0\",\n",
      "        \"markdown==3.6\",\n",
      "        \"markupsafe==2.1.5\",\n",
      "        \"matplotlib-inline==0.1.7\",\n",
      "        \"mdurl==0.1.2\",\n",
      "        \"mistune==3.0.2\",\n",
      "        \"ml-dtypes==0.4.0\",\n",
      "        \"namex==0.0.8\",\n",
      "        \"nbclient==0.10.0\",\n",
      "        \"nbconvert==7.16.4\",\n",
      "        \"nbformat==5.10.4\",\n",
      "        \"nest-asyncio==1.6.0\",\n",
      "        \"notebook-shim==0.2.4\",\n",
      "        \"notebook==7.2.1\",\n",
      "        \"numba==0.60.0\",\n",
      "        \"numpy==1.26.4\",\n",
      "        \"opt-einsum==3.3.0\",\n",
      "        \"optree==0.12.1\",\n",
      "        \"overrides==7.7.0\",\n",
      "        \"packaging==24.1\",\n",
      "        \"pandas==2.2.2\",\n",
      "        \"pandocfilters==1.5.1\",\n",
      "        \"parso==0.8.4\",\n",
      "        \"pexpect==4.9.0\",\n",
      "        \"pip==21.3.1\",\n",
      "        \"platformdirs==4.2.2\",\n",
      "        \"prometheus-client==0.20.0\",\n",
      "        \"prompt-toolkit==3.0.47\",\n",
      "        \"protobuf==4.25.4\",\n",
      "        \"psutil==6.0.0\",\n",
      "        \"ptyprocess==0.7.0\",\n",
      "        \"pure-eval==0.2.2\",\n",
      "        \"pycparser==2.22\",\n",
      "        \"pygments==2.18.0\",\n",
      "        \"pyrsistent==0.19.3\",\n",
      "        \"python-dateutil==2.9.0.post0\",\n",
      "        \"python-json-logger==2.0.7\",\n",
      "        \"pytz==2024.1\",\n",
      "        \"pyyaml==6.0.1\",\n",
      "        \"pyzmq==26.0.3\",\n",
      "        \"qtconsole==5.5.2\",\n",
      "        \"qtpy==2.4.1\",\n",
      "        \"referencing==0.35.1\",\n",
      "        \"requests==2.32.3\",\n",
      "        \"rfc3339-validator==0.1.4\",\n",
      "        \"rfc3986-validator==0.1.1\",\n",
      "        \"rich==13.7.1\",\n",
      "        \"rpds-py==0.18.1\",\n",
      "        \"scikit-learn==1.5.0\",\n",
      "        \"scipy==1.13.1\",\n",
      "        \"send2trash==1.8.3\",\n",
      "        \"setuptools==60.2.0\",\n",
      "        \"six==1.16.0\",\n",
      "        \"slicer==0.0.8\",\n",
      "        \"sniffio==1.3.1\",\n",
      "        \"soupsieve==2.5\",\n",
      "        \"stack-data==0.6.3\",\n",
      "        \"tensorboard-data-server==0.7.2\",\n",
      "        \"tensorboard==2.17.0\",\n",
      "        \"tensorflow-io-gcs-filesystem==0.37.1\",\n",
      "        \"tensorflow==2.17.0\",\n",
      "        \"termcolor==2.4.0\",\n",
      "        \"terminado==0.18.1\",\n",
      "        \"threadpoolctl==3.5.0\",\n",
      "        \"tinycss2==1.3.0\",\n",
      "        \"tomli==2.0.1\",\n",
      "        \"tornado==6.4.1\",\n",
      "        \"tqdm==4.66.4\",\n",
      "        \"traitlets==5.14.3\",\n",
      "        \"types-python-dateutil==2.9.0.20240316\",\n",
      "        \"typing-extensions==4.12.2\",\n",
      "        \"tzdata==2024.1\",\n",
      "        \"uri-template==1.3.0\",\n",
      "        \"urllib3==2.2.2\",\n",
      "        \"wcwidth==0.2.13\",\n",
      "        \"webcolors==24.6.0\",\n",
      "        \"webencodings==0.5.1\",\n",
      "        \"websocket-client==1.8.0\",\n",
      "        \"werkzeug==3.0.3\",\n",
      "        \"wheel==0.37.1\",\n",
      "        \"widgetsnbextension==4.0.11\",\n",
      "        \"wrapt==1.16.0\",\n",
      "        \"zipp==3.19.2\"\n",
      "    ]\n",
      "}\n"
     ]
    }
   ],
   "execution_count": 19
  },
  {
   "cell_type": "code",
   "source": [
    "y_pred = model.predict(X_test)\n",
    "y_pred = (y_pred >= 0.5).flatten()\n",
    "mc.populate_bias(X_test, y_test, y_pred, \"gender\", X_test[:, 58], model)"
   ],
   "metadata": {
    "collapsed": false,
    "pycharm": {
     "name": "#%%\n"
    },
    "ExecuteTime": {
     "end_time": "2024-08-04T01:41:44.870199Z",
     "start_time": "2024-08-04T01:41:44.699251Z"
    }
   },
   "outputs": [
    {
     "name": "stdout",
     "output_type": "stream",
     "text": [
      "\u001B[1m204/204\u001B[0m \u001B[32m━━━━━━━━━━━━━━━━━━━━\u001B[0m\u001B[37m\u001B[0m \u001B[1m0s\u001B[0m 352us/step\n"
     ]
    }
   ],
   "execution_count": 20
  },
  {
   "cell_type": "code",
   "source": [
    "x_columns = data.columns.tolist()\n",
    "x_columns.remove('income')\n",
    "\n",
    "mc.populate_xai(X_test[:10], x_columns, model, 10)"
   ],
   "metadata": {
    "collapsed": false,
    "pycharm": {
     "name": "#%%\n"
    },
    "ExecuteTime": {
     "end_time": "2024-08-04T01:41:46.795322Z",
     "start_time": "2024-08-04T01:41:44.871484Z"
    }
   },
   "outputs": [],
   "execution_count": 21
  },
  {
   "cell_type": "code",
   "source": [
    "print(mc.bias_analysis)"
   ],
   "metadata": {
    "collapsed": false,
    "pycharm": {
     "name": "#%%\n"
    },
    "ExecuteTime": {
     "end_time": "2024-08-04T01:41:46.798626Z",
     "start_time": "2024-08-04T01:41:46.796272Z"
    }
   },
   "outputs": [
    {
     "name": "stdout",
     "output_type": "stream",
     "text": [
      "{'demographic_parity_diff': 0.016893322677259265, 'equal_odds_difference': 0.015399962791175094}\n"
     ]
    }
   ],
   "execution_count": 22
  },
  {
   "cell_type": "code",
   "source": [
    "print(mc.xai_analysis)"
   ],
   "metadata": {
    "collapsed": false,
    "pycharm": {
     "name": "#%%\n"
    },
    "ExecuteTime": {
     "end_time": "2024-08-04T01:41:46.802065Z",
     "start_time": "2024-08-04T01:41:46.799816Z"
    }
   },
   "outputs": [
    {
     "name": "stdout",
     "output_type": "stream",
     "text": [
      "{'capital-gain': 0.08574622329324483, 'fnlwgt': 0.00804802388780647, 'age': 0.0001878592330548499, 'occupation_ Exec-managerial': 5.9379508925811665e-05, 'martial-status_ Married-civ-spouse': 3.860872652795555e-05, 'relationship_ Not-in-family': 3.367731968561703e-05, 'hours-per-week': 2.597770757145361e-05, 'education_ HS-grad': 2.5964784953329577e-05, 'martial-status_ Never-married': 1.6633578472667918e-05, 'workclass_ Private': 1.529919190539499e-05}\n"
     ]
    }
   ],
   "execution_count": 23
  },
  {
   "cell_type": "code",
   "source": [
    "print(mc)"
   ],
   "metadata": {
    "collapsed": false,
    "pycharm": {
     "name": "#%%\n"
    },
    "ExecuteTime": {
     "end_time": "2024-08-04T01:41:46.805772Z",
     "start_time": "2024-08-04T01:41:46.803155Z"
    }
   },
   "outputs": [
    {
     "name": "stdout",
     "output_type": "stream",
     "text": [
      "{\n",
      "    \"name\": \"UCI Adult Data Analysis model using Tensorflow\",\n",
      "    \"version\": \"0.1\",\n",
      "    \"short_description\": \"UCI Adult Data analysis using Tensorflow for demonstration of Patra Model Cards.\",\n",
      "    \"full_description\": \"We have trained a ML model using the tensorflow framework to predict income for the UCI Adult Dataset. We leverage this data to run the Patra model cards to capture metadata about the model as well as fairness and explainability metrics.\",\n",
      "    \"keywords\": \"uci adult, tensorflow, explainability, fairness, patra\",\n",
      "    \"author\": \"Sachith Withana\",\n",
      "    \"input_type\": \"Tabular\",\n",
      "    \"category\": \"classification\",\n",
      "    \"input_data\": \"https://archive.ics.uci.edu/dataset/2/adult\",\n",
      "    \"output_data\": \"https://github.iu.edu/d2i/dockerhub/tensorflow/adult_modelv01\",\n",
      "    \"ai_model\": {\n",
      "        \"name\": \"Income prediction tensorflow model\",\n",
      "        \"version\": \"0.1\",\n",
      "        \"description\": \"Census classification problem using Tensorflow Neural Network using the UCI Adult Dataset\",\n",
      "        \"owner\": \"Sachith Withana\",\n",
      "        \"location\": \"https://github.iu.edu/d2i/uci_adult/tensorflow_model\",\n",
      "        \"license\": \"BSD-3 Clause\",\n",
      "        \"framework\": \"tensorflow\",\n",
      "        \"model_type\": \"dnn\",\n",
      "        \"test_accuracy\": 0.776140034198761,\n",
      "        \"foundational_model\": \"None\",\n",
      "        \"model_structure\": {\n",
      "            \"module\": \"keras\",\n",
      "            \"class_name\": \"Sequential\",\n",
      "            \"config\": {\n",
      "                \"name\": \"sequential\",\n",
      "                \"trainable\": true,\n",
      "                \"dtype\": {\n",
      "                    \"module\": \"keras\",\n",
      "                    \"class_name\": \"DTypePolicy\",\n",
      "                    \"config\": {\n",
      "                        \"name\": \"float32\"\n",
      "                    }\n",
      "                },\n",
      "                \"layers\": [\n",
      "                    {\n",
      "                        \"module\": \"keras.layers\",\n",
      "                        \"class_name\": \"InputLayer\",\n",
      "                        \"config\": {\n",
      "                            \"batch_shape\": [\n",
      "                                100\n",
      "                            ],\n",
      "                            \"dtype\": \"float32\",\n",
      "                            \"name\": \"input_layer\"\n",
      "                        }\n",
      "                    },\n",
      "                    {\n",
      "                        \"module\": \"keras.layers\",\n",
      "                        \"class_name\": \"Dense\",\n",
      "                        \"config\": {\n",
      "                            \"name\": \"dense\",\n",
      "                            \"trainable\": true,\n",
      "                            \"dtype\": {\n",
      "                                \"module\": \"keras\",\n",
      "                                \"class_name\": \"DTypePolicy\",\n",
      "                                \"config\": {\n",
      "                                    \"name\": \"float32\"\n",
      "                                }\n",
      "                            },\n",
      "                            \"units\": 64,\n",
      "                            \"activation\": \"relu\",\n",
      "                            \"use_bias\": true,\n",
      "                            \"kernel_initializer\": {\n",
      "                                \"module\": \"keras.initializers\",\n",
      "                                \"class_name\": \"GlorotUniform\"\n",
      "                            },\n",
      "                            \"bias_initializer\": {\n",
      "                                \"module\": \"keras.initializers\",\n",
      "                                \"class_name\": \"Zeros\"\n",
      "                            }\n",
      "                        },\n",
      "                        \"build_config\": {\n",
      "                            \"input_shape\": [\n",
      "                                100\n",
      "                            ]\n",
      "                        }\n",
      "                    },\n",
      "                    {\n",
      "                        \"module\": \"keras.layers\",\n",
      "                        \"class_name\": \"Dense\",\n",
      "                        \"config\": {\n",
      "                            \"name\": \"dense_1\",\n",
      "                            \"trainable\": true,\n",
      "                            \"dtype\": {\n",
      "                                \"module\": \"keras\",\n",
      "                                \"class_name\": \"DTypePolicy\",\n",
      "                                \"config\": {\n",
      "                                    \"name\": \"float32\"\n",
      "                                }\n",
      "                            },\n",
      "                            \"units\": 128,\n",
      "                            \"activation\": \"relu\",\n",
      "                            \"use_bias\": true,\n",
      "                            \"kernel_initializer\": {\n",
      "                                \"module\": \"keras.initializers\",\n",
      "                                \"class_name\": \"GlorotUniform\"\n",
      "                            },\n",
      "                            \"bias_initializer\": {\n",
      "                                \"module\": \"keras.initializers\",\n",
      "                                \"class_name\": \"Zeros\"\n",
      "                            }\n",
      "                        },\n",
      "                        \"build_config\": {\n",
      "                            \"input_shape\": [\n",
      "                                64\n",
      "                            ]\n",
      "                        }\n",
      "                    },\n",
      "                    {\n",
      "                        \"module\": \"keras.layers\",\n",
      "                        \"class_name\": \"Dense\",\n",
      "                        \"config\": {\n",
      "                            \"name\": \"dense_2\",\n",
      "                            \"trainable\": true,\n",
      "                            \"dtype\": {\n",
      "                                \"module\": \"keras\",\n",
      "                                \"class_name\": \"DTypePolicy\",\n",
      "                                \"config\": {\n",
      "                                    \"name\": \"float32\"\n",
      "                                }\n",
      "                            },\n",
      "                            \"units\": 64,\n",
      "                            \"activation\": \"relu\",\n",
      "                            \"use_bias\": true,\n",
      "                            \"kernel_initializer\": {\n",
      "                                \"module\": \"keras.initializers\",\n",
      "                                \"class_name\": \"GlorotUniform\"\n",
      "                            },\n",
      "                            \"bias_initializer\": {\n",
      "                                \"module\": \"keras.initializers\",\n",
      "                                \"class_name\": \"Zeros\"\n",
      "                            }\n",
      "                        },\n",
      "                        \"build_config\": {\n",
      "                            \"input_shape\": [\n",
      "                                128\n",
      "                            ]\n",
      "                        }\n",
      "                    },\n",
      "                    {\n",
      "                        \"module\": \"keras.layers\",\n",
      "                        \"class_name\": \"Dense\",\n",
      "                        \"config\": {\n",
      "                            \"name\": \"dense_3\",\n",
      "                            \"trainable\": true,\n",
      "                            \"dtype\": {\n",
      "                                \"module\": \"keras\",\n",
      "                                \"class_name\": \"DTypePolicy\",\n",
      "                                \"config\": {\n",
      "                                    \"name\": \"float32\"\n",
      "                                }\n",
      "                            },\n",
      "                            \"units\": 1,\n",
      "                            \"activation\": \"sigmoid\",\n",
      "                            \"use_bias\": true,\n",
      "                            \"kernel_initializer\": {\n",
      "                                \"module\": \"keras.initializers\",\n",
      "                                \"class_name\": \"GlorotUniform\"\n",
      "                            },\n",
      "                            \"bias_initializer\": {\n",
      "                                \"module\": \"keras.initializers\",\n",
      "                                \"class_name\": \"Zeros\"\n",
      "                            }\n",
      "                        },\n",
      "                        \"build_config\": {\n",
      "                            \"input_shape\": [\n",
      "                                64\n",
      "                            ]\n",
      "                        }\n",
      "                    }\n",
      "                ],\n",
      "                \"build_input_shape\": [\n",
      "                    100\n",
      "                ]\n",
      "            },\n",
      "            \"build_config\": {\n",
      "                \"input_shape\": [\n",
      "                    100\n",
      "                ]\n",
      "            },\n",
      "            \"compile_config\": {\n",
      "                \"optimizer\": {\n",
      "                    \"module\": \"keras.optimizers\",\n",
      "                    \"class_name\": \"Adam\",\n",
      "                    \"config\": {\n",
      "                        \"name\": \"adam\",\n",
      "                        \"learning_rate\": 0.0010000000474974513,\n",
      "                        \"ema_momentum\": 0.99,\n",
      "                        \"beta_1\": 0.9,\n",
      "                        \"beta_2\": 0.999,\n",
      "                        \"epsilon\": 1e-07\n",
      "                    }\n",
      "                },\n",
      "                \"loss\": \"binary_crossentropy\",\n",
      "                \"metrics\": [\n",
      "                    \"accuracy\"\n",
      "                ],\n",
      "                \"steps_per_execution\": 1\n",
      "            }\n",
      "        },\n",
      "        \"metrics\": {\n",
      "            \"Test loss\": 0.5264031887054443,\n",
      "            \"Epochs\": 100,\n",
      "            \"Batch Size\": 32,\n",
      "            \"Optimizer\": \"Adam\",\n",
      "            \"Learning Rate\": 0.0001,\n",
      "            \"Input Shape\": \"(26048, 100)\"\n",
      "        }\n",
      "    },\n",
      "    \"bias_analysis\": {\n",
      "        \"demographic_parity_diff\": 0.016893322677259265,\n",
      "        \"equal_odds_difference\": 0.015399962791175094\n",
      "    },\n",
      "    \"xai_analysis\": {\n",
      "        \"capital-gain\": 0.08574622329324483,\n",
      "        \"fnlwgt\": 0.00804802388780647,\n",
      "        \"age\": 0.0001878592330548499,\n",
      "        \"occupation_ Exec-managerial\": 5.9379508925811665e-05,\n",
      "        \"martial-status_ Married-civ-spouse\": 3.860872652795555e-05,\n",
      "        \"relationship_ Not-in-family\": 3.367731968561703e-05,\n",
      "        \"hours-per-week\": 2.597770757145361e-05,\n",
      "        \"education_ HS-grad\": 2.5964784953329577e-05,\n",
      "        \"martial-status_ Never-married\": 1.6633578472667918e-05,\n",
      "        \"workclass_ Private\": 1.529919190539499e-05\n",
      "    },\n",
      "    \"model_requirements\": [\n",
      "        \"absl-py==2.1.0\",\n",
      "        \"anyio==4.4.0\",\n",
      "        \"appnope==0.1.4\",\n",
      "        \"argon2-cffi-bindings==21.2.0\",\n",
      "        \"argon2-cffi==23.1.0\",\n",
      "        \"arrow==1.3.0\",\n",
      "        \"asttokens==2.4.1\",\n",
      "        \"astunparse==1.6.3\",\n",
      "        \"async-lru==2.0.4\",\n",
      "        \"attrs==23.1.0\",\n",
      "        \"babel==2.15.0\",\n",
      "        \"beautifulsoup4==4.12.3\",\n",
      "        \"bleach==6.1.0\",\n",
      "        \"certifi==2024.6.2\",\n",
      "        \"cffi==1.16.0\",\n",
      "        \"charset-normalizer==3.3.2\",\n",
      "        \"cloudpickle==3.0.0\",\n",
      "        \"comm==0.2.2\",\n",
      "        \"debugpy==1.8.1\",\n",
      "        \"decorator==5.1.1\",\n",
      "        \"defusedxml==0.7.1\",\n",
      "        \"exceptiongroup==1.2.1\",\n",
      "        \"executing==2.0.1\",\n",
      "        \"fastjsonschema==2.20.0\",\n",
      "        \"flatbuffers==24.3.25\",\n",
      "        \"fqdn==1.5.1\",\n",
      "        \"gast==0.6.0\",\n",
      "        \"google-pasta==0.2.0\",\n",
      "        \"grpcio==1.65.4\",\n",
      "        \"h11==0.14.0\",\n",
      "        \"h5py==3.11.0\",\n",
      "        \"httpcore==1.0.5\",\n",
      "        \"httpx==0.27.0\",\n",
      "        \"idna==3.7\",\n",
      "        \"importlib-metadata==7.2.1\",\n",
      "        \"ipykernel==6.29.4\",\n",
      "        \"ipython==8.18.1\",\n",
      "        \"ipywidgets==8.1.3\",\n",
      "        \"isoduration==20.11.0\",\n",
      "        \"jedi==0.19.1\",\n",
      "        \"jinja2==3.1.4\",\n",
      "        \"joblib==1.4.2\",\n",
      "        \"json5==0.9.25\",\n",
      "        \"jsonpointer==3.0.0\",\n",
      "        \"jsonschema-specifications==2023.12.1\",\n",
      "        \"jsonschema==4.18.6\",\n",
      "        \"jupyter-client==8.6.2\",\n",
      "        \"jupyter-console==6.6.3\",\n",
      "        \"jupyter-core==5.7.2\",\n",
      "        \"jupyter-events==0.10.0\",\n",
      "        \"jupyter-lsp==2.2.5\",\n",
      "        \"jupyter-server-terminals==0.5.3\",\n",
      "        \"jupyter-server==2.14.1\",\n",
      "        \"jupyter==1.0.0\",\n",
      "        \"jupyterlab-pygments==0.3.0\",\n",
      "        \"jupyterlab-server==2.27.2\",\n",
      "        \"jupyterlab-widgets==3.0.11\",\n",
      "        \"jupyterlab==4.2.2\",\n",
      "        \"keras==3.4.1\",\n",
      "        \"libclang==18.1.1\",\n",
      "        \"llvmlite==0.43.0\",\n",
      "        \"markdown-it-py==3.0.0\",\n",
      "        \"markdown==3.6\",\n",
      "        \"markupsafe==2.1.5\",\n",
      "        \"matplotlib-inline==0.1.7\",\n",
      "        \"mdurl==0.1.2\",\n",
      "        \"mistune==3.0.2\",\n",
      "        \"ml-dtypes==0.4.0\",\n",
      "        \"namex==0.0.8\",\n",
      "        \"nbclient==0.10.0\",\n",
      "        \"nbconvert==7.16.4\",\n",
      "        \"nbformat==5.10.4\",\n",
      "        \"nest-asyncio==1.6.0\",\n",
      "        \"notebook-shim==0.2.4\",\n",
      "        \"notebook==7.2.1\",\n",
      "        \"numba==0.60.0\",\n",
      "        \"numpy==1.26.4\",\n",
      "        \"opt-einsum==3.3.0\",\n",
      "        \"optree==0.12.1\",\n",
      "        \"overrides==7.7.0\",\n",
      "        \"packaging==24.1\",\n",
      "        \"pandas==2.2.2\",\n",
      "        \"pandocfilters==1.5.1\",\n",
      "        \"parso==0.8.4\",\n",
      "        \"pexpect==4.9.0\",\n",
      "        \"pip==21.3.1\",\n",
      "        \"platformdirs==4.2.2\",\n",
      "        \"prometheus-client==0.20.0\",\n",
      "        \"prompt-toolkit==3.0.47\",\n",
      "        \"protobuf==4.25.4\",\n",
      "        \"psutil==6.0.0\",\n",
      "        \"ptyprocess==0.7.0\",\n",
      "        \"pure-eval==0.2.2\",\n",
      "        \"pycparser==2.22\",\n",
      "        \"pygments==2.18.0\",\n",
      "        \"pyrsistent==0.19.3\",\n",
      "        \"python-dateutil==2.9.0.post0\",\n",
      "        \"python-json-logger==2.0.7\",\n",
      "        \"pytz==2024.1\",\n",
      "        \"pyyaml==6.0.1\",\n",
      "        \"pyzmq==26.0.3\",\n",
      "        \"qtconsole==5.5.2\",\n",
      "        \"qtpy==2.4.1\",\n",
      "        \"referencing==0.35.1\",\n",
      "        \"requests==2.32.3\",\n",
      "        \"rfc3339-validator==0.1.4\",\n",
      "        \"rfc3986-validator==0.1.1\",\n",
      "        \"rich==13.7.1\",\n",
      "        \"rpds-py==0.18.1\",\n",
      "        \"scikit-learn==1.5.0\",\n",
      "        \"scipy==1.13.1\",\n",
      "        \"send2trash==1.8.3\",\n",
      "        \"setuptools==60.2.0\",\n",
      "        \"six==1.16.0\",\n",
      "        \"slicer==0.0.8\",\n",
      "        \"sniffio==1.3.1\",\n",
      "        \"soupsieve==2.5\",\n",
      "        \"stack-data==0.6.3\",\n",
      "        \"tensorboard-data-server==0.7.2\",\n",
      "        \"tensorboard==2.17.0\",\n",
      "        \"tensorflow-io-gcs-filesystem==0.37.1\",\n",
      "        \"tensorflow==2.17.0\",\n",
      "        \"termcolor==2.4.0\",\n",
      "        \"terminado==0.18.1\",\n",
      "        \"threadpoolctl==3.5.0\",\n",
      "        \"tinycss2==1.3.0\",\n",
      "        \"tomli==2.0.1\",\n",
      "        \"tornado==6.4.1\",\n",
      "        \"tqdm==4.66.4\",\n",
      "        \"traitlets==5.14.3\",\n",
      "        \"types-python-dateutil==2.9.0.20240316\",\n",
      "        \"typing-extensions==4.12.2\",\n",
      "        \"tzdata==2024.1\",\n",
      "        \"uri-template==1.3.0\",\n",
      "        \"urllib3==2.2.2\",\n",
      "        \"wcwidth==0.2.13\",\n",
      "        \"webcolors==24.6.0\",\n",
      "        \"webencodings==0.5.1\",\n",
      "        \"websocket-client==1.8.0\",\n",
      "        \"werkzeug==3.0.3\",\n",
      "        \"wheel==0.37.1\",\n",
      "        \"widgetsnbextension==4.0.11\",\n",
      "        \"wrapt==1.16.0\",\n",
      "        \"zipp==3.19.2\"\n",
      "    ]\n",
      "}\n"
     ]
    }
   ],
   "execution_count": 24
  },
  {
   "cell_type": "code",
   "source": "mc.save(\"/Users/swithana/git/d2i/patra-toolkit/examples/model_cards/tesorflow_adult_nn_MC.json\")",
   "metadata": {
    "collapsed": false,
    "pycharm": {
     "name": "#%%\n"
    },
    "ExecuteTime": {
     "end_time": "2024-08-04T01:41:46.809545Z",
     "start_time": "2024-08-04T01:41:46.806852Z"
    }
   },
   "outputs": [],
   "execution_count": 25
  },
  {
   "cell_type": "code",
   "source": "mc.validate()",
   "metadata": {
    "collapsed": false,
    "pycharm": {
     "name": "#%%\n"
    },
    "ExecuteTime": {
     "end_time": "2024-08-04T01:41:47.074756Z",
     "start_time": "2024-08-04T01:41:47.069023Z"
    }
   },
   "outputs": [
    {
     "data": {
      "text/plain": [
       "True"
      ]
     },
     "execution_count": 26,
     "metadata": {},
     "output_type": "execute_result"
    }
   ],
   "execution_count": 26
  },
  {
   "metadata": {},
   "cell_type": "code",
   "outputs": [],
   "execution_count": null,
   "source": ""
  }
 ],
 "metadata": {
  "kernelspec": {
   "display_name": "Python 3",
   "language": "python",
   "name": "python3"
  },
  "language_info": {
   "codemirror_mode": {
    "name": "ipython",
    "version": 2
   },
   "file_extension": ".py",
   "mimetype": "text/x-python",
   "name": "python",
   "nbconvert_exporter": "python",
   "pygments_lexer": "ipython2",
   "version": "2.7.6"
  }
 },
 "nbformat": 4,
 "nbformat_minor": 0
}
