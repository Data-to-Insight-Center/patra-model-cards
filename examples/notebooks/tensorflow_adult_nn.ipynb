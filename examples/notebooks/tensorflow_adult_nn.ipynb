{
 "cells": [
  {
   "cell_type": "code",
   "source": [
    "import pandas as pd\n",
    "import tensorflow as tf\n",
    "from sklearn.model_selection import train_test_split\n",
    "from sklearn.preprocessing import StandardScaler, LabelEncoder"
   ],
   "metadata": {
    "collapsed": false,
    "pycharm": {
     "name": "#%%\n"
    },
    "ExecuteTime": {
     "end_time": "2024-09-19T20:00:19.572399Z",
     "start_time": "2024-09-19T19:58:10.377145Z"
    }
   },
   "outputs": [],
   "execution_count": 1
  },
  {
   "cell_type": "code",
   "source": "# !pip install tensorflow",
   "metadata": {
    "collapsed": false,
    "pycharm": {
     "name": "#%%\n"
    },
    "ExecuteTime": {
     "end_time": "2024-09-19T20:00:19.586618Z",
     "start_time": "2024-09-19T20:00:19.581413Z"
    }
   },
   "outputs": [],
   "execution_count": 2
  },
  {
   "cell_type": "code",
   "source": [
    "columns = [\"age\", \"workclass\", \"fnlwgt\", \"education\", \"education-num\", \"martial-status\",\n",
    "        \"occupation\", \"relationship\", \"race\", \"sex\", \"capital-gain\", \"capital-loss\",\n",
    "        \"hours-per-week\", \"native-country\", \"income\"]\n",
    "data = pd.read_csv('/Users/swithana/git/d2i/patra-toolkit/examples/notebooks/data/adult/adult.data', names=columns)"
   ],
   "metadata": {
    "collapsed": false,
    "pycharm": {
     "name": "#%%\n"
    },
    "ExecuteTime": {
     "end_time": "2024-09-19T20:00:20.735128Z",
     "start_time": "2024-09-19T20:00:20.586750Z"
    }
   },
   "outputs": [],
   "execution_count": 3
  },
  {
   "metadata": {},
   "cell_type": "code",
   "outputs": [],
   "execution_count": null,
   "source": "data.head()"
  },
  {
   "cell_type": "markdown",
   "source": [
    "### Pre-processing"
   ],
   "metadata": {
    "collapsed": false,
    "pycharm": {
     "name": "#%% md\n"
    }
   }
  },
  {
   "metadata": {},
   "cell_type": "code",
   "outputs": [],
   "execution_count": null,
   "source": [
    "label_encoder = LabelEncoder()\n",
    "data['income'] = label_encoder.fit_transform(data['income'])\n",
    "\n",
    "# Convert categorical variables to one-hot encoding\n",
    "data = pd.get_dummies(data, drop_first=True, dtype=float)\n",
    "\n",
    "data.head()"
   ]
  },
  {
   "cell_type": "code",
   "source": [
    "X = data.drop('income', axis=1).values\n",
    "y = data['income'].values\n",
    "\n",
    "print(data.columns.tolist())"
   ],
   "metadata": {
    "collapsed": false,
    "pycharm": {
     "name": "#%%\n"
    },
    "ExecuteTime": {
     "end_time": "2024-09-19T20:00:21.083018Z",
     "start_time": "2024-09-19T20:00:21.039046Z"
    }
   },
   "outputs": [
    {
     "name": "stdout",
     "output_type": "stream",
     "text": [
      "['age', 'fnlwgt', 'education-num', 'capital-gain', 'capital-loss', 'hours-per-week', 'income', 'workclass_ Federal-gov', 'workclass_ Local-gov', 'workclass_ Never-worked', 'workclass_ Private', 'workclass_ Self-emp-inc', 'workclass_ Self-emp-not-inc', 'workclass_ State-gov', 'workclass_ Without-pay', 'education_ 11th', 'education_ 12th', 'education_ 1st-4th', 'education_ 5th-6th', 'education_ 7th-8th', 'education_ 9th', 'education_ Assoc-acdm', 'education_ Assoc-voc', 'education_ Bachelors', 'education_ Doctorate', 'education_ HS-grad', 'education_ Masters', 'education_ Preschool', 'education_ Prof-school', 'education_ Some-college', 'martial-status_ Married-AF-spouse', 'martial-status_ Married-civ-spouse', 'martial-status_ Married-spouse-absent', 'martial-status_ Never-married', 'martial-status_ Separated', 'martial-status_ Widowed', 'occupation_ Adm-clerical', 'occupation_ Armed-Forces', 'occupation_ Craft-repair', 'occupation_ Exec-managerial', 'occupation_ Farming-fishing', 'occupation_ Handlers-cleaners', 'occupation_ Machine-op-inspct', 'occupation_ Other-service', 'occupation_ Priv-house-serv', 'occupation_ Prof-specialty', 'occupation_ Protective-serv', 'occupation_ Sales', 'occupation_ Tech-support', 'occupation_ Transport-moving', 'relationship_ Not-in-family', 'relationship_ Other-relative', 'relationship_ Own-child', 'relationship_ Unmarried', 'relationship_ Wife', 'race_ Asian-Pac-Islander', 'race_ Black', 'race_ Other', 'race_ White', 'sex_ Male', 'native-country_ Cambodia', 'native-country_ Canada', 'native-country_ China', 'native-country_ Columbia', 'native-country_ Cuba', 'native-country_ Dominican-Republic', 'native-country_ Ecuador', 'native-country_ El-Salvador', 'native-country_ England', 'native-country_ France', 'native-country_ Germany', 'native-country_ Greece', 'native-country_ Guatemala', 'native-country_ Haiti', 'native-country_ Holand-Netherlands', 'native-country_ Honduras', 'native-country_ Hong', 'native-country_ Hungary', 'native-country_ India', 'native-country_ Iran', 'native-country_ Ireland', 'native-country_ Italy', 'native-country_ Jamaica', 'native-country_ Japan', 'native-country_ Laos', 'native-country_ Mexico', 'native-country_ Nicaragua', 'native-country_ Outlying-US(Guam-USVI-etc)', 'native-country_ Peru', 'native-country_ Philippines', 'native-country_ Poland', 'native-country_ Portugal', 'native-country_ Puerto-Rico', 'native-country_ Scotland', 'native-country_ South', 'native-country_ Taiwan', 'native-country_ Thailand', 'native-country_ Trinadad&Tobago', 'native-country_ United-States', 'native-country_ Vietnam', 'native-country_ Yugoslavia']\n"
     ]
    }
   ],
   "execution_count": 6
  },
  {
   "cell_type": "code",
   "source": [
    "X_train, X_test, y_train, y_test = train_test_split(X, y, test_size=0.2, random_state=42)"
   ],
   "metadata": {
    "collapsed": false,
    "pycharm": {
     "name": "#%%\n"
    },
    "ExecuteTime": {
     "end_time": "2024-09-19T20:00:21.147850Z",
     "start_time": "2024-09-19T20:00:21.087026Z"
    }
   },
   "outputs": [],
   "execution_count": 7
  },
  {
   "metadata": {
    "ExecuteTime": {
     "end_time": "2024-09-19T20:00:21.162939Z",
     "start_time": "2024-09-19T20:00:21.155865Z"
    }
   },
   "cell_type": "code",
   "source": "X_train.shape",
   "outputs": [
    {
     "data": {
      "text/plain": [
       "(26048, 100)"
      ]
     },
     "execution_count": 8,
     "metadata": {},
     "output_type": "execute_result"
    }
   ],
   "execution_count": 8
  },
  {
   "cell_type": "markdown",
   "source": [
    "### Model Training"
   ],
   "metadata": {
    "collapsed": false,
    "pycharm": {
     "name": "#%% md\n"
    }
   }
  },
  {
   "cell_type": "code",
   "source": [
    "model = tf.keras.Sequential([\n",
    "    tf.keras.layers.Input(shape=(X_train.shape[1],)),\n",
    "    tf.keras.layers.Dense(64, activation='relu'),\n",
    "    tf.keras.layers.Dense(128, activation='relu'),\n",
    "    tf.keras.layers.Dense(64, activation='relu'),\n",
    "    tf.keras.layers.Dense(1, activation='sigmoid')\n",
    "])\n",
    "optimizer = tf.keras.optimizers.Adam(learning_rate=0.001)\n",
    "\n",
    "model.compile(optimizer=optimizer, loss='binary_crossentropy', metrics=['accuracy'])"
   ],
   "metadata": {
    "collapsed": false,
    "pycharm": {
     "name": "#%%\n"
    },
    "ExecuteTime": {
     "end_time": "2024-09-19T20:00:21.619898Z",
     "start_time": "2024-09-19T20:00:21.167949Z"
    }
   },
   "outputs": [],
   "execution_count": 9
  },
  {
   "cell_type": "code",
   "source": [
    "early_stopping = tf.keras.callbacks.EarlyStopping(monitor='loss', patience=3)\n",
    "\n",
    "model.fit(X_train, y_train, epochs=100, batch_size=32, validation_split=0.1, callbacks=[early_stopping])"
   ],
   "metadata": {
    "collapsed": false,
    "pycharm": {
     "name": "#%%\n"
    },
    "ExecuteTime": {
     "end_time": "2024-09-19T20:00:39.639162Z",
     "start_time": "2024-09-19T20:00:21.623908Z"
    }
   },
   "outputs": [
    {
     "name": "stdout",
     "output_type": "stream",
     "text": [
      "Epoch 1/100\n",
      "\u001B[1m733/733\u001B[0m \u001B[32m━━━━━━━━━━━━━━━━━━━━\u001B[0m\u001B[37m\u001B[0m \u001B[1m4s\u001B[0m 2ms/step - accuracy: 0.6607 - loss: 514.0686 - val_accuracy: 0.8027 - val_loss: 138.2379\n",
      "Epoch 2/100\n",
      "\u001B[1m733/733\u001B[0m \u001B[32m━━━━━━━━━━━━━━━━━━━━\u001B[0m\u001B[37m\u001B[0m \u001B[1m1s\u001B[0m 2ms/step - accuracy: 0.6886 - loss: 123.0007 - val_accuracy: 0.7988 - val_loss: 19.6475\n",
      "Epoch 3/100\n",
      "\u001B[1m733/733\u001B[0m \u001B[32m━━━━━━━━━━━━━━━━━━━━\u001B[0m\u001B[37m\u001B[0m \u001B[1m1s\u001B[0m 2ms/step - accuracy: 0.6748 - loss: 45.6013 - val_accuracy: 0.8019 - val_loss: 28.9808\n",
      "Epoch 4/100\n",
      "\u001B[1m733/733\u001B[0m \u001B[32m━━━━━━━━━━━━━━━━━━━━\u001B[0m\u001B[37m\u001B[0m \u001B[1m1s\u001B[0m 2ms/step - accuracy: 0.6802 - loss: 34.3183 - val_accuracy: 0.8012 - val_loss: 23.5935\n",
      "Epoch 5/100\n",
      "\u001B[1m733/733\u001B[0m \u001B[32m━━━━━━━━━━━━━━━━━━━━\u001B[0m\u001B[37m\u001B[0m \u001B[1m1s\u001B[0m 2ms/step - accuracy: 0.6813 - loss: 20.1362 - val_accuracy: 0.8000 - val_loss: 4.2781\n",
      "Epoch 6/100\n",
      "\u001B[1m733/733\u001B[0m \u001B[32m━━━━━━━━━━━━━━━━━━━━\u001B[0m\u001B[37m\u001B[0m \u001B[1m1s\u001B[0m 2ms/step - accuracy: 0.6906 - loss: 2.8920 - val_accuracy: 0.8061 - val_loss: 1.1385\n",
      "Epoch 7/100\n",
      "\u001B[1m733/733\u001B[0m \u001B[32m━━━━━━━━━━━━━━━━━━━━\u001B[0m\u001B[37m\u001B[0m \u001B[1m1s\u001B[0m 1ms/step - accuracy: 0.6936 - loss: 1.7295 - val_accuracy: 0.7965 - val_loss: 0.5275\n",
      "Epoch 8/100\n",
      "\u001B[1m733/733\u001B[0m \u001B[32m━━━━━━━━━━━━━━━━━━━━\u001B[0m\u001B[37m\u001B[0m \u001B[1m1s\u001B[0m 2ms/step - accuracy: 0.7388 - loss: 1.1411 - val_accuracy: 0.7946 - val_loss: 1.7102\n",
      "Epoch 9/100\n",
      "\u001B[1m733/733\u001B[0m \u001B[32m━━━━━━━━━━━━━━━━━━━━\u001B[0m\u001B[37m\u001B[0m \u001B[1m1s\u001B[0m 2ms/step - accuracy: 0.7310 - loss: 1.2162 - val_accuracy: 0.8084 - val_loss: 0.4912\n",
      "Epoch 10/100\n",
      "\u001B[1m733/733\u001B[0m \u001B[32m━━━━━━━━━━━━━━━━━━━━\u001B[0m\u001B[37m\u001B[0m \u001B[1m1s\u001B[0m 2ms/step - accuracy: 0.7941 - loss: 0.5234 - val_accuracy: 0.8146 - val_loss: 0.4777\n",
      "Epoch 11/100\n",
      "\u001B[1m733/733\u001B[0m \u001B[32m━━━━━━━━━━━━━━━━━━━━\u001B[0m\u001B[37m\u001B[0m \u001B[1m1s\u001B[0m 1ms/step - accuracy: 0.7932 - loss: 0.5094 - val_accuracy: 0.8123 - val_loss: 0.4844\n",
      "Epoch 12/100\n",
      "\u001B[1m733/733\u001B[0m \u001B[32m━━━━━━━━━━━━━━━━━━━━\u001B[0m\u001B[37m\u001B[0m \u001B[1m1s\u001B[0m 1ms/step - accuracy: 0.7837 - loss: 0.5154 - val_accuracy: 0.8150 - val_loss: 0.4726\n",
      "Epoch 13/100\n",
      "\u001B[1m733/733\u001B[0m \u001B[32m━━━━━━━━━━━━━━━━━━━━\u001B[0m\u001B[37m\u001B[0m \u001B[1m1s\u001B[0m 1ms/step - accuracy: 0.7850 - loss: 0.6342 - val_accuracy: 0.7850 - val_loss: 0.5170\n"
     ]
    },
    {
     "data": {
      "text/plain": [
       "<keras.src.callbacks.history.History at 0x26a36a33f50>"
      ]
     },
     "execution_count": 10,
     "metadata": {},
     "output_type": "execute_result"
    }
   ],
   "execution_count": 10
  },
  {
   "cell_type": "code",
   "source": "loss, accuracy = model.evaluate(X_test, y_test)",
   "metadata": {
    "collapsed": false,
    "pycharm": {
     "name": "#%%\n"
    },
    "ExecuteTime": {
     "end_time": "2024-09-19T20:00:39.914597Z",
     "start_time": "2024-09-19T20:00:39.645174Z"
    }
   },
   "outputs": [
    {
     "name": "stdout",
     "output_type": "stream",
     "text": [
      "\u001B[1m204/204\u001B[0m \u001B[32m━━━━━━━━━━━━━━━━━━━━\u001B[0m\u001B[37m\u001B[0m \u001B[1m0s\u001B[0m 988us/step - accuracy: 0.7735 - loss: 0.5310\n"
     ]
    }
   ],
   "execution_count": 11
  },
  {
   "cell_type": "code",
   "source": "y_pred = model.predict(X_test)",
   "metadata": {
    "collapsed": false,
    "pycharm": {
     "name": "#%%\n"
    },
    "ExecuteTime": {
     "end_time": "2024-09-19T20:00:40.374999Z",
     "start_time": "2024-09-19T20:00:39.918630Z"
    }
   },
   "outputs": [
    {
     "name": "stdout",
     "output_type": "stream",
     "text": [
      "\u001B[1m204/204\u001B[0m \u001B[32m━━━━━━━━━━━━━━━━━━━━\u001B[0m\u001B[37m\u001B[0m \u001B[1m0s\u001B[0m 1ms/step\n"
     ]
    }
   ],
   "execution_count": 12
  },
  {
   "cell_type": "markdown",
   "source": [
    "## Model Card Generation"
   ],
   "metadata": {
    "collapsed": false,
    "pycharm": {
     "name": "#%% md\n"
    }
   }
  },
  {
   "cell_type": "code",
   "source": "from patra_model_card.patra_model_card import ModelCard, AIModel, BiasAnalysis, ExplainabilityAnalysis",
   "metadata": {
    "collapsed": false,
    "pycharm": {
     "name": "#%%\n"
    },
    "ExecuteTime": {
     "end_time": "2024-09-19T20:00:52.096594Z",
     "start_time": "2024-09-19T20:00:40.380042Z"
    }
   },
   "outputs": [
    {
     "name": "stderr",
     "output_type": "stream",
     "text": [
      "D:\\D2I\\Codes\\patra-toolkit\\venv\\Lib\\site-packages\\tqdm\\auto.py:21: TqdmWarning: IProgress not found. Please update jupyter and ipywidgets. See https://ipywidgets.readthedocs.io/en/stable/user_install.html\n",
      "  from .autonotebook import tqdm as notebook_tqdm\n"
     ]
    }
   ],
   "execution_count": 13
  },
  {
   "cell_type": "code",
   "source": [
    "mc = ModelCard(\n",
    "            name=\"UCI Adult Data Analysis model using Tensorflow\",\n",
    "            version=\"0.1\",\n",
    "            short_description=\"UCI Adult Data analysis using Tensorflow for demonstration of Patra Model Cards.\",\n",
    "            full_description=\"We have trained a ML model using the tensorflow framework to predict income for the UCI Adult Dataset. We leverage this data to run the Patra model cards to capture metadata about the model as well as fairness and explainability metrics.\",\n",
    "            keywords=\"uci adult, tensorflow, explainability, fairness, patra\",\n",
    "            author=\"Sachith Withana\",\n",
    "            input_type=\"Tabular\",\n",
    "            category=\"classification\",\n",
    "            foundational_model=\"None\"\n",
    "        )\n",
    "\n",
    "mc.input_data = 'https://archive.ics.uci.edu/dataset/2/adult'\n",
    "mc.output_data = 'https://github.iu.edu/d2i/dockerhub/tensorflow/adult_modelv01'"
   ],
   "metadata": {
    "collapsed": false,
    "pycharm": {
     "name": "#%%\n"
    },
    "ExecuteTime": {
     "end_time": "2024-09-19T20:00:52.107317Z",
     "start_time": "2024-09-19T20:00:52.101599Z"
    }
   },
   "outputs": [],
   "execution_count": 14
  },
  {
   "cell_type": "code",
   "source": [
    "ai_model = AIModel(\n",
    "            name=\"Income prediction tensorflow model\",\n",
    "            version=\"0.1\",\n",
    "            description=\"Census classification problem using Tensorflow Neural Network using the UCI Adult Dataset\",\n",
    "            owner=\"Sachith Withana\",\n",
    "            location=\"https://github.iu.edu/d2i/uci_adult/tensorflow_model\",\n",
    "            license=\"BSD-3 Clause\",\n",
    "            framework=\"tensorflow\",\n",
    "            model_type=\"dnn\",\n",
    "            test_accuracy=accuracy\n",
    "        )\n",
    "ai_model.populate_model_structure(model)"
   ],
   "metadata": {
    "collapsed": false,
    "pycharm": {
     "name": "#%%\n"
    },
    "ExecuteTime": {
     "end_time": "2024-09-19T20:00:52.125239Z",
     "start_time": "2024-09-19T20:00:52.113327Z"
    }
   },
   "outputs": [],
   "execution_count": 15
  },
  {
   "metadata": {
    "ExecuteTime": {
     "end_time": "2024-09-19T20:00:52.135115Z",
     "start_time": "2024-09-19T20:00:52.130263Z"
    }
   },
   "cell_type": "code",
   "source": [
    "ai_model.add_metric(\"Test loss\", loss)\n",
    "ai_model.add_metric(\"Epochs\", 100)\n",
    "ai_model.add_metric(\"Batch Size\", 32)\n",
    "ai_model.add_metric(\"Optimizer\", \"Adam\")\n",
    "ai_model.add_metric(\"Learning Rate\", 0.0001)\n",
    "ai_model.add_metric(\"Input Shape\", \"(26048, 100)\")"
   ],
   "outputs": [],
   "execution_count": 16
  },
  {
   "metadata": {
    "ExecuteTime": {
     "end_time": "2024-09-19T20:00:52.144034Z",
     "start_time": "2024-09-19T20:00:52.140132Z"
    }
   },
   "cell_type": "code",
   "source": "mc.ai_model = ai_model",
   "outputs": [],
   "execution_count": 17
  },
  {
   "metadata": {
    "ExecuteTime": {
     "end_time": "2024-09-19T20:00:52.154327Z",
     "start_time": "2024-09-19T20:00:52.148788Z"
    }
   },
   "cell_type": "code",
   "source": "mc.populate_requirements()",
   "outputs": [],
   "execution_count": 18
  },
  {
   "metadata": {
    "ExecuteTime": {
     "end_time": "2024-09-19T20:00:52.164515Z",
     "start_time": "2024-09-19T20:00:52.159029Z"
    }
   },
   "cell_type": "code",
   "source": "print(mc)",
   "outputs": [
    {
     "name": "stdout",
     "output_type": "stream",
     "text": [
      "{\n",
      "    \"name\": \"UCI Adult Data Analysis model using Tensorflow\",\n",
      "    \"version\": \"0.1\",\n",
      "    \"short_description\": \"UCI Adult Data analysis using Tensorflow for demonstration of Patra Model Cards.\",\n",
      "    \"full_description\": \"We have trained a ML model using the tensorflow framework to predict income for the UCI Adult Dataset. We leverage this data to run the Patra model cards to capture metadata about the model as well as fairness and explainability metrics.\",\n",
      "    \"keywords\": \"uci adult, tensorflow, explainability, fairness, patra\",\n",
      "    \"author\": \"Sachith Withana\",\n",
      "    \"input_type\": \"Tabular\",\n",
      "    \"category\": \"classification\",\n",
      "    \"input_data\": \"https://archive.ics.uci.edu/dataset/2/adult\",\n",
      "    \"output_data\": \"https://github.iu.edu/d2i/dockerhub/tensorflow/adult_modelv01\",\n",
      "    \"ai_model\": {\n",
      "        \"name\": \"Income prediction tensorflow model\",\n",
      "        \"version\": \"0.1\",\n",
      "        \"description\": \"Census classification problem using Tensorflow Neural Network using the UCI Adult Dataset\",\n",
      "        \"owner\": \"Sachith Withana\",\n",
      "        \"location\": \"https://github.iu.edu/d2i/uci_adult/tensorflow_model\",\n",
      "        \"license\": \"BSD-3 Clause\",\n",
      "        \"framework\": \"tensorflow\",\n",
      "        \"model_type\": \"dnn\",\n",
      "        \"test_accuracy\": 0.7782895565032959,\n",
      "        \"foundational_model\": \"None\",\n",
      "        \"model_structure\": {\n",
      "            \"module\": \"keras\",\n",
      "            \"class_name\": \"Sequential\",\n",
      "            \"config\": {\n",
      "                \"name\": \"sequential\",\n",
      "                \"trainable\": true,\n",
      "                \"dtype\": {\n",
      "                    \"module\": \"keras\",\n",
      "                    \"class_name\": \"DTypePolicy\",\n",
      "                    \"config\": {\n",
      "                        \"name\": \"float32\"\n",
      "                    }\n",
      "                },\n",
      "                \"layers\": [\n",
      "                    {\n",
      "                        \"module\": \"keras.layers\",\n",
      "                        \"class_name\": \"InputLayer\",\n",
      "                        \"config\": {\n",
      "                            \"batch_shape\": [\n",
      "                                100\n",
      "                            ],\n",
      "                            \"dtype\": \"float32\",\n",
      "                            \"name\": \"input_layer\"\n",
      "                        }\n",
      "                    },\n",
      "                    {\n",
      "                        \"module\": \"keras.layers\",\n",
      "                        \"class_name\": \"Dense\",\n",
      "                        \"config\": {\n",
      "                            \"name\": \"dense\",\n",
      "                            \"trainable\": true,\n",
      "                            \"dtype\": {\n",
      "                                \"module\": \"keras\",\n",
      "                                \"class_name\": \"DTypePolicy\",\n",
      "                                \"config\": {\n",
      "                                    \"name\": \"float32\"\n",
      "                                }\n",
      "                            },\n",
      "                            \"units\": 64,\n",
      "                            \"activation\": \"relu\",\n",
      "                            \"use_bias\": true,\n",
      "                            \"kernel_initializer\": {\n",
      "                                \"module\": \"keras.initializers\",\n",
      "                                \"class_name\": \"GlorotUniform\"\n",
      "                            },\n",
      "                            \"bias_initializer\": {\n",
      "                                \"module\": \"keras.initializers\",\n",
      "                                \"class_name\": \"Zeros\"\n",
      "                            }\n",
      "                        },\n",
      "                        \"build_config\": {\n",
      "                            \"input_shape\": [\n",
      "                                100\n",
      "                            ]\n",
      "                        }\n",
      "                    },\n",
      "                    {\n",
      "                        \"module\": \"keras.layers\",\n",
      "                        \"class_name\": \"Dense\",\n",
      "                        \"config\": {\n",
      "                            \"name\": \"dense_1\",\n",
      "                            \"trainable\": true,\n",
      "                            \"dtype\": {\n",
      "                                \"module\": \"keras\",\n",
      "                                \"class_name\": \"DTypePolicy\",\n",
      "                                \"config\": {\n",
      "                                    \"name\": \"float32\"\n",
      "                                }\n",
      "                            },\n",
      "                            \"units\": 128,\n",
      "                            \"activation\": \"relu\",\n",
      "                            \"use_bias\": true,\n",
      "                            \"kernel_initializer\": {\n",
      "                                \"module\": \"keras.initializers\",\n",
      "                                \"class_name\": \"GlorotUniform\"\n",
      "                            },\n",
      "                            \"bias_initializer\": {\n",
      "                                \"module\": \"keras.initializers\",\n",
      "                                \"class_name\": \"Zeros\"\n",
      "                            }\n",
      "                        },\n",
      "                        \"build_config\": {\n",
      "                            \"input_shape\": [\n",
      "                                64\n",
      "                            ]\n",
      "                        }\n",
      "                    },\n",
      "                    {\n",
      "                        \"module\": \"keras.layers\",\n",
      "                        \"class_name\": \"Dense\",\n",
      "                        \"config\": {\n",
      "                            \"name\": \"dense_2\",\n",
      "                            \"trainable\": true,\n",
      "                            \"dtype\": {\n",
      "                                \"module\": \"keras\",\n",
      "                                \"class_name\": \"DTypePolicy\",\n",
      "                                \"config\": {\n",
      "                                    \"name\": \"float32\"\n",
      "                                }\n",
      "                            },\n",
      "                            \"units\": 64,\n",
      "                            \"activation\": \"relu\",\n",
      "                            \"use_bias\": true,\n",
      "                            \"kernel_initializer\": {\n",
      "                                \"module\": \"keras.initializers\",\n",
      "                                \"class_name\": \"GlorotUniform\"\n",
      "                            },\n",
      "                            \"bias_initializer\": {\n",
      "                                \"module\": \"keras.initializers\",\n",
      "                                \"class_name\": \"Zeros\"\n",
      "                            }\n",
      "                        },\n",
      "                        \"build_config\": {\n",
      "                            \"input_shape\": [\n",
      "                                128\n",
      "                            ]\n",
      "                        }\n",
      "                    },\n",
      "                    {\n",
      "                        \"module\": \"keras.layers\",\n",
      "                        \"class_name\": \"Dense\",\n",
      "                        \"config\": {\n",
      "                            \"name\": \"dense_3\",\n",
      "                            \"trainable\": true,\n",
      "                            \"dtype\": {\n",
      "                                \"module\": \"keras\",\n",
      "                                \"class_name\": \"DTypePolicy\",\n",
      "                                \"config\": {\n",
      "                                    \"name\": \"float32\"\n",
      "                                }\n",
      "                            },\n",
      "                            \"units\": 1,\n",
      "                            \"activation\": \"sigmoid\",\n",
      "                            \"use_bias\": true,\n",
      "                            \"kernel_initializer\": {\n",
      "                                \"module\": \"keras.initializers\",\n",
      "                                \"class_name\": \"GlorotUniform\"\n",
      "                            },\n",
      "                            \"bias_initializer\": {\n",
      "                                \"module\": \"keras.initializers\",\n",
      "                                \"class_name\": \"Zeros\"\n",
      "                            }\n",
      "                        },\n",
      "                        \"build_config\": {\n",
      "                            \"input_shape\": [\n",
      "                                64\n",
      "                            ]\n",
      "                        }\n",
      "                    }\n",
      "                ],\n",
      "                \"build_input_shape\": [\n",
      "                    100\n",
      "                ]\n",
      "            },\n",
      "            \"build_config\": {\n",
      "                \"input_shape\": [\n",
      "                    100\n",
      "                ]\n",
      "            },\n",
      "            \"compile_config\": {\n",
      "                \"optimizer\": {\n",
      "                    \"module\": \"keras.optimizers\",\n",
      "                    \"class_name\": \"Adam\",\n",
      "                    \"config\": {\n",
      "                        \"name\": \"adam\",\n",
      "                        \"learning_rate\": 0.0010000000474974513,\n",
      "                        \"ema_momentum\": 0.99,\n",
      "                        \"beta_1\": 0.9,\n",
      "                        \"beta_2\": 0.999,\n",
      "                        \"epsilon\": 1e-07\n",
      "                    }\n",
      "                },\n",
      "                \"loss\": \"binary_crossentropy\",\n",
      "                \"metrics\": [\n",
      "                    \"accuracy\"\n",
      "                ],\n",
      "                \"steps_per_execution\": 1\n",
      "            }\n",
      "        },\n",
      "        \"metrics\": {\n",
      "            \"Test loss\": 0.5251171588897705,\n",
      "            \"Epochs\": 100,\n",
      "            \"Batch Size\": 32,\n",
      "            \"Optimizer\": \"Adam\",\n",
      "            \"Learning Rate\": 0.0001,\n",
      "            \"Input Shape\": \"(26048, 100)\"\n",
      "        }\n",
      "    },\n",
      "    \"bias_analysis\": null,\n",
      "    \"xai_analysis\": null,\n",
      "    \"model_requirements\": [\n",
      "        \"absl-py==2.1.0\",\n",
      "        \"anyio==4.4.0\",\n",
      "        \"argon2-cffi-bindings==21.2.0\",\n",
      "        \"argon2-cffi==23.1.0\",\n",
      "        \"arrow==1.3.0\",\n",
      "        \"asttokens==2.4.1\",\n",
      "        \"astunparse==1.6.3\",\n",
      "        \"async-lru==2.0.4\",\n",
      "        \"attrs==23.1.0\",\n",
      "        \"autocommand==2.2.2\",\n",
      "        \"babel==2.16.0\",\n",
      "        \"backports.tarfile==1.2.0\",\n",
      "        \"beautifulsoup4==4.12.3\",\n",
      "        \"bleach==6.1.0\",\n",
      "        \"certifi==2024.8.30\",\n",
      "        \"cffi==1.17.1\",\n",
      "        \"charset-normalizer==3.3.2\",\n",
      "        \"cloudpickle==3.0.0\",\n",
      "        \"colorama==0.4.6\",\n",
      "        \"comm==0.2.2\",\n",
      "        \"debugpy==1.8.5\",\n",
      "        \"decorator==5.1.1\",\n",
      "        \"defusedxml==0.7.1\",\n",
      "        \"et-xmlfile==1.1.0\",\n",
      "        \"executing==2.1.0\",\n",
      "        \"fastjsonschema==2.20.0\",\n",
      "        \"flatbuffers==24.3.25\",\n",
      "        \"fqdn==1.5.1\",\n",
      "        \"gast==0.6.0\",\n",
      "        \"google-pasta==0.2.0\",\n",
      "        \"grpcio==1.66.1\",\n",
      "        \"h11==0.14.0\",\n",
      "        \"h5py==3.11.0\",\n",
      "        \"httpcore==1.0.5\",\n",
      "        \"httpx==0.27.2\",\n",
      "        \"idna==3.8\",\n",
      "        \"importlib-metadata==8.0.0\",\n",
      "        \"importlib-resources==6.4.0\",\n",
      "        \"inflect==7.3.1\",\n",
      "        \"ipykernel==6.29.5\",\n",
      "        \"ipython==8.27.0\",\n",
      "        \"isoduration==20.11.0\",\n",
      "        \"jaraco.context==5.3.0\",\n",
      "        \"jaraco.functools==4.0.1\",\n",
      "        \"jaraco.text==3.12.1\",\n",
      "        \"jedi==0.19.1\",\n",
      "        \"jinja2==3.1.4\",\n",
      "        \"joblib==1.4.2\",\n",
      "        \"json5==0.9.25\",\n",
      "        \"jsonpointer==3.0.0\",\n",
      "        \"jsonschema-specifications==2023.12.1\",\n",
      "        \"jsonschema==4.18.6\",\n",
      "        \"jupyter-client==8.6.2\",\n",
      "        \"jupyter-core==5.7.2\",\n",
      "        \"jupyter-events==0.10.0\",\n",
      "        \"jupyter-lsp==2.2.5\",\n",
      "        \"jupyter-server-terminals==0.5.3\",\n",
      "        \"jupyter-server==2.14.2\",\n",
      "        \"jupyterlab-pygments==0.3.0\",\n",
      "        \"jupyterlab-server==2.27.3\",\n",
      "        \"jupyterlab==4.2.5\",\n",
      "        \"keras==3.5.0\",\n",
      "        \"libclang==18.1.1\",\n",
      "        \"llvmlite==0.43.0\",\n",
      "        \"markdown-it-py==3.0.0\",\n",
      "        \"markdown==3.7\",\n",
      "        \"markupsafe==2.1.5\",\n",
      "        \"matplotlib-inline==0.1.7\",\n",
      "        \"mdurl==0.1.2\",\n",
      "        \"mistune==3.0.2\",\n",
      "        \"ml-dtypes==0.4.0\",\n",
      "        \"more-itertools==10.3.0\",\n",
      "        \"namex==0.0.8\",\n",
      "        \"nbclient==0.10.0\",\n",
      "        \"nbconvert==7.16.4\",\n",
      "        \"nbformat==5.10.4\",\n",
      "        \"nest-asyncio==1.6.0\",\n",
      "        \"notebook-shim==0.2.4\",\n",
      "        \"notebook==7.2.2\",\n",
      "        \"numba==0.60.0\",\n",
      "        \"numpy==1.26.4\",\n",
      "        \"openpyxl==3.1.5\",\n",
      "        \"opt-einsum==3.3.0\",\n",
      "        \"optree==0.12.1\",\n",
      "        \"overrides==7.7.0\",\n",
      "        \"packaging==24.1\",\n",
      "        \"pandas==2.2.2\",\n",
      "        \"pandocfilters==1.5.1\",\n",
      "        \"parso==0.8.4\",\n",
      "        \"patra-model-card==0.3\",\n",
      "        \"pip==24.2\",\n",
      "        \"platformdirs==4.3.2\",\n",
      "        \"prometheus-client==0.20.0\",\n",
      "        \"prompt-toolkit==3.0.47\",\n",
      "        \"protobuf==4.25.4\",\n",
      "        \"psutil==6.0.0\",\n",
      "        \"pure-eval==0.2.3\",\n",
      "        \"pycparser==2.22\",\n",
      "        \"pygments==2.18.0\",\n",
      "        \"pyrsistent==0.19.3\",\n",
      "        \"python-dateutil==2.9.0.post0\",\n",
      "        \"python-json-logger==2.0.7\",\n",
      "        \"pytz==2024.1\",\n",
      "        \"pywin32==306\",\n",
      "        \"pywinpty==2.0.13\",\n",
      "        \"pyyaml==6.0.2\",\n",
      "        \"pyzmq==26.2.0\",\n",
      "        \"referencing==0.35.1\",\n",
      "        \"requests==2.32.3\",\n",
      "        \"rfc3339-validator==0.1.4\",\n",
      "        \"rfc3986-validator==0.1.1\",\n",
      "        \"rich==13.8.1\",\n",
      "        \"rpds-py==0.20.0\",\n",
      "        \"scikit-learn==1.5.1\",\n",
      "        \"scipy==1.13.1\",\n",
      "        \"send2trash==1.8.3\",\n",
      "        \"setuptools==74.1.2\",\n",
      "        \"six==1.16.0\",\n",
      "        \"slicer==0.0.8\",\n",
      "        \"sniffio==1.3.1\",\n",
      "        \"soupsieve==2.6\",\n",
      "        \"stack-data==0.6.3\",\n",
      "        \"tensorboard-data-server==0.7.2\",\n",
      "        \"tensorboard==2.17.1\",\n",
      "        \"tensorflow-intel==2.17.0\",\n",
      "        \"tensorflow==2.17.0\",\n",
      "        \"termcolor==2.4.0\",\n",
      "        \"terminado==0.18.1\",\n",
      "        \"threadpoolctl==3.5.0\",\n",
      "        \"tinycss2==1.3.0\",\n",
      "        \"tomli==2.0.1\",\n",
      "        \"tornado==6.4.1\",\n",
      "        \"tqdm==4.66.5\",\n",
      "        \"traitlets==5.14.3\",\n",
      "        \"typeguard==4.3.0\",\n",
      "        \"types-python-dateutil==2.9.0.20240906\",\n",
      "        \"typing-extensions==4.12.2\",\n",
      "        \"tzdata==2024.1\",\n",
      "        \"uri-template==1.3.0\",\n",
      "        \"urllib3==2.2.2\",\n",
      "        \"wcwidth==0.2.13\",\n",
      "        \"webcolors==24.8.0\",\n",
      "        \"webencodings==0.5.1\",\n",
      "        \"websocket-client==1.8.0\",\n",
      "        \"werkzeug==3.0.4\",\n",
      "        \"wheel==0.44.0\",\n",
      "        \"wrapt==1.16.0\",\n",
      "        \"zipp==3.19.2\"\n",
      "    ]\n",
      "}\n"
     ]
    }
   ],
   "execution_count": 19
  },
  {
   "cell_type": "code",
   "source": [
    "y_pred = model.predict(X_test)\n",
    "y_pred = (y_pred >= 0.5).flatten()\n",
    "mc.populate_bias(X_test, y_test, y_pred, \"gender\", X_test[:, 58], model)"
   ],
   "metadata": {
    "collapsed": false,
    "pycharm": {
     "name": "#%%\n"
    },
    "ExecuteTime": {
     "end_time": "2024-09-19T20:00:52.657153Z",
     "start_time": "2024-09-19T20:00:52.173317Z"
    }
   },
   "outputs": [
    {
     "name": "stdout",
     "output_type": "stream",
     "text": [
      "\u001B[1m204/204\u001B[0m \u001B[32m━━━━━━━━━━━━━━━━━━━━\u001B[0m\u001B[37m\u001B[0m \u001B[1m0s\u001B[0m 813us/step\n"
     ]
    }
   ],
   "execution_count": 20
  },
  {
   "cell_type": "code",
   "source": [
    "x_columns = data.columns.tolist()\n",
    "x_columns.remove('income')\n",
    "\n",
    "mc.populate_xai(X_test[:10], x_columns, model, 10)"
   ],
   "metadata": {
    "collapsed": false,
    "pycharm": {
     "name": "#%%\n"
    },
    "ExecuteTime": {
     "end_time": "2024-09-19T20:00:55.848185Z",
     "start_time": "2024-09-19T20:00:52.662165Z"
    }
   },
   "outputs": [],
   "execution_count": 21
  },
  {
   "cell_type": "code",
   "source": [
    "print(mc.bias_analysis)"
   ],
   "metadata": {
    "collapsed": false,
    "pycharm": {
     "name": "#%%\n"
    },
    "ExecuteTime": {
     "end_time": "2024-09-19T20:00:55.859088Z",
     "start_time": "2024-09-19T20:00:55.853225Z"
    }
   },
   "outputs": [
    {
     "name": "stdout",
     "output_type": "stream",
     "text": [
      "{'demographic_parity_diff': 0.01868794336126514, 'equal_odds_difference': 0.020824111318539618}\n"
     ]
    }
   ],
   "execution_count": 22
  },
  {
   "cell_type": "code",
   "source": [
    "print(mc.xai_analysis)"
   ],
   "metadata": {
    "collapsed": false,
    "pycharm": {
     "name": "#%%\n"
    },
    "ExecuteTime": {
     "end_time": "2024-09-19T20:00:55.872490Z",
     "start_time": "2024-09-19T20:00:55.867096Z"
    }
   },
   "outputs": [
    {
     "name": "stdout",
     "output_type": "stream",
     "text": [
      "{'capital_gain': 0.11161078001889917, 'fnlwgt': 0.01672927967376179, 'age': 6.346434354782287e-05, 'hours_per_week': 4.864313536220007e-05, 'occupation__Exec_managerial': 9.803416000473932e-06, 'education_num': 5.791021717916098e-06, 'workclass__Self_emp_not_inc': 4.637746347324611e-06, 'education__HS_grad': 4.270490672854862e-06, 'relationship__Wife': 3.714164098102114e-06, 'martial_status__Married_civ_spouse': 2.949121925568029e-06}\n"
     ]
    }
   ],
   "execution_count": 23
  },
  {
   "cell_type": "code",
   "source": [
    "print(mc)"
   ],
   "metadata": {
    "collapsed": false,
    "pycharm": {
     "name": "#%%\n"
    },
    "ExecuteTime": {
     "end_time": "2024-09-19T20:00:55.882663Z",
     "start_time": "2024-09-19T20:00:55.877500Z"
    }
   },
   "outputs": [
    {
     "name": "stdout",
     "output_type": "stream",
     "text": [
      "{\n",
      "    \"name\": \"UCI Adult Data Analysis model using Tensorflow\",\n",
      "    \"version\": \"0.1\",\n",
      "    \"short_description\": \"UCI Adult Data analysis using Tensorflow for demonstration of Patra Model Cards.\",\n",
      "    \"full_description\": \"We have trained a ML model using the tensorflow framework to predict income for the UCI Adult Dataset. We leverage this data to run the Patra model cards to capture metadata about the model as well as fairness and explainability metrics.\",\n",
      "    \"keywords\": \"uci adult, tensorflow, explainability, fairness, patra\",\n",
      "    \"author\": \"Sachith Withana\",\n",
      "    \"input_type\": \"Tabular\",\n",
      "    \"category\": \"classification\",\n",
      "    \"input_data\": \"https://archive.ics.uci.edu/dataset/2/adult\",\n",
      "    \"output_data\": \"https://github.iu.edu/d2i/dockerhub/tensorflow/adult_modelv01\",\n",
      "    \"ai_model\": {\n",
      "        \"name\": \"Income prediction tensorflow model\",\n",
      "        \"version\": \"0.1\",\n",
      "        \"description\": \"Census classification problem using Tensorflow Neural Network using the UCI Adult Dataset\",\n",
      "        \"owner\": \"Sachith Withana\",\n",
      "        \"location\": \"https://github.iu.edu/d2i/uci_adult/tensorflow_model\",\n",
      "        \"license\": \"BSD-3 Clause\",\n",
      "        \"framework\": \"tensorflow\",\n",
      "        \"model_type\": \"dnn\",\n",
      "        \"test_accuracy\": 0.7782895565032959,\n",
      "        \"foundational_model\": \"None\",\n",
      "        \"model_structure\": {\n",
      "            \"module\": \"keras\",\n",
      "            \"class_name\": \"Sequential\",\n",
      "            \"config\": {\n",
      "                \"name\": \"sequential\",\n",
      "                \"trainable\": true,\n",
      "                \"dtype\": {\n",
      "                    \"module\": \"keras\",\n",
      "                    \"class_name\": \"DTypePolicy\",\n",
      "                    \"config\": {\n",
      "                        \"name\": \"float32\"\n",
      "                    }\n",
      "                },\n",
      "                \"layers\": [\n",
      "                    {\n",
      "                        \"module\": \"keras.layers\",\n",
      "                        \"class_name\": \"InputLayer\",\n",
      "                        \"config\": {\n",
      "                            \"batch_shape\": [\n",
      "                                100\n",
      "                            ],\n",
      "                            \"dtype\": \"float32\",\n",
      "                            \"name\": \"input_layer\"\n",
      "                        }\n",
      "                    },\n",
      "                    {\n",
      "                        \"module\": \"keras.layers\",\n",
      "                        \"class_name\": \"Dense\",\n",
      "                        \"config\": {\n",
      "                            \"name\": \"dense\",\n",
      "                            \"trainable\": true,\n",
      "                            \"dtype\": {\n",
      "                                \"module\": \"keras\",\n",
      "                                \"class_name\": \"DTypePolicy\",\n",
      "                                \"config\": {\n",
      "                                    \"name\": \"float32\"\n",
      "                                }\n",
      "                            },\n",
      "                            \"units\": 64,\n",
      "                            \"activation\": \"relu\",\n",
      "                            \"use_bias\": true,\n",
      "                            \"kernel_initializer\": {\n",
      "                                \"module\": \"keras.initializers\",\n",
      "                                \"class_name\": \"GlorotUniform\"\n",
      "                            },\n",
      "                            \"bias_initializer\": {\n",
      "                                \"module\": \"keras.initializers\",\n",
      "                                \"class_name\": \"Zeros\"\n",
      "                            }\n",
      "                        },\n",
      "                        \"build_config\": {\n",
      "                            \"input_shape\": [\n",
      "                                100\n",
      "                            ]\n",
      "                        }\n",
      "                    },\n",
      "                    {\n",
      "                        \"module\": \"keras.layers\",\n",
      "                        \"class_name\": \"Dense\",\n",
      "                        \"config\": {\n",
      "                            \"name\": \"dense_1\",\n",
      "                            \"trainable\": true,\n",
      "                            \"dtype\": {\n",
      "                                \"module\": \"keras\",\n",
      "                                \"class_name\": \"DTypePolicy\",\n",
      "                                \"config\": {\n",
      "                                    \"name\": \"float32\"\n",
      "                                }\n",
      "                            },\n",
      "                            \"units\": 128,\n",
      "                            \"activation\": \"relu\",\n",
      "                            \"use_bias\": true,\n",
      "                            \"kernel_initializer\": {\n",
      "                                \"module\": \"keras.initializers\",\n",
      "                                \"class_name\": \"GlorotUniform\"\n",
      "                            },\n",
      "                            \"bias_initializer\": {\n",
      "                                \"module\": \"keras.initializers\",\n",
      "                                \"class_name\": \"Zeros\"\n",
      "                            }\n",
      "                        },\n",
      "                        \"build_config\": {\n",
      "                            \"input_shape\": [\n",
      "                                64\n",
      "                            ]\n",
      "                        }\n",
      "                    },\n",
      "                    {\n",
      "                        \"module\": \"keras.layers\",\n",
      "                        \"class_name\": \"Dense\",\n",
      "                        \"config\": {\n",
      "                            \"name\": \"dense_2\",\n",
      "                            \"trainable\": true,\n",
      "                            \"dtype\": {\n",
      "                                \"module\": \"keras\",\n",
      "                                \"class_name\": \"DTypePolicy\",\n",
      "                                \"config\": {\n",
      "                                    \"name\": \"float32\"\n",
      "                                }\n",
      "                            },\n",
      "                            \"units\": 64,\n",
      "                            \"activation\": \"relu\",\n",
      "                            \"use_bias\": true,\n",
      "                            \"kernel_initializer\": {\n",
      "                                \"module\": \"keras.initializers\",\n",
      "                                \"class_name\": \"GlorotUniform\"\n",
      "                            },\n",
      "                            \"bias_initializer\": {\n",
      "                                \"module\": \"keras.initializers\",\n",
      "                                \"class_name\": \"Zeros\"\n",
      "                            }\n",
      "                        },\n",
      "                        \"build_config\": {\n",
      "                            \"input_shape\": [\n",
      "                                128\n",
      "                            ]\n",
      "                        }\n",
      "                    },\n",
      "                    {\n",
      "                        \"module\": \"keras.layers\",\n",
      "                        \"class_name\": \"Dense\",\n",
      "                        \"config\": {\n",
      "                            \"name\": \"dense_3\",\n",
      "                            \"trainable\": true,\n",
      "                            \"dtype\": {\n",
      "                                \"module\": \"keras\",\n",
      "                                \"class_name\": \"DTypePolicy\",\n",
      "                                \"config\": {\n",
      "                                    \"name\": \"float32\"\n",
      "                                }\n",
      "                            },\n",
      "                            \"units\": 1,\n",
      "                            \"activation\": \"sigmoid\",\n",
      "                            \"use_bias\": true,\n",
      "                            \"kernel_initializer\": {\n",
      "                                \"module\": \"keras.initializers\",\n",
      "                                \"class_name\": \"GlorotUniform\"\n",
      "                            },\n",
      "                            \"bias_initializer\": {\n",
      "                                \"module\": \"keras.initializers\",\n",
      "                                \"class_name\": \"Zeros\"\n",
      "                            }\n",
      "                        },\n",
      "                        \"build_config\": {\n",
      "                            \"input_shape\": [\n",
      "                                64\n",
      "                            ]\n",
      "                        }\n",
      "                    }\n",
      "                ],\n",
      "                \"build_input_shape\": [\n",
      "                    100\n",
      "                ]\n",
      "            },\n",
      "            \"build_config\": {\n",
      "                \"input_shape\": [\n",
      "                    100\n",
      "                ]\n",
      "            },\n",
      "            \"compile_config\": {\n",
      "                \"optimizer\": {\n",
      "                    \"module\": \"keras.optimizers\",\n",
      "                    \"class_name\": \"Adam\",\n",
      "                    \"config\": {\n",
      "                        \"name\": \"adam\",\n",
      "                        \"learning_rate\": 0.0010000000474974513,\n",
      "                        \"ema_momentum\": 0.99,\n",
      "                        \"beta_1\": 0.9,\n",
      "                        \"beta_2\": 0.999,\n",
      "                        \"epsilon\": 1e-07\n",
      "                    }\n",
      "                },\n",
      "                \"loss\": \"binary_crossentropy\",\n",
      "                \"metrics\": [\n",
      "                    \"accuracy\"\n",
      "                ],\n",
      "                \"steps_per_execution\": 1\n",
      "            }\n",
      "        },\n",
      "        \"metrics\": {\n",
      "            \"Test loss\": 0.5251171588897705,\n",
      "            \"Epochs\": 100,\n",
      "            \"Batch Size\": 32,\n",
      "            \"Optimizer\": \"Adam\",\n",
      "            \"Learning Rate\": 0.0001,\n",
      "            \"Input Shape\": \"(26048, 100)\"\n",
      "        }\n",
      "    },\n",
      "    \"bias_analysis\": {\n",
      "        \"demographic_parity_diff\": 0.01868794336126514,\n",
      "        \"equal_odds_difference\": 0.020824111318539618\n",
      "    },\n",
      "    \"xai_analysis\": {\n",
      "        \"capital_gain\": 0.11161078001889917,\n",
      "        \"fnlwgt\": 0.01672927967376179,\n",
      "        \"age\": 6.346434354782287e-05,\n",
      "        \"hours_per_week\": 4.864313536220007e-05,\n",
      "        \"occupation__Exec_managerial\": 9.803416000473932e-06,\n",
      "        \"education_num\": 5.791021717916098e-06,\n",
      "        \"workclass__Self_emp_not_inc\": 4.637746347324611e-06,\n",
      "        \"education__HS_grad\": 4.270490672854862e-06,\n",
      "        \"relationship__Wife\": 3.714164098102114e-06,\n",
      "        \"martial_status__Married_civ_spouse\": 2.949121925568029e-06\n",
      "    },\n",
      "    \"model_requirements\": [\n",
      "        \"absl-py==2.1.0\",\n",
      "        \"anyio==4.4.0\",\n",
      "        \"argon2-cffi-bindings==21.2.0\",\n",
      "        \"argon2-cffi==23.1.0\",\n",
      "        \"arrow==1.3.0\",\n",
      "        \"asttokens==2.4.1\",\n",
      "        \"astunparse==1.6.3\",\n",
      "        \"async-lru==2.0.4\",\n",
      "        \"attrs==23.1.0\",\n",
      "        \"autocommand==2.2.2\",\n",
      "        \"babel==2.16.0\",\n",
      "        \"backports.tarfile==1.2.0\",\n",
      "        \"beautifulsoup4==4.12.3\",\n",
      "        \"bleach==6.1.0\",\n",
      "        \"certifi==2024.8.30\",\n",
      "        \"cffi==1.17.1\",\n",
      "        \"charset-normalizer==3.3.2\",\n",
      "        \"cloudpickle==3.0.0\",\n",
      "        \"colorama==0.4.6\",\n",
      "        \"comm==0.2.2\",\n",
      "        \"debugpy==1.8.5\",\n",
      "        \"decorator==5.1.1\",\n",
      "        \"defusedxml==0.7.1\",\n",
      "        \"et-xmlfile==1.1.0\",\n",
      "        \"executing==2.1.0\",\n",
      "        \"fastjsonschema==2.20.0\",\n",
      "        \"flatbuffers==24.3.25\",\n",
      "        \"fqdn==1.5.1\",\n",
      "        \"gast==0.6.0\",\n",
      "        \"google-pasta==0.2.0\",\n",
      "        \"grpcio==1.66.1\",\n",
      "        \"h11==0.14.0\",\n",
      "        \"h5py==3.11.0\",\n",
      "        \"httpcore==1.0.5\",\n",
      "        \"httpx==0.27.2\",\n",
      "        \"idna==3.8\",\n",
      "        \"importlib-metadata==8.0.0\",\n",
      "        \"importlib-resources==6.4.0\",\n",
      "        \"inflect==7.3.1\",\n",
      "        \"ipykernel==6.29.5\",\n",
      "        \"ipython==8.27.0\",\n",
      "        \"isoduration==20.11.0\",\n",
      "        \"jaraco.context==5.3.0\",\n",
      "        \"jaraco.functools==4.0.1\",\n",
      "        \"jaraco.text==3.12.1\",\n",
      "        \"jedi==0.19.1\",\n",
      "        \"jinja2==3.1.4\",\n",
      "        \"joblib==1.4.2\",\n",
      "        \"json5==0.9.25\",\n",
      "        \"jsonpointer==3.0.0\",\n",
      "        \"jsonschema-specifications==2023.12.1\",\n",
      "        \"jsonschema==4.18.6\",\n",
      "        \"jupyter-client==8.6.2\",\n",
      "        \"jupyter-core==5.7.2\",\n",
      "        \"jupyter-events==0.10.0\",\n",
      "        \"jupyter-lsp==2.2.5\",\n",
      "        \"jupyter-server-terminals==0.5.3\",\n",
      "        \"jupyter-server==2.14.2\",\n",
      "        \"jupyterlab-pygments==0.3.0\",\n",
      "        \"jupyterlab-server==2.27.3\",\n",
      "        \"jupyterlab==4.2.5\",\n",
      "        \"keras==3.5.0\",\n",
      "        \"libclang==18.1.1\",\n",
      "        \"llvmlite==0.43.0\",\n",
      "        \"markdown-it-py==3.0.0\",\n",
      "        \"markdown==3.7\",\n",
      "        \"markupsafe==2.1.5\",\n",
      "        \"matplotlib-inline==0.1.7\",\n",
      "        \"mdurl==0.1.2\",\n",
      "        \"mistune==3.0.2\",\n",
      "        \"ml-dtypes==0.4.0\",\n",
      "        \"more-itertools==10.3.0\",\n",
      "        \"namex==0.0.8\",\n",
      "        \"nbclient==0.10.0\",\n",
      "        \"nbconvert==7.16.4\",\n",
      "        \"nbformat==5.10.4\",\n",
      "        \"nest-asyncio==1.6.0\",\n",
      "        \"notebook-shim==0.2.4\",\n",
      "        \"notebook==7.2.2\",\n",
      "        \"numba==0.60.0\",\n",
      "        \"numpy==1.26.4\",\n",
      "        \"openpyxl==3.1.5\",\n",
      "        \"opt-einsum==3.3.0\",\n",
      "        \"optree==0.12.1\",\n",
      "        \"overrides==7.7.0\",\n",
      "        \"packaging==24.1\",\n",
      "        \"pandas==2.2.2\",\n",
      "        \"pandocfilters==1.5.1\",\n",
      "        \"parso==0.8.4\",\n",
      "        \"patra-model-card==0.3\",\n",
      "        \"pip==24.2\",\n",
      "        \"platformdirs==4.3.2\",\n",
      "        \"prometheus-client==0.20.0\",\n",
      "        \"prompt-toolkit==3.0.47\",\n",
      "        \"protobuf==4.25.4\",\n",
      "        \"psutil==6.0.0\",\n",
      "        \"pure-eval==0.2.3\",\n",
      "        \"pycparser==2.22\",\n",
      "        \"pygments==2.18.0\",\n",
      "        \"pyrsistent==0.19.3\",\n",
      "        \"python-dateutil==2.9.0.post0\",\n",
      "        \"python-json-logger==2.0.7\",\n",
      "        \"pytz==2024.1\",\n",
      "        \"pywin32==306\",\n",
      "        \"pywinpty==2.0.13\",\n",
      "        \"pyyaml==6.0.2\",\n",
      "        \"pyzmq==26.2.0\",\n",
      "        \"referencing==0.35.1\",\n",
      "        \"requests==2.32.3\",\n",
      "        \"rfc3339-validator==0.1.4\",\n",
      "        \"rfc3986-validator==0.1.1\",\n",
      "        \"rich==13.8.1\",\n",
      "        \"rpds-py==0.20.0\",\n",
      "        \"scikit-learn==1.5.1\",\n",
      "        \"scipy==1.13.1\",\n",
      "        \"send2trash==1.8.3\",\n",
      "        \"setuptools==74.1.2\",\n",
      "        \"six==1.16.0\",\n",
      "        \"slicer==0.0.8\",\n",
      "        \"sniffio==1.3.1\",\n",
      "        \"soupsieve==2.6\",\n",
      "        \"stack-data==0.6.3\",\n",
      "        \"tensorboard-data-server==0.7.2\",\n",
      "        \"tensorboard==2.17.1\",\n",
      "        \"tensorflow-intel==2.17.0\",\n",
      "        \"tensorflow==2.17.0\",\n",
      "        \"termcolor==2.4.0\",\n",
      "        \"terminado==0.18.1\",\n",
      "        \"threadpoolctl==3.5.0\",\n",
      "        \"tinycss2==1.3.0\",\n",
      "        \"tomli==2.0.1\",\n",
      "        \"tornado==6.4.1\",\n",
      "        \"tqdm==4.66.5\",\n",
      "        \"traitlets==5.14.3\",\n",
      "        \"typeguard==4.3.0\",\n",
      "        \"types-python-dateutil==2.9.0.20240906\",\n",
      "        \"typing-extensions==4.12.2\",\n",
      "        \"tzdata==2024.1\",\n",
      "        \"uri-template==1.3.0\",\n",
      "        \"urllib3==2.2.2\",\n",
      "        \"wcwidth==0.2.13\",\n",
      "        \"webcolors==24.8.0\",\n",
      "        \"webencodings==0.5.1\",\n",
      "        \"websocket-client==1.8.0\",\n",
      "        \"werkzeug==3.0.4\",\n",
      "        \"wheel==0.44.0\",\n",
      "        \"wrapt==1.16.0\",\n",
      "        \"zipp==3.19.2\"\n",
      "    ]\n",
      "}\n"
     ]
    }
   ],
   "execution_count": 24
  },
  {
   "cell_type": "code",
   "source": "mc.save(\"/Users/swithana/git/d2i/patra-toolkit/examples/model_cards/tesorflow_adult_nn_MC.json\")",
   "metadata": {
    "collapsed": false,
    "pycharm": {
     "name": "#%%\n"
    },
    "ExecuteTime": {
     "end_time": "2024-09-19T20:01:04.184159Z",
     "start_time": "2024-09-19T20:00:55.887682Z"
    }
   },
   "outputs": [
    {
     "ename": "FileNotFoundError",
     "evalue": "[Errno 2] No such file or directory: '/Users/swithana/git/d2i/patra-toolkit/examples/model_cards/tesorflow_adult_nn_MC.json'",
     "output_type": "error",
     "traceback": [
      "\u001B[1;31m---------------------------------------------------------------------------\u001B[0m",
      "\u001B[1;31mFileNotFoundError\u001B[0m                         Traceback (most recent call last)",
      "Cell \u001B[1;32mIn[25], line 1\u001B[0m\n\u001B[1;32m----> 1\u001B[0m \u001B[43mmc\u001B[49m\u001B[38;5;241;43m.\u001B[39;49m\u001B[43msave\u001B[49m\u001B[43m(\u001B[49m\u001B[38;5;124;43m\"\u001B[39;49m\u001B[38;5;124;43m/Users/swithana/git/d2i/patra-toolkit/examples/model_cards/tesorflow_adult_nn_MC.json\u001B[39;49m\u001B[38;5;124;43m\"\u001B[39;49m\u001B[43m)\u001B[49m\n",
      "File \u001B[1;32mD:\\D2I\\Codes\\fork\\patra-toolkit\\patra_model_card\\patra_model_card.py:191\u001B[0m, in \u001B[0;36mModelCard.save\u001B[1;34m(self, file_location)\u001B[0m\n\u001B[0;32m    187\u001B[0m \u001B[38;5;28;01mdef\u001B[39;00m \u001B[38;5;21msave\u001B[39m(\u001B[38;5;28mself\u001B[39m, file_location):\n\u001B[0;32m    188\u001B[0m \u001B[38;5;250m    \u001B[39m\u001B[38;5;124;03m\"\"\"\u001B[39;00m\n\u001B[0;32m    189\u001B[0m \u001B[38;5;124;03m    Saves the model card as a json file.\u001B[39;00m\n\u001B[0;32m    190\u001B[0m \u001B[38;5;124;03m    \"\"\"\u001B[39;00m\n\u001B[1;32m--> 191\u001B[0m     \u001B[38;5;28;01mwith\u001B[39;00m \u001B[38;5;28;43mopen\u001B[39;49m\u001B[43m(\u001B[49m\u001B[43mfile_location\u001B[49m\u001B[43m,\u001B[49m\u001B[43m \u001B[49m\u001B[38;5;124;43m'\u001B[39;49m\u001B[38;5;124;43mw\u001B[39;49m\u001B[38;5;124;43m'\u001B[39;49m\u001B[43m)\u001B[49m \u001B[38;5;28;01mas\u001B[39;00m json_file:\n\u001B[0;32m    192\u001B[0m         json_file\u001B[38;5;241m.\u001B[39mwrite(\u001B[38;5;28mstr\u001B[39m(\u001B[38;5;28mself\u001B[39m))\n",
      "\u001B[1;31mFileNotFoundError\u001B[0m: [Errno 2] No such file or directory: '/Users/swithana/git/d2i/patra-toolkit/examples/model_cards/tesorflow_adult_nn_MC.json'"
     ]
    }
   ],
   "execution_count": 25
  },
  {
   "cell_type": "code",
   "source": "mc.validate()",
   "metadata": {
    "collapsed": false,
    "pycharm": {
     "name": "#%%\n"
    },
    "ExecuteTime": {
     "end_time": "2024-09-19T20:01:04.187193400Z",
     "start_time": "2024-08-04T02:51:53.734883Z"
    }
   },
   "outputs": [
    {
     "data": {
      "text/plain": [
       "True"
      ]
     },
     "execution_count": 27,
     "metadata": {},
     "output_type": "execute_result"
    }
   ],
   "execution_count": 27
  },
  {
   "metadata": {
    "ExecuteTime": {
     "end_time": "2024-09-19T20:01:04.188164Z",
     "start_time": "2024-08-04T02:51:53.744706Z"
    }
   },
   "cell_type": "code",
   "source": "mc.submit(\"http://127.0.0.1:5000/upload_mc\")",
   "outputs": [
    {
     "data": {
      "text/plain": [
       "{'message': 'Successfully uploaded the model card',\n",
       " 'model_card_id': 'd9f7aa3e-a9ac-4084-a5cc-92cfaf4eacde'}"
      ]
     },
     "execution_count": 28,
     "metadata": {},
     "output_type": "execute_result"
    }
   ],
   "execution_count": 28
  }
 ],
 "metadata": {
  "kernelspec": {
   "display_name": "Python 3",
   "language": "python",
   "name": "python3"
  },
  "language_info": {
   "codemirror_mode": {
    "name": "ipython",
    "version": 2
   },
   "file_extension": ".py",
   "mimetype": "text/x-python",
   "name": "python",
   "nbconvert_exporter": "python",
   "pygments_lexer": "ipython2",
   "version": "2.7.6"
  }
 },
 "nbformat": 4,
 "nbformat_minor": 0
}
