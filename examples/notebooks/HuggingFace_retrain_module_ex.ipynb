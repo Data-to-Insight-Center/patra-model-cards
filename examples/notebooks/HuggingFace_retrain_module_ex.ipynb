{
 "cells": [
  {
   "cell_type": "code",
   "id": "initial_id",
   "metadata": {
    "collapsed": true,
    "ExecuteTime": {
     "end_time": "2024-10-14T23:56:59.387033Z",
     "start_time": "2024-10-14T23:56:59.380213Z"
    }
   },
   "source": [
    "from transformers import DistilBertTokenizer, DistilBertForSequenceClassification,AutoTokenizer, AutoModelForSequenceClassification\n",
    "import torch"
   ],
   "outputs": [],
   "execution_count": 19
  },
  {
   "metadata": {
    "ExecuteTime": {
     "end_time": "2024-10-14T23:56:59.400478Z",
     "start_time": "2024-10-14T23:56:59.395662Z"
    }
   },
   "cell_type": "code",
   "source": "# pip install transformers",
   "id": "899e1b560d9de6dc",
   "outputs": [],
   "execution_count": 20
  },
  {
   "metadata": {
    "ExecuteTime": {
     "end_time": "2024-10-14T23:57:00.642449Z",
     "start_time": "2024-10-14T23:56:59.896318Z"
    }
   },
   "cell_type": "code",
   "source": [
    "tokenizer = AutoTokenizer.from_pretrained(\"nlptown/bert-base-multilingual-uncased-sentiment\")\n",
    "model = AutoModelForSequenceClassification.from_pretrained(\"nlptown/bert-base-multilingual-uncased-sentiment\")"
   ],
   "id": "fe33d2651362e577",
   "outputs": [],
   "execution_count": 21
  },
  {
   "metadata": {
    "ExecuteTime": {
     "end_time": "2024-10-14T23:57:00.946157Z",
     "start_time": "2024-10-14T23:57:00.820828Z"
    }
   },
   "cell_type": "code",
   "source": [
    "device = torch.device(\"cuda\" if torch.cuda.is_available() else \"cpu\")\n",
    "model = model.to(device)\n",
    "\n",
    "text = \"I really dislike this item.\"\n",
    "\n",
    "# Tokenize the input text\n",
    "inputs = tokenizer(text, return_tensors=\"pt\", padding=True, truncation=True)\n",
    "\n",
    "# Move inputs to the correct device\n",
    "inputs = {key: value.to(device) for key, value in inputs.items()}\n",
    "\n",
    "# Get model predictions\n",
    "with torch.no_grad():\n",
    "    outputs = model(**inputs)"
   ],
   "id": "d36f78416f11353e",
   "outputs": [],
   "execution_count": 22
  },
  {
   "metadata": {
    "ExecuteTime": {
     "end_time": "2024-10-14T23:57:01.113881Z",
     "start_time": "2024-10-14T23:57:01.110669Z"
    }
   },
   "cell_type": "code",
   "source": [
    "# Get the predicted class (0 for negative, 1 for positive)\n",
    "logits = outputs.logits\n",
    "predicted_class = torch.argmax(logits, dim=1).item()\n",
    "\n",
    "# Display the result\n",
    "sentiment = \"positive\" if predicted_class == 1 else \"negative\"\n",
    "print(f\"The sentiment is: {sentiment}\")"
   ],
   "id": "7dd7768c60936f14",
   "outputs": [
    {
     "name": "stdout",
     "output_type": "stream",
     "text": [
      "The sentiment is: negative\n"
     ]
    }
   ],
   "execution_count": 23
  },
  {
   "metadata": {
    "ExecuteTime": {
     "end_time": "2024-10-14T23:57:01.284018Z",
     "start_time": "2024-10-14T23:57:01.281242Z"
    }
   },
   "cell_type": "code",
   "source": "model.framework",
   "id": "408e52eb9368a58f",
   "outputs": [
    {
     "data": {
      "text/plain": [
       "'pt'"
      ]
     },
     "execution_count": 24,
     "metadata": {},
     "output_type": "execute_result"
    }
   ],
   "execution_count": 24
  },
  {
   "metadata": {
    "ExecuteTime": {
     "end_time": "2024-10-14T23:57:01.445029Z",
     "start_time": "2024-10-14T23:57:01.442960Z"
    }
   },
   "cell_type": "code",
   "source": "from patra_model_card.patra_model_card import ModelCard, AIModel, BiasAnalysis, ExplainabilityAnalysis",
   "id": "93b5be03c39e286f",
   "outputs": [],
   "execution_count": 25
  },
  {
   "metadata": {
    "ExecuteTime": {
     "end_time": "2024-10-14T23:57:01.606514Z",
     "start_time": "2024-10-14T23:57:01.604435Z"
    }
   },
   "cell_type": "code",
   "source": [
    "mc = ModelCard(\n",
    "    name=\"Sentiment Analysis Model using Hugging Face\",\n",
    "    version=\"0.1\",\n",
    "    short_description=\"Sentiment analysis model based on Hugging Face's DistilBERT fine-tuned on SST-2 dataset.\",\n",
    "    full_description=\"This model utilizes the Hugging Face Transformers framework with the DistilBERT model, fine-tuned for sentiment analysis on the SST-2 dataset. It is capable of classifying text as either positive or negative sentiment.\",\n",
    "    keywords=\"sentiment analysis, hugging face, transformers, distilbert, patra\",\n",
    "    author=\"Isuru Gamage\",\n",
    "    input_type=\"Text\",\n",
    "    category=\"classification\",\n",
    "    foundational_model=\"None\",\n",
    ")\n",
    "\n",
    "mc.input_data = 'https://huggingface.co/datasets/sst2'\n",
    "mc.output_data = 'https://huggingface.co/distilbert-base-uncased-finetuned-sst-2-english'"
   ],
   "id": "ec0d878fd10502d9",
   "outputs": [],
   "execution_count": 26
  },
  {
   "metadata": {
    "ExecuteTime": {
     "end_time": "2024-10-14T23:57:01.766825Z",
     "start_time": "2024-10-14T23:57:01.764655Z"
    }
   },
   "cell_type": "code",
   "source": [
    "ai_model = AIModel(\n",
    "    name=\"Sentiment Analysis Hugging Face Model\",\n",
    "    version=\"1.0\",\n",
    "    description=\"Sentiment analysis model using Hugging Face Transformers pre-trained DistilBERT model for positive and negative sentiment classification.\",\n",
    "    owner=\"Isuru Gamage\",\n",
    "    location=\"https://huggingface.co/distilbert-base-uncased-finetuned-sst-2-english\", \n",
    "    license=\"Apache-2.0\", \n",
    "    framework=\"pytorch\",\n",
    "    model_type=\"other\",  \n",
    "    test_accuracy=0  \n",
    ")\n",
    "\n",
    "\n",
    "ai_model.populate_model_structure(model)"
   ],
   "id": "a96b7513229a865b",
   "outputs": [],
   "execution_count": 27
  },
  {
   "metadata": {
    "ExecuteTime": {
     "end_time": "2024-10-14T23:57:01.925647Z",
     "start_time": "2024-10-14T23:57:01.924125Z"
    }
   },
   "cell_type": "code",
   "source": "mc.ai_model = ai_model",
   "id": "ff7f09284e85cb19",
   "outputs": [],
   "execution_count": 28
  },
  {
   "metadata": {
    "ExecuteTime": {
     "end_time": "2024-10-14T23:57:02.084808Z",
     "start_time": "2024-10-14T23:57:02.082702Z"
    }
   },
   "cell_type": "code",
   "source": "mc.populate_requirements()",
   "id": "f6df79dd435304e3",
   "outputs": [],
   "execution_count": 29
  },
  {
   "metadata": {
    "ExecuteTime": {
     "end_time": "2024-10-14T23:57:02.242093Z",
     "start_time": "2024-10-14T23:57:02.240156Z"
    }
   },
   "cell_type": "code",
   "source": "print(mc)",
   "id": "6eb29741d2b5f2db",
   "outputs": [
    {
     "name": "stdout",
     "output_type": "stream",
     "text": [
      "{\n",
      "    \"name\": \"Sentiment Analysis Model using Hugging Face\",\n",
      "    \"version\": \"0.1\",\n",
      "    \"short_description\": \"Sentiment analysis model based on Hugging Face's DistilBERT fine-tuned on SST-2 dataset.\",\n",
      "    \"full_description\": \"This model utilizes the Hugging Face Transformers framework with the DistilBERT model, fine-tuned for sentiment analysis on the SST-2 dataset. It is capable of classifying text as either positive or negative sentiment.\",\n",
      "    \"keywords\": \"sentiment analysis, hugging face, transformers, distilbert, patra\",\n",
      "    \"author\": \"Isuru Gamage\",\n",
      "    \"input_type\": \"Text\",\n",
      "    \"category\": \"classification\",\n",
      "    \"input_data\": \"https://huggingface.co/datasets/sst2\",\n",
      "    \"output_data\": \"https://huggingface.co/distilbert-base-uncased-finetuned-sst-2-english\",\n",
      "    \"foundational_model\": \"None\",\n",
      "    \"ai_model\": {\n",
      "        \"name\": \"Sentiment Analysis Hugging Face Model\",\n",
      "        \"version\": \"1.0\",\n",
      "        \"description\": \"Sentiment analysis model using Hugging Face Transformers pre-trained DistilBERT model for positive and negative sentiment classification.\",\n",
      "        \"owner\": \"Isuru Gamage\",\n",
      "        \"location\": \"https://huggingface.co/distilbert-base-uncased-finetuned-sst-2-english\",\n",
      "        \"license\": \"Apache-2.0\",\n",
      "        \"framework\": \"pytorch\",\n",
      "        \"model_type\": \"other\",\n",
      "        \"test_accuracy\": 0,\n",
      "        \"model_structure\": {},\n",
      "        \"metrics\": {}\n",
      "    },\n",
      "    \"bias_analysis\": null,\n",
      "    \"xai_analysis\": null,\n",
      "    \"model_requirements\": [\n",
      "        \"accelerate==1.0.1\",\n",
      "        \"anyio==4.6.0\",\n",
      "        \"appnope==0.1.4\",\n",
      "        \"argon2-cffi-bindings==21.2.0\",\n",
      "        \"argon2-cffi==23.1.0\",\n",
      "        \"arrow==1.3.0\",\n",
      "        \"asttokens==2.4.1\",\n",
      "        \"async-lru==2.0.4\",\n",
      "        \"attrs==23.1.0\",\n",
      "        \"babel==2.16.0\",\n",
      "        \"beautifulsoup4==4.12.3\",\n",
      "        \"bleach==6.1.0\",\n",
      "        \"certifi==2024.8.30\",\n",
      "        \"cffi==1.17.1\",\n",
      "        \"charset-normalizer==3.4.0\",\n",
      "        \"cloudpickle==3.0.0\",\n",
      "        \"comm==0.2.2\",\n",
      "        \"debugpy==1.8.7\",\n",
      "        \"decorator==5.1.1\",\n",
      "        \"defusedxml==0.7.1\",\n",
      "        \"executing==2.1.0\",\n",
      "        \"fastjsonschema==2.20.0\",\n",
      "        \"filelock==3.16.1\",\n",
      "        \"fqdn==1.5.1\",\n",
      "        \"fsspec==2024.9.0\",\n",
      "        \"h11==0.14.0\",\n",
      "        \"httpcore==1.0.6\",\n",
      "        \"httpx==0.27.2\",\n",
      "        \"huggingface-hub==0.25.2\",\n",
      "        \"idna==3.10\",\n",
      "        \"ipykernel==6.29.5\",\n",
      "        \"ipython==8.28.0\",\n",
      "        \"isoduration==20.11.0\",\n",
      "        \"jedi==0.19.1\",\n",
      "        \"jinja2==3.1.4\",\n",
      "        \"joblib==1.4.2\",\n",
      "        \"json5==0.9.25\",\n",
      "        \"jsonpointer==3.0.0\",\n",
      "        \"jsonschema-specifications==2024.10.1\",\n",
      "        \"jsonschema==4.18.6\",\n",
      "        \"jupyter-client==8.6.3\",\n",
      "        \"jupyter-core==5.7.2\",\n",
      "        \"jupyter-events==0.10.0\",\n",
      "        \"jupyter-lsp==2.2.5\",\n",
      "        \"jupyter-server-terminals==0.5.3\",\n",
      "        \"jupyter-server==2.14.2\",\n",
      "        \"jupyterlab-pygments==0.3.0\",\n",
      "        \"jupyterlab-server==2.27.3\",\n",
      "        \"jupyterlab==4.2.5\",\n",
      "        \"llvmlite==0.43.0\",\n",
      "        \"markupsafe==3.0.1\",\n",
      "        \"matplotlib-inline==0.1.7\",\n",
      "        \"mistune==3.0.2\",\n",
      "        \"mpmath==1.3.0\",\n",
      "        \"nbclient==0.10.0\",\n",
      "        \"nbconvert==7.16.4\",\n",
      "        \"nbformat==5.10.4\",\n",
      "        \"nest-asyncio==1.6.0\",\n",
      "        \"networkx==3.3\",\n",
      "        \"notebook-shim==0.2.4\",\n",
      "        \"notebook==7.2.2\",\n",
      "        \"numba==0.60.0\",\n",
      "        \"numpy==1.26.4\",\n",
      "        \"overrides==7.7.0\",\n",
      "        \"packaging==24.1\",\n",
      "        \"pandas==2.2.3\",\n",
      "        \"pandocfilters==1.5.1\",\n",
      "        \"parso==0.8.4\",\n",
      "        \"pexpect==4.9.0\",\n",
      "        \"pip==23.2.1\",\n",
      "        \"platformdirs==4.3.6\",\n",
      "        \"prometheus-client==0.21.0\",\n",
      "        \"prompt-toolkit==3.0.48\",\n",
      "        \"psutil==6.0.0\",\n",
      "        \"ptyprocess==0.7.0\",\n",
      "        \"pure-eval==0.2.3\",\n",
      "        \"pycparser==2.22\",\n",
      "        \"pygments==2.18.0\",\n",
      "        \"pyrsistent==0.19.3\",\n",
      "        \"python-dateutil==2.9.0.post0\",\n",
      "        \"python-json-logger==2.0.7\",\n",
      "        \"pytz==2024.2\",\n",
      "        \"pyyaml==6.0.2\",\n",
      "        \"pyzmq==26.2.0\",\n",
      "        \"referencing==0.35.1\",\n",
      "        \"regex==2024.9.11\",\n",
      "        \"requests==2.32.3\",\n",
      "        \"rfc3339-validator==0.1.4\",\n",
      "        \"rfc3986-validator==0.1.1\",\n",
      "        \"rpds-py==0.20.0\",\n",
      "        \"safetensors==0.4.5\",\n",
      "        \"scikit-learn==1.5.2\",\n",
      "        \"scipy==1.14.1\",\n",
      "        \"send2trash==1.8.3\",\n",
      "        \"setuptools==68.2.0\",\n",
      "        \"six==1.16.0\",\n",
      "        \"slicer==0.0.8\",\n",
      "        \"sniffio==1.3.1\",\n",
      "        \"soupsieve==2.6\",\n",
      "        \"stack-data==0.6.3\",\n",
      "        \"sympy==1.13.3\",\n",
      "        \"terminado==0.18.1\",\n",
      "        \"threadpoolctl==3.5.0\",\n",
      "        \"tinycss2==1.3.0\",\n",
      "        \"tokenizers==0.20.1\",\n",
      "        \"torch==2.4.1\",\n",
      "        \"tornado==6.4.1\",\n",
      "        \"tqdm==4.66.5\",\n",
      "        \"traitlets==5.14.3\",\n",
      "        \"transformers==4.45.2\",\n",
      "        \"types-python-dateutil==2.9.0.20241003\",\n",
      "        \"typing-extensions==4.12.2\",\n",
      "        \"tzdata==2024.2\",\n",
      "        \"uri-template==1.3.0\",\n",
      "        \"urllib3==2.2.3\",\n",
      "        \"wcwidth==0.2.13\",\n",
      "        \"webcolors==24.8.0\",\n",
      "        \"webencodings==0.5.1\",\n",
      "        \"websocket-client==1.8.0\",\n",
      "        \"wheel==0.41.2\"\n",
      "    ]\n",
      "}\n"
     ]
    }
   ],
   "execution_count": 30
  },
  {
   "metadata": {
    "ExecuteTime": {
     "end_time": "2024-10-14T23:57:02.406067Z",
     "start_time": "2024-10-14T23:57:02.399546Z"
    }
   },
   "cell_type": "code",
   "source": "mc.validate()",
   "id": "d6eff20b438c5701",
   "outputs": [
    {
     "data": {
      "text/plain": [
       "True"
      ]
     },
     "execution_count": 31,
     "metadata": {},
     "output_type": "execute_result"
    }
   ],
   "execution_count": 31
  },
  {
   "metadata": {
    "ExecuteTime": {
     "end_time": "2024-10-14T23:57:02.899086Z",
     "start_time": "2024-10-14T23:57:02.580203Z"
    }
   },
   "cell_type": "code",
   "source": "mc.submit(\"http://127.0.0.1:5002/upload_mc\")",
   "id": "b26244e8b7e8348c",
   "outputs": [
    {
     "data": {
      "text/plain": [
       "{'message': 'Successfully uploaded the model card',\n",
       " 'model_card_id': 'ee74c7d3-af30-465b-8a23-d2f232c648d3'}"
      ]
     },
     "execution_count": 32,
     "metadata": {},
     "output_type": "execute_result"
    }
   ],
   "execution_count": 32
  },
  {
   "metadata": {},
   "cell_type": "markdown",
   "source": "Retrain the HaggingFace Model",
   "id": "b5dec641de43110"
  },
  {
   "metadata": {
    "ExecuteTime": {
     "end_time": "2024-10-14T23:57:03.077674Z",
     "start_time": "2024-10-14T23:57:03.075505Z"
    }
   },
   "cell_type": "code",
   "source": [
    "import pandas as pd\n",
    "from sklearn.model_selection import train_test_split\n",
    "from transformers import AutoModelForSequenceClassification, AutoTokenizer, Trainer, TrainingArguments\n",
    "from sklearn.preprocessing import LabelEncoder\n",
    "import torch\n",
    "from torch.utils.data import Dataset"
   ],
   "id": "db850e2ed817afbc",
   "outputs": [],
   "execution_count": 33
  },
  {
   "metadata": {
    "ExecuteTime": {
     "end_time": "2024-10-14T23:57:03.270953Z",
     "start_time": "2024-10-14T23:57:03.224786Z"
    }
   },
   "cell_type": "code",
   "source": [
    "\n",
    "df = pd.read_csv(\"/Users/agamage/Desktop/D2I/Codes/fork/patra-toolkit/examples/notebooks/data/sentiment/news_sentiment_analysis.csv\")  # Adjust the path as necessary\n",
    "\n",
    "df = df.drop(columns=['URL', 'Source','Author'])\n",
    "# Combine title and description as features\n",
    "df['Text'] = df['Title'] + \" \" + df['Description']\n",
    "\n",
    "label_encoder_type = LabelEncoder()\n",
    "label_encoder_date = LabelEncoder()\n",
    "\n",
    "df['Type'] = label_encoder_type.fit_transform(df['Type'])\n",
    "\n",
    "df['Published_day'] = pd.to_datetime(df['Published At']).dt.day_name()\n",
    "df['Published At'] = label_encoder_date.fit_transform(df['Published_day'])\n",
    "\n",
    "df = df.drop(columns=['Title', 'Description', 'Published_day'])\n",
    "\n",
    "# Map sentiment labels from -1 (negative) to 0, and keep 1 as positive\n",
    "df['Sentiment'] = df['Sentiment'].apply(lambda x: 1 if x == \"positive\" else 0)\n",
    "\n",
    "# Split the data into features (X) and labels (y)\n",
    "X = df.drop(columns=['Sentiment'])\n",
    "y = df['Sentiment'] # Target label"
   ],
   "id": "2f5bd2eaabf746c8",
   "outputs": [],
   "execution_count": 34
  },
  {
   "metadata": {
    "ExecuteTime": {
     "end_time": "2024-10-14T23:57:05.755428Z",
     "start_time": "2024-10-14T23:57:03.427242Z"
    }
   },
   "cell_type": "code",
   "source": [
    "X_train, X_test, y_train, y_test = train_test_split(X, y, test_size=0.2, random_state=42)\n",
    "\n",
    "model_name = \"distilbert-base-uncased-finetuned-sst-2-english\"\n",
    "tokenizer = AutoTokenizer.from_pretrained(model_name)\n",
    "model = AutoModelForSequenceClassification.from_pretrained(model_name, ignore_mismatched_sizes=True)\n",
    "\n",
    "\n",
    "\n",
    "device = torch.device(\"mps\") if torch.has_mps else (torch.device(\"cuda\") if torch.cuda.is_available() else torch.device(\"cpu\"))\n",
    "model.to(device)\n",
    "\n",
    "# Tokenize the training and test data\n",
    "train_encodings = tokenizer(X_train['Text'].tolist(), truncation=True, padding=True, max_length=512, return_tensors=\"pt\")\n",
    "test_encodings = tokenizer(X_test['Text'].tolist(), truncation=True, padding=True, max_length=512, return_tensors=\"pt\")\n",
    "\n",
    "# Move input tensors to the correct device\n",
    "train_encodings = {key: val.to(device) for key, val in train_encodings.items()}\n",
    "test_encodings = {key: val.to(device) for key, val in test_encodings.items()}\n",
    "\n",
    "# Convert labels to tensors\n",
    "y_train_tensor = torch.tensor(y_train.tolist()).to(device)\n",
    "y_test_tensor = torch.tensor(y_test.tolist()).to(device)\n"
   ],
   "id": "cf22a11cfb43224b",
   "outputs": [
    {
     "name": "stderr",
     "output_type": "stream",
     "text": [
      "/var/folders/hz/704s19kd1zg3phgs0khv5df00000gp/T/ipykernel_66489/2829974262.py:11: UserWarning: 'has_mps' is deprecated, please use 'torch.backends.mps.is_built()'\n",
      "  device = torch.device(\"mps\") if torch.has_mps else (torch.device(\"cuda\") if torch.cuda.is_available() else torch.device(\"cpu\"))\n"
     ]
    }
   ],
   "execution_count": 35
  },
  {
   "metadata": {
    "ExecuteTime": {
     "end_time": "2024-10-15T00:03:03.097132Z",
     "start_time": "2024-10-14T23:57:05.941866Z"
    }
   },
   "cell_type": "code",
   "source": [
    "# Create a custom Dataset class\n",
    "\n",
    "class ReviewsDataset(Dataset):\n",
    "    def __init__(self, encodings, labels):\n",
    "        self.encodings = encodings\n",
    "        self.labels = labels\n",
    "\n",
    "    def __getitem__(self, idx):\n",
    "        item = {key: val[idx] for key, val in self.encodings.items()}\n",
    "        item['labels'] = self.labels[idx]\n",
    "        return item\n",
    "\n",
    "    def __len__(self):\n",
    "        return len(self.labels)\n",
    "\n",
    "train_dataset = ReviewsDataset(train_encodings, y_train_tensor)\n",
    "test_dataset = ReviewsDataset(test_encodings, y_test_tensor)\n",
    "\n",
    "# Load the pre-trained model\n",
    "model = AutoModelForSequenceClassification.from_pretrained(model_name, num_labels=2)\n",
    "\n",
    "\n",
    "training_args = TrainingArguments(\n",
    "    output_dir='./results',          # Output directory\n",
    "    num_train_epochs=3,              # Number of training epochs\n",
    "    per_device_train_batch_size=16,  # Batch size for training\n",
    "    evaluation_strategy=\"epoch\",      # Evaluate at the end of each epoch\n",
    "    logging_dir='./logs',            # Directory for storing logs\n",
    ")\n",
    "\n",
    "\n",
    "trainer = Trainer(\n",
    "    model=model,\n",
    "    args=training_args,\n",
    "    train_dataset=train_dataset,\n",
    "    eval_dataset=test_dataset,\n",
    ")\n",
    "\n",
    "# Train the model\n",
    "trainer.train()\n",
    "\n",
    "\n",
    "evaluation_results = trainer.evaluate() \n",
    "\n",
    "print(evaluation_results)\n",
    "\n",
    "model.eval()"
   ],
   "id": "150c0cfd492dc31d",
   "outputs": [
    {
     "name": "stderr",
     "output_type": "stream",
     "text": [
      "/Users/agamage/Desktop/patra-toolkit/lib/python3.11/site-packages/transformers/training_args.py:1545: FutureWarning: `evaluation_strategy` is deprecated and will be removed in version 4.46 of 🤗 Transformers. Use `eval_strategy` instead\n",
      "  warnings.warn(\n"
     ]
    },
    {
     "data": {
      "text/plain": [
       "<IPython.core.display.HTML object>"
      ],
      "text/html": [
       "\n",
       "    <div>\n",
       "      \n",
       "      <progress value='525' max='525' style='width:300px; height:20px; vertical-align: middle;'></progress>\n",
       "      [525/525 05:48, Epoch 3/3]\n",
       "    </div>\n",
       "    <table border=\"1\" class=\"dataframe\">\n",
       "  <thead>\n",
       " <tr style=\"text-align: left;\">\n",
       "      <th>Epoch</th>\n",
       "      <th>Training Loss</th>\n",
       "      <th>Validation Loss</th>\n",
       "    </tr>\n",
       "  </thead>\n",
       "  <tbody>\n",
       "    <tr>\n",
       "      <td>1</td>\n",
       "      <td>No log</td>\n",
       "      <td>0.361191</td>\n",
       "    </tr>\n",
       "    <tr>\n",
       "      <td>2</td>\n",
       "      <td>No log</td>\n",
       "      <td>0.394380</td>\n",
       "    </tr>\n",
       "    <tr>\n",
       "      <td>3</td>\n",
       "      <td>0.236700</td>\n",
       "      <td>0.473072</td>\n",
       "    </tr>\n",
       "  </tbody>\n",
       "</table><p>"
      ]
     },
     "metadata": {},
     "output_type": "display_data"
    },
    {
     "data": {
      "text/plain": [
       "<IPython.core.display.HTML object>"
      ],
      "text/html": [
       "\n",
       "    <div>\n",
       "      \n",
       "      <progress value='88' max='88' style='width:300px; height:20px; vertical-align: middle;'></progress>\n",
       "      [88/88 00:07]\n",
       "    </div>\n",
       "    "
      ]
     },
     "metadata": {},
     "output_type": "display_data"
    },
    {
     "name": "stdout",
     "output_type": "stream",
     "text": [
      "{'eval_loss': 0.4730719029903412, 'eval_runtime': 7.6498, 'eval_samples_per_second': 91.505, 'eval_steps_per_second': 11.504, 'epoch': 3.0}\n"
     ]
    },
    {
     "data": {
      "text/plain": [
       "DistilBertForSequenceClassification(\n",
       "  (distilbert): DistilBertModel(\n",
       "    (embeddings): Embeddings(\n",
       "      (word_embeddings): Embedding(30522, 768, padding_idx=0)\n",
       "      (position_embeddings): Embedding(512, 768)\n",
       "      (LayerNorm): LayerNorm((768,), eps=1e-12, elementwise_affine=True)\n",
       "      (dropout): Dropout(p=0.1, inplace=False)\n",
       "    )\n",
       "    (transformer): Transformer(\n",
       "      (layer): ModuleList(\n",
       "        (0-5): 6 x TransformerBlock(\n",
       "          (attention): MultiHeadSelfAttention(\n",
       "            (dropout): Dropout(p=0.1, inplace=False)\n",
       "            (q_lin): Linear(in_features=768, out_features=768, bias=True)\n",
       "            (k_lin): Linear(in_features=768, out_features=768, bias=True)\n",
       "            (v_lin): Linear(in_features=768, out_features=768, bias=True)\n",
       "            (out_lin): Linear(in_features=768, out_features=768, bias=True)\n",
       "          )\n",
       "          (sa_layer_norm): LayerNorm((768,), eps=1e-12, elementwise_affine=True)\n",
       "          (ffn): FFN(\n",
       "            (dropout): Dropout(p=0.1, inplace=False)\n",
       "            (lin1): Linear(in_features=768, out_features=3072, bias=True)\n",
       "            (lin2): Linear(in_features=3072, out_features=768, bias=True)\n",
       "            (activation): GELUActivation()\n",
       "          )\n",
       "          (output_layer_norm): LayerNorm((768,), eps=1e-12, elementwise_affine=True)\n",
       "        )\n",
       "      )\n",
       "    )\n",
       "  )\n",
       "  (pre_classifier): Linear(in_features=768, out_features=768, bias=True)\n",
       "  (classifier): Linear(in_features=768, out_features=2, bias=True)\n",
       "  (dropout): Dropout(p=0.2, inplace=False)\n",
       ")"
      ]
     },
     "execution_count": 36,
     "metadata": {},
     "output_type": "execute_result"
    }
   ],
   "execution_count": 36
  },
  {
   "metadata": {
    "ExecuteTime": {
     "end_time": "2024-10-15T00:03:03.374148Z",
     "start_time": "2024-10-15T00:03:03.371966Z"
    }
   },
   "cell_type": "code",
   "source": "# pip install 'accelerate>={ACCELERATE_MIN_VERSION}'",
   "id": "9f271987017dc39a",
   "outputs": [],
   "execution_count": 37
  },
  {
   "metadata": {
    "ExecuteTime": {
     "end_time": "2024-10-15T00:03:33.828107Z",
     "start_time": "2024-10-15T00:03:03.524755Z"
    }
   },
   "cell_type": "code",
   "source": [
    "with torch.no_grad():\n",
    "    test_outputs = model(**test_encodings)"
   ],
   "id": "af0408d414964a42",
   "outputs": [],
   "execution_count": 38
  },
  {
   "metadata": {
    "ExecuteTime": {
     "end_time": "2024-10-15T00:04:00.985793Z",
     "start_time": "2024-10-15T00:03:53.711437Z"
    }
   },
   "cell_type": "code",
   "source": [
    "\n",
    "device = torch.device(\"mps\") if torch.has_mps else torch.device(\"cpu\")\n",
    "\n",
    "new_reviews = [\"This product is amazing!\", \"I really dislike this item.\"]\n",
    "\n",
    "# Tokenize the new reviews\n",
    "encodings = tokenizer(new_reviews, truncation=True, padding=True, max_length=512, return_tensors=\"pt\")\n",
    "\n",
    "encodings = {key: val.to(device) for key, val in encodings.items()}\n",
    "\n",
    "model = model.to(device)\n",
    "\n",
    "# predictions\n",
    "with torch.no_grad():  # Disable gradient calculation for inference\n",
    "    outputs = model(**encodings)\n",
    "\n",
    "# predicted class (0 for negative, 1 for positive)\n",
    "predictions = torch.argmax(outputs.logits, dim=-1)\n",
    "\n",
    "for review, prediction in zip(new_reviews, predictions):\n",
    "    sentiment = \"Positive\" if prediction == 1 else \"Negative\"\n",
    "    print(f\"Review: {review}\\nPredicted Sentiment: {sentiment}\\n\")"
   ],
   "id": "718a126c373b8fbb",
   "outputs": [
    {
     "name": "stderr",
     "output_type": "stream",
     "text": [
      "/var/folders/hz/704s19kd1zg3phgs0khv5df00000gp/T/ipykernel_66489/2963717503.py:2: UserWarning: 'has_mps' is deprecated, please use 'torch.backends.mps.is_built()'\n",
      "  device = torch.device(\"mps\") if torch.has_mps else torch.device(\"cpu\")\n"
     ]
    },
    {
     "name": "stdout",
     "output_type": "stream",
     "text": [
      "Review: This product is amazing!\n",
      "Predicted Sentiment: Positive\n",
      "\n",
      "Review: I really dislike this item.\n",
      "Predicted Sentiment: Negative\n",
      "\n"
     ]
    }
   ],
   "execution_count": 39
  },
  {
   "metadata": {
    "ExecuteTime": {
     "end_time": "2024-10-15T00:04:01.392991Z",
     "start_time": "2024-10-15T00:04:01.385695Z"
    }
   },
   "cell_type": "code",
   "source": "from patra_model_card.patra_model_card import ModelCard, AIModel, BiasAnalysis, ExplainabilityAnalysis",
   "id": "33103fb42f73bdd5",
   "outputs": [],
   "execution_count": 40
  },
  {
   "metadata": {
    "ExecuteTime": {
     "end_time": "2024-10-15T00:04:01.593906Z",
     "start_time": "2024-10-15T00:04:01.585743Z"
    }
   },
   "cell_type": "code",
   "source": [
    "mct = ModelCard(\n",
    "    name=\"Retrain Sentiment Analysis Model using Hugging Face and News dataset\",\n",
    "    version=\"0.1\",\n",
    "    short_description=\"Retrain Sentiment analysis model based on Hugging Face's DistilBERT fine-tuned on News dataset.\",\n",
    "    full_description=\"This model utilizes the Hugging Face Transformers framework with the DistilBERT model, fine-tuned for sentiment analysis on the News dataset. It is capable of classifying text as either positive or negative sentiment.\",\n",
    "    keywords=\"sentiment analysis, hugging face, transformers, distilbert, patra, retrain\",\n",
    "    author=\"Isuru Gamage\",\n",
    "    input_type=\"Text\",\n",
    "    category=\"classification\",\n",
    "    foundational_model=\"c231bbd8-b934-4e96-a244-3dcf4d8dd344\",\n",
    ")\n",
    "\n",
    "# Link to input and output data (in the context of Hugging Face's pre-trained model and dataset)\n",
    "mct.input_data = 'https://huggingface.co/datasets/news'\n",
    "mct.output_data = 'https://huggingface.co/distilbert-base-uncased-finetuned-sst-2-english'"
   ],
   "id": "b2493772ee238449",
   "outputs": [],
   "execution_count": 41
  },
  {
   "metadata": {
    "ExecuteTime": {
     "end_time": "2024-10-15T00:04:01.604413Z",
     "start_time": "2024-10-15T00:04:01.600853Z"
    }
   },
   "cell_type": "code",
   "source": [
    "ai_model = AIModel(\n",
    "    name=\"Retrain Sentiment Analysis Hugging Face Model\",\n",
    "    version=\"1.0\",\n",
    "    description=\"Retrain Sentiment analysis model using Hugging Face Transformers pre-trained DistilBERT model for positive and negative sentiment classification.\",\n",
    "    owner=\"Isuru Gamage\",\n",
    "    location=\"https://huggingface.co/distilbert-base-uncased-finetuned-news-english/train\", \n",
    "    license=\"Apache-2.0\", \n",
    "    framework=\"pytorch\",\n",
    "    model_type=\"other\",  \n",
    "    test_accuracy=0  \n",
    ")\n",
    "\n",
    "\n",
    "ai_model.populate_model_structure(model)"
   ],
   "id": "f1b0efe935e79549",
   "outputs": [],
   "execution_count": 42
  },
  {
   "metadata": {
    "ExecuteTime": {
     "end_time": "2024-10-15T00:04:01.774980Z",
     "start_time": "2024-10-15T00:04:01.765162Z"
    }
   },
   "cell_type": "code",
   "source": [
    "ai_model.add_metric(\"Test loss\", 0.22)\n",
    "ai_model.add_metric(\"Epochs\", 100)\n",
    "ai_model.add_metric(\"Batch Size\", 32)\n",
    "ai_model.add_metric(\"Optimizer\", \"Adam\")\n",
    "ai_model.add_metric(\"Learning Rate\", 0.0001)\n",
    "ai_model.add_metric(\"Input Shape\", \"(26048, 100)\")"
   ],
   "id": "d05037cb781a74c6",
   "outputs": [],
   "execution_count": 43
  },
  {
   "metadata": {
    "ExecuteTime": {
     "end_time": "2024-10-15T00:04:01.938377Z",
     "start_time": "2024-10-15T00:04:01.936273Z"
    }
   },
   "cell_type": "code",
   "source": "mct.ai_model = ai_model",
   "id": "35952e0c030d38af",
   "outputs": [],
   "execution_count": 44
  },
  {
   "metadata": {
    "ExecuteTime": {
     "end_time": "2024-10-15T00:04:02.102807Z",
     "start_time": "2024-10-15T00:04:02.099590Z"
    }
   },
   "cell_type": "code",
   "source": "mct.populate_requirements()",
   "id": "6016403874321ba2",
   "outputs": [],
   "execution_count": 45
  },
  {
   "metadata": {
    "ExecuteTime": {
     "end_time": "2024-10-15T00:04:02.298100Z",
     "start_time": "2024-10-15T00:04:02.276795Z"
    }
   },
   "cell_type": "code",
   "source": [
    "from torch.nn.functional import softmax\n",
    "import numpy as np\n",
    "\n",
    "y_pred_prob = softmax(test_outputs.logits, dim=1).cpu().numpy()\n",
    "\n",
    "print(f\"Probabilities for the first 5 samples: \\n{y_pred_prob[:5]}\")\n",
    "\n",
    "# If you want to convert these probabilities into binary predictions:\n",
    "y_pred = np.argmax(y_pred_prob, axis=1)"
   ],
   "id": "161d0b116e7f0729",
   "outputs": [
    {
     "name": "stdout",
     "output_type": "stream",
     "text": [
      "Probabilities for the first 5 samples: \n",
      "[[7.3398073e-04 9.9926597e-01]\n",
      " [6.1090710e-03 9.9389088e-01]\n",
      " [9.9954009e-01 4.5991005e-04]\n",
      " [1.7833044e-03 9.9821669e-01]\n",
      " [1.1440295e-03 9.9885595e-01]]\n"
     ]
    }
   ],
   "execution_count": 46
  },
  {
   "metadata": {
    "ExecuteTime": {
     "end_time": "2024-10-15T00:04:02.632031Z",
     "start_time": "2024-10-15T00:04:02.629988Z"
    }
   },
   "cell_type": "code",
   "source": "print(mct)",
   "id": "1b40a532c75ab9c4",
   "outputs": [
    {
     "name": "stdout",
     "output_type": "stream",
     "text": [
      "{\n",
      "    \"name\": \"Retrain Sentiment Analysis Model using Hugging Face and News dataset\",\n",
      "    \"version\": \"0.1\",\n",
      "    \"short_description\": \"Retrain Sentiment analysis model based on Hugging Face's DistilBERT fine-tuned on News dataset.\",\n",
      "    \"full_description\": \"This model utilizes the Hugging Face Transformers framework with the DistilBERT model, fine-tuned for sentiment analysis on the News dataset. It is capable of classifying text as either positive or negative sentiment.\",\n",
      "    \"keywords\": \"sentiment analysis, hugging face, transformers, distilbert, patra, retrain\",\n",
      "    \"author\": \"Isuru Gamage\",\n",
      "    \"input_type\": \"Text\",\n",
      "    \"category\": \"classification\",\n",
      "    \"input_data\": \"https://huggingface.co/datasets/news\",\n",
      "    \"output_data\": \"https://huggingface.co/distilbert-base-uncased-finetuned-sst-2-english\",\n",
      "    \"foundational_model\": \"https://huggingface.co/distilbert-base-uncased-finetuned-sst-2-english\",\n",
      "    \"ai_model\": {\n",
      "        \"name\": \"Retrain Sentiment Analysis Hugging Face Model\",\n",
      "        \"version\": \"1.0\",\n",
      "        \"description\": \"Retrain Sentiment analysis model using Hugging Face Transformers pre-trained DistilBERT model for positive and negative sentiment classification.\",\n",
      "        \"owner\": \"Isuru Gamage\",\n",
      "        \"location\": \"https://huggingface.co/distilbert-base-uncased-finetuned-news-english/train\",\n",
      "        \"license\": \"Apache-2.0\",\n",
      "        \"framework\": \"pytorch\",\n",
      "        \"model_type\": \"other\",\n",
      "        \"test_accuracy\": 0,\n",
      "        \"model_structure\": {},\n",
      "        \"metrics\": {\n",
      "            \"Test loss\": 0.22,\n",
      "            \"Epochs\": 100,\n",
      "            \"Batch Size\": 32,\n",
      "            \"Optimizer\": \"Adam\",\n",
      "            \"Learning Rate\": 0.0001,\n",
      "            \"Input Shape\": \"(26048, 100)\"\n",
      "        }\n",
      "    },\n",
      "    \"bias_analysis\": null,\n",
      "    \"xai_analysis\": null,\n",
      "    \"model_requirements\": [\n",
      "        \"accelerate==1.0.1\",\n",
      "        \"anyio==4.6.0\",\n",
      "        \"appnope==0.1.4\",\n",
      "        \"argon2-cffi-bindings==21.2.0\",\n",
      "        \"argon2-cffi==23.1.0\",\n",
      "        \"arrow==1.3.0\",\n",
      "        \"asttokens==2.4.1\",\n",
      "        \"async-lru==2.0.4\",\n",
      "        \"attrs==23.1.0\",\n",
      "        \"babel==2.16.0\",\n",
      "        \"beautifulsoup4==4.12.3\",\n",
      "        \"bleach==6.1.0\",\n",
      "        \"certifi==2024.8.30\",\n",
      "        \"cffi==1.17.1\",\n",
      "        \"charset-normalizer==3.4.0\",\n",
      "        \"cloudpickle==3.0.0\",\n",
      "        \"comm==0.2.2\",\n",
      "        \"debugpy==1.8.7\",\n",
      "        \"decorator==5.1.1\",\n",
      "        \"defusedxml==0.7.1\",\n",
      "        \"executing==2.1.0\",\n",
      "        \"fastjsonschema==2.20.0\",\n",
      "        \"filelock==3.16.1\",\n",
      "        \"fqdn==1.5.1\",\n",
      "        \"fsspec==2024.9.0\",\n",
      "        \"h11==0.14.0\",\n",
      "        \"httpcore==1.0.6\",\n",
      "        \"httpx==0.27.2\",\n",
      "        \"huggingface-hub==0.25.2\",\n",
      "        \"idna==3.10\",\n",
      "        \"ipykernel==6.29.5\",\n",
      "        \"ipython==8.28.0\",\n",
      "        \"isoduration==20.11.0\",\n",
      "        \"jedi==0.19.1\",\n",
      "        \"jinja2==3.1.4\",\n",
      "        \"joblib==1.4.2\",\n",
      "        \"json5==0.9.25\",\n",
      "        \"jsonpointer==3.0.0\",\n",
      "        \"jsonschema-specifications==2024.10.1\",\n",
      "        \"jsonschema==4.18.6\",\n",
      "        \"jupyter-client==8.6.3\",\n",
      "        \"jupyter-core==5.7.2\",\n",
      "        \"jupyter-events==0.10.0\",\n",
      "        \"jupyter-lsp==2.2.5\",\n",
      "        \"jupyter-server-terminals==0.5.3\",\n",
      "        \"jupyter-server==2.14.2\",\n",
      "        \"jupyterlab-pygments==0.3.0\",\n",
      "        \"jupyterlab-server==2.27.3\",\n",
      "        \"jupyterlab==4.2.5\",\n",
      "        \"llvmlite==0.43.0\",\n",
      "        \"markupsafe==3.0.1\",\n",
      "        \"matplotlib-inline==0.1.7\",\n",
      "        \"mistune==3.0.2\",\n",
      "        \"mpmath==1.3.0\",\n",
      "        \"nbclient==0.10.0\",\n",
      "        \"nbconvert==7.16.4\",\n",
      "        \"nbformat==5.10.4\",\n",
      "        \"nest-asyncio==1.6.0\",\n",
      "        \"networkx==3.3\",\n",
      "        \"notebook-shim==0.2.4\",\n",
      "        \"notebook==7.2.2\",\n",
      "        \"numba==0.60.0\",\n",
      "        \"numpy==1.26.4\",\n",
      "        \"overrides==7.7.0\",\n",
      "        \"packaging==24.1\",\n",
      "        \"pandas==2.2.3\",\n",
      "        \"pandocfilters==1.5.1\",\n",
      "        \"parso==0.8.4\",\n",
      "        \"pexpect==4.9.0\",\n",
      "        \"pip==23.2.1\",\n",
      "        \"platformdirs==4.3.6\",\n",
      "        \"prometheus-client==0.21.0\",\n",
      "        \"prompt-toolkit==3.0.48\",\n",
      "        \"psutil==6.0.0\",\n",
      "        \"ptyprocess==0.7.0\",\n",
      "        \"pure-eval==0.2.3\",\n",
      "        \"pycparser==2.22\",\n",
      "        \"pygments==2.18.0\",\n",
      "        \"pyrsistent==0.19.3\",\n",
      "        \"python-dateutil==2.9.0.post0\",\n",
      "        \"python-json-logger==2.0.7\",\n",
      "        \"pytz==2024.2\",\n",
      "        \"pyyaml==6.0.2\",\n",
      "        \"pyzmq==26.2.0\",\n",
      "        \"referencing==0.35.1\",\n",
      "        \"regex==2024.9.11\",\n",
      "        \"requests==2.32.3\",\n",
      "        \"rfc3339-validator==0.1.4\",\n",
      "        \"rfc3986-validator==0.1.1\",\n",
      "        \"rpds-py==0.20.0\",\n",
      "        \"safetensors==0.4.5\",\n",
      "        \"scikit-learn==1.5.2\",\n",
      "        \"scipy==1.14.1\",\n",
      "        \"send2trash==1.8.3\",\n",
      "        \"setuptools==68.2.0\",\n",
      "        \"six==1.16.0\",\n",
      "        \"slicer==0.0.8\",\n",
      "        \"sniffio==1.3.1\",\n",
      "        \"soupsieve==2.6\",\n",
      "        \"stack-data==0.6.3\",\n",
      "        \"sympy==1.13.3\",\n",
      "        \"terminado==0.18.1\",\n",
      "        \"threadpoolctl==3.5.0\",\n",
      "        \"tinycss2==1.3.0\",\n",
      "        \"tokenizers==0.20.1\",\n",
      "        \"torch==2.4.1\",\n",
      "        \"tornado==6.4.1\",\n",
      "        \"tqdm==4.66.5\",\n",
      "        \"traitlets==5.14.3\",\n",
      "        \"transformers==4.45.2\",\n",
      "        \"types-python-dateutil==2.9.0.20241003\",\n",
      "        \"typing-extensions==4.12.2\",\n",
      "        \"tzdata==2024.2\",\n",
      "        \"uri-template==1.3.0\",\n",
      "        \"urllib3==2.2.3\",\n",
      "        \"wcwidth==0.2.13\",\n",
      "        \"webcolors==24.8.0\",\n",
      "        \"webencodings==0.5.1\",\n",
      "        \"websocket-client==1.8.0\",\n",
      "        \"wheel==0.41.2\"\n",
      "    ]\n",
      "}\n"
     ]
    }
   ],
   "execution_count": 48
  },
  {
   "metadata": {
    "ExecuteTime": {
     "end_time": "2024-10-15T00:04:02.812828Z",
     "start_time": "2024-10-15T00:04:02.799295Z"
    }
   },
   "cell_type": "code",
   "source": "mct.validate()",
   "id": "718847b31fa722b8",
   "outputs": [
    {
     "data": {
      "text/plain": [
       "True"
      ]
     },
     "execution_count": 49,
     "metadata": {},
     "output_type": "execute_result"
    }
   ],
   "execution_count": 49
  },
  {
   "metadata": {
    "ExecuteTime": {
     "end_time": "2024-10-15T00:04:03.428178Z",
     "start_time": "2024-10-15T00:04:02.978327Z"
    }
   },
   "cell_type": "code",
   "source": "mct.submit(\"http://127.0.0.1:5002/upload_mc\")",
   "id": "a1aa6df2d1fcd7b0",
   "outputs": [
    {
     "data": {
      "text/plain": [
       "{'message': 'Successfully uploaded the model card',\n",
       " 'model_card_id': 'ad5123d0-0a23-4803-9c99-3ec66afb85d0'}"
      ]
     },
     "execution_count": 50,
     "metadata": {},
     "output_type": "execute_result"
    }
   ],
   "execution_count": 50
  }
 ],
 "metadata": {
  "kernelspec": {
   "display_name": "Python 3",
   "language": "python",
   "name": "python3"
  },
  "language_info": {
   "codemirror_mode": {
    "name": "ipython",
    "version": 2
   },
   "file_extension": ".py",
   "mimetype": "text/x-python",
   "name": "python",
   "nbconvert_exporter": "python",
   "pygments_lexer": "ipython2",
   "version": "2.7.6"
  }
 },
 "nbformat": 4,
 "nbformat_minor": 5
}
